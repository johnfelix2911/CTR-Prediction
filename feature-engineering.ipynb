{
 "cells": [
  {
   "cell_type": "code",
   "execution_count": 1,
   "metadata": {
    "_cell_guid": "b1076dfc-b9ad-4769-8c92-a6c4dae69d19",
    "_uuid": "8f2839f25d086af736a60e9eeb907d3b93b6e0e5",
    "execution": {
     "iopub.execute_input": "2025-07-10T07:13:52.033922Z",
     "iopub.status.busy": "2025-07-10T07:13:52.033663Z",
     "iopub.status.idle": "2025-07-10T07:13:54.775854Z",
     "shell.execute_reply": "2025-07-10T07:13:54.774226Z",
     "shell.execute_reply.started": "2025-07-10T07:13:52.033898Z"
    }
   },
   "outputs": [],
   "source": [
    "import numpy as np\n",
    "import pandas as pd"
   ]
  },
  {
   "cell_type": "code",
   "execution_count": 2,
   "metadata": {
    "execution": {
     "iopub.execute_input": "2025-07-10T07:14:01.263070Z",
     "iopub.status.busy": "2025-07-10T07:14:01.262664Z",
     "iopub.status.idle": "2025-07-10T07:15:22.805914Z",
     "shell.execute_reply": "2025-07-10T07:15:22.803749Z",
     "shell.execute_reply.started": "2025-07-10T07:14:01.263042Z"
    }
   },
   "outputs": [],
   "source": [
    "train = pd.read_csv('/kaggle/input/ready-for-feat-engg/train_to_feat_engg.csv')\n",
    "test = pd.read_csv('/kaggle/input/ready-for-feat-engg/test_to_feat_engg.csv')"
   ]
  },
  {
   "cell_type": "code",
   "execution_count": 3,
   "metadata": {
    "execution": {
     "iopub.execute_input": "2025-07-10T07:15:22.809748Z",
     "iopub.status.busy": "2025-07-10T07:15:22.809121Z",
     "iopub.status.idle": "2025-07-10T07:16:33.114212Z",
     "shell.execute_reply": "2025-07-10T07:16:33.113118Z",
     "shell.execute_reply.started": "2025-07-10T07:15:22.809670Z"
    }
   },
   "outputs": [],
   "source": [
    "train_anj = pd.read_csv('/kaggle/input/cleaned-by-anjali/train_clean.csv')\n",
    "test_anj = pd.read_csv('/kaggle/input/cleaned-by-anjali/test_clean.csv')"
   ]
  },
  {
   "cell_type": "code",
   "execution_count": 4,
   "metadata": {
    "execution": {
     "iopub.execute_input": "2025-07-10T07:16:33.116496Z",
     "iopub.status.busy": "2025-07-10T07:16:33.116073Z",
     "iopub.status.idle": "2025-07-10T07:16:33.127344Z",
     "shell.execute_reply": "2025-07-10T07:16:33.126196Z",
     "shell.execute_reply.started": "2025-07-10T07:16:33.116452Z"
    }
   },
   "outputs": [
    {
     "data": {
      "text/plain": [
       "(770164, 266)"
      ]
     },
     "execution_count": 4,
     "metadata": {},
     "output_type": "execute_result"
    }
   ],
   "source": [
    "train.shape"
   ]
  },
  {
   "cell_type": "code",
   "execution_count": 5,
   "metadata": {
    "execution": {
     "iopub.execute_input": "2025-07-10T07:16:33.129251Z",
     "iopub.status.busy": "2025-07-10T07:16:33.128851Z",
     "iopub.status.idle": "2025-07-10T07:16:33.159932Z",
     "shell.execute_reply": "2025-07-10T07:16:33.158681Z",
     "shell.execute_reply.started": "2025-07-10T07:16:33.129219Z"
    }
   },
   "outputs": [
    {
     "data": {
      "text/plain": [
       "(770164, 181)"
      ]
     },
     "execution_count": 5,
     "metadata": {},
     "output_type": "execute_result"
    }
   ],
   "source": [
    "train_anj.shape"
   ]
  },
  {
   "cell_type": "code",
   "execution_count": 6,
   "metadata": {
    "execution": {
     "iopub.execute_input": "2025-07-10T07:16:33.163021Z",
     "iopub.status.busy": "2025-07-10T07:16:33.162576Z",
     "iopub.status.idle": "2025-07-10T07:16:41.490320Z",
     "shell.execute_reply": "2025-07-10T07:16:41.489355Z",
     "shell.execute_reply.started": "2025-07-10T07:16:33.162976Z"
    }
   },
   "outputs": [],
   "source": [
    "train.sort_values(by='id1',ascending=True,inplace=True)\n",
    "train_anj.sort_values(by='id1',ascending=True,inplace=True)\n",
    "test.sort_values(by='id1',ascending=True,inplace=True)\n",
    "test_anj.sort_values(by='id1',ascending=True,inplace=True)"
   ]
  },
  {
   "cell_type": "code",
   "execution_count": 7,
   "metadata": {
    "execution": {
     "iopub.execute_input": "2025-07-10T07:16:41.491820Z",
     "iopub.status.busy": "2025-07-10T07:16:41.491435Z",
     "iopub.status.idle": "2025-07-10T07:16:41.684205Z",
     "shell.execute_reply": "2025-07-10T07:16:41.683352Z",
     "shell.execute_reply.started": "2025-07-10T07:16:41.491790Z"
    }
   },
   "outputs": [],
   "source": [
    "lis1 = train['id1'].to_list()\n",
    "lis2 = train_anj['id1'].to_list()\n",
    "for i,j in zip(lis1,lis2):\n",
    "    if i!=j:\n",
    "        print(\"womp womp\")"
   ]
  },
  {
   "cell_type": "code",
   "execution_count": 8,
   "metadata": {
    "execution": {
     "iopub.execute_input": "2025-07-10T07:16:41.685725Z",
     "iopub.status.busy": "2025-07-10T07:16:41.685398Z",
     "iopub.status.idle": "2025-07-10T07:16:41.876580Z",
     "shell.execute_reply": "2025-07-10T07:16:41.875799Z",
     "shell.execute_reply.started": "2025-07-10T07:16:41.685700Z"
    }
   },
   "outputs": [],
   "source": [
    "lis1 = test['id1'].to_list()\n",
    "lis2 = test_anj['id1'].to_list()\n",
    "for i,j in zip(lis1,lis2):\n",
    "    if i!=j:\n",
    "        print(\"womp womp\")"
   ]
  },
  {
   "cell_type": "code",
   "execution_count": 9,
   "metadata": {
    "execution": {
     "iopub.execute_input": "2025-07-10T07:16:41.878007Z",
     "iopub.status.busy": "2025-07-10T07:16:41.877764Z",
     "iopub.status.idle": "2025-07-10T07:16:41.886217Z",
     "shell.execute_reply": "2025-07-10T07:16:41.885059Z",
     "shell.execute_reply.started": "2025-07-10T07:16:41.877984Z"
    }
   },
   "outputs": [
    {
     "name": "stdout",
     "output_type": "stream",
     "text": [
      "['id4', 'f1', 'f2', 'f3', 'f4', 'f5', 'f6', 'f7', 'f8', 'f9', 'f10', 'f11', 'f92', 'f110', 'f152', 'f153', 'f155', 'f156', 'f159', 'f160', 'f165', 'f174', 'f175', 'f176', 'f177', 'f178', 'f181', 'f182', 'f183', 'f184', 'f185', 'f189', 'f205', 'f218', 'f360', 'industry_category', 'time_spent_ratio_180d', 'time_spent_|AMEX|ACQ|_ratio_180d', 'time_spent_|AMEX|LOY|_ratio_180d', 'time_spent_|ESTATEMENT|_ratio_180d', 'time_spent_|MR|_ratio_180d', 'time_spent_|OCE|_ratio_180d', 'time_spent_|TRAVEL|_ratio_180d', 'time_spent_|PREPAID|GIFTCARD|_ratio_180d', 'time_spent_|in none|_ratio_180d', 'decay_ctr_30d', 'decay_ctr_14d', 'time_of_day', 'reward_points', 'weighted_ctr_30d', 'weighted_clicks_30d', 'weighted_imp_30d', 'weighted_merch_ctr_30d', 'imp_ratio_30d', 'f12', 'f43_log', 'f44_log', 'f45_log', 'f46_log', 'f47_log', 'f49_log', 'f51_log', 'ctr_ratio_var_avg', 'Min_Spent', 'Max_Spent', 'Avg_Spent', 'Median_Spent', 'Most_Common_Time', 'Avg_Discount']\n"
     ]
    }
   ],
   "source": [
    "cols=[]\n",
    "for col in train_anj.columns:\n",
    "    if col not in train.columns:\n",
    "        cols.append(col)\n",
    "print(cols)"
   ]
  },
  {
   "cell_type": "code",
   "execution_count": 10,
   "metadata": {
    "execution": {
     "iopub.execute_input": "2025-07-10T07:16:41.887251Z",
     "iopub.status.busy": "2025-07-10T07:16:41.887013Z",
     "iopub.status.idle": "2025-07-10T07:16:44.483578Z",
     "shell.execute_reply": "2025-07-10T07:16:44.482270Z",
     "shell.execute_reply.started": "2025-07-10T07:16:41.887232Z"
    }
   },
   "outputs": [],
   "source": [
    "cols=['industry_category', 'time_spent_ratio_180d', 'time_spent_|AMEX|ACQ|_ratio_180d', 'time_spent_|AMEX|LOY|_ratio_180d', 'time_spent_|ESTATEMENT|_ratio_180d', 'time_spent_|MR|_ratio_180d', 'time_spent_|OCE|_ratio_180d', 'time_spent_|TRAVEL|_ratio_180d', 'time_spent_|PREPAID|GIFTCARD|_ratio_180d', 'time_spent_|in none|_ratio_180d', 'decay_ctr_30d', 'decay_ctr_14d', 'time_of_day', 'reward_points', 'weighted_ctr_30d', 'weighted_clicks_30d', 'weighted_imp_30d', 'weighted_merch_ctr_30d', 'imp_ratio_30d', 'f12', 'f43_log', 'f44_log', 'f45_log', 'f46_log', 'f47_log', 'f49_log', 'f51_log', 'ctr_ratio_var_avg', 'Min_Spent', 'Max_Spent', 'Avg_Spent', 'Median_Spent', 'Most_Common_Time', 'Avg_Discount']\n",
    "train[cols] = train_anj[cols].copy()\n",
    "test[cols] = test_anj[cols].copy()"
   ]
  },
  {
   "cell_type": "code",
   "execution_count": 11,
   "metadata": {
    "execution": {
     "iopub.execute_input": "2025-07-10T07:16:44.485950Z",
     "iopub.status.busy": "2025-07-10T07:16:44.485373Z",
     "iopub.status.idle": "2025-07-10T07:16:45.850303Z",
     "shell.execute_reply": "2025-07-10T07:16:45.849184Z",
     "shell.execute_reply.started": "2025-07-10T07:16:44.485903Z"
    }
   },
   "outputs": [
    {
     "data": {
      "text/plain": [
       "Index(['Min_Spent', 'Max_Spent', 'Avg_Spent', 'Median_Spent',\n",
       "       'Most_Common_Time', 'Avg_Discount'],\n",
       "      dtype='object')"
      ]
     },
     "execution_count": 11,
     "metadata": {},
     "output_type": "execute_result"
    }
   ],
   "source": [
    "train.columns[train.isnull().any()]"
   ]
  },
  {
   "cell_type": "code",
   "execution_count": 12,
   "metadata": {
    "execution": {
     "iopub.execute_input": "2025-07-10T07:16:45.854775Z",
     "iopub.status.busy": "2025-07-10T07:16:45.854399Z",
     "iopub.status.idle": "2025-07-10T07:16:46.581352Z",
     "shell.execute_reply": "2025-07-10T07:16:46.579990Z",
     "shell.execute_reply.started": "2025-07-10T07:16:45.854747Z"
    }
   },
   "outputs": [
    {
     "data": {
      "text/plain": [
       "Index(['offer_ctr', 'industry_category', 'decay_ctr_30d', 'decay_ctr_14d',\n",
       "       'Min_Spent', 'Max_Spent', 'Avg_Spent', 'Median_Spent',\n",
       "       'Most_Common_Time', 'Avg_Discount'],\n",
       "      dtype='object')"
      ]
     },
     "execution_count": 12,
     "metadata": {},
     "output_type": "execute_result"
    }
   ],
   "source": [
    "test.columns[test.isnull().any()]"
   ]
  },
  {
   "cell_type": "code",
   "execution_count": 13,
   "metadata": {
    "execution": {
     "iopub.execute_input": "2025-07-10T07:16:46.582999Z",
     "iopub.status.busy": "2025-07-10T07:16:46.582584Z",
     "iopub.status.idle": "2025-07-10T07:16:46.687821Z",
     "shell.execute_reply": "2025-07-10T07:16:46.686799Z",
     "shell.execute_reply.started": "2025-07-10T07:16:46.582959Z"
    }
   },
   "outputs": [],
   "source": [
    "train[['Avg_Discount','Median_Spent','Avg_Spent','Max_Spent','Min_Spent']]=train[['Avg_Discount','Median_Spent','Avg_Spent','Max_Spent','Min_Spent']].fillna(0)\n",
    "test[['Avg_Discount','Median_Spent','Avg_Spent','Max_Spent','Min_Spent']]=test[['Avg_Discount','Median_Spent','Avg_Spent','Max_Spent','Min_Spent']].fillna(0)"
   ]
  },
  {
   "cell_type": "code",
   "execution_count": 14,
   "metadata": {
    "execution": {
     "iopub.execute_input": "2025-07-10T07:16:46.689803Z",
     "iopub.status.busy": "2025-07-10T07:16:46.688901Z",
     "iopub.status.idle": "2025-07-10T07:16:46.791106Z",
     "shell.execute_reply": "2025-07-10T07:16:46.789918Z",
     "shell.execute_reply.started": "2025-07-10T07:16:46.689765Z"
    }
   },
   "outputs": [],
   "source": [
    "train['Most_Common_Time'] = train['Most_Common_Time'].fillna(\"__missing__\")\n",
    "test['Most_Common_Time'] = test['Most_Common_Time'].fillna(\"__missing__\")"
   ]
  },
  {
   "cell_type": "code",
   "execution_count": 15,
   "metadata": {
    "execution": {
     "iopub.execute_input": "2025-07-10T07:16:46.792923Z",
     "iopub.status.busy": "2025-07-10T07:16:46.792536Z",
     "iopub.status.idle": "2025-07-10T07:16:48.111179Z",
     "shell.execute_reply": "2025-07-10T07:16:48.110283Z",
     "shell.execute_reply.started": "2025-07-10T07:16:46.792894Z"
    }
   },
   "outputs": [
    {
     "data": {
      "text/plain": [
       "False"
      ]
     },
     "execution_count": 15,
     "metadata": {},
     "output_type": "execute_result"
    }
   ],
   "source": [
    "train.isnull().any().any()"
   ]
  },
  {
   "cell_type": "code",
   "execution_count": 16,
   "metadata": {
    "execution": {
     "iopub.execute_input": "2025-07-10T07:16:48.113020Z",
     "iopub.status.busy": "2025-07-10T07:16:48.112748Z",
     "iopub.status.idle": "2025-07-10T07:16:48.855030Z",
     "shell.execute_reply": "2025-07-10T07:16:48.853815Z",
     "shell.execute_reply.started": "2025-07-10T07:16:48.112999Z"
    }
   },
   "outputs": [
    {
     "data": {
      "text/plain": [
       "True"
      ]
     },
     "execution_count": 16,
     "metadata": {},
     "output_type": "execute_result"
    }
   ],
   "source": [
    "test.isnull().any().any()"
   ]
  },
  {
   "cell_type": "code",
   "execution_count": 17,
   "metadata": {
    "execution": {
     "iopub.execute_input": "2025-07-10T07:16:48.856766Z",
     "iopub.status.busy": "2025-07-10T07:16:48.856383Z",
     "iopub.status.idle": "2025-07-10T07:16:49.520170Z",
     "shell.execute_reply": "2025-07-10T07:16:49.519119Z",
     "shell.execute_reply.started": "2025-07-10T07:16:48.856733Z"
    }
   },
   "outputs": [
    {
     "data": {
      "text/plain": [
       "Index(['offer_ctr', 'industry_category', 'decay_ctr_30d', 'decay_ctr_14d'], dtype='object')"
      ]
     },
     "execution_count": 17,
     "metadata": {},
     "output_type": "execute_result"
    }
   ],
   "source": [
    "test.columns[test.isnull().any()]"
   ]
  },
  {
   "cell_type": "code",
   "execution_count": 18,
   "metadata": {
    "execution": {
     "iopub.execute_input": "2025-07-10T07:16:49.521921Z",
     "iopub.status.busy": "2025-07-10T07:16:49.521474Z",
     "iopub.status.idle": "2025-07-10T07:16:49.569667Z",
     "shell.execute_reply": "2025-07-10T07:16:49.568738Z",
     "shell.execute_reply.started": "2025-07-10T07:16:49.521891Z"
    }
   },
   "outputs": [],
   "source": [
    "test['offer_ctr'] = test['offer_ctr'].fillna(0)\n",
    "test['industry_category'] = test['industry_category'].fillna('__missing__')\n",
    "test['decay_ctr_30d'] = test['decay_ctr_30d'].fillna(0)\n",
    "test['decay_ctr_14d'] = test['decay_ctr_14d'].fillna(0)"
   ]
  },
  {
   "cell_type": "code",
   "execution_count": 19,
   "metadata": {
    "execution": {
     "iopub.execute_input": "2025-07-10T07:16:49.571038Z",
     "iopub.status.busy": "2025-07-10T07:16:49.570729Z",
     "iopub.status.idle": "2025-07-10T07:16:50.246256Z",
     "shell.execute_reply": "2025-07-10T07:16:50.245247Z",
     "shell.execute_reply.started": "2025-07-10T07:16:49.571012Z"
    }
   },
   "outputs": [
    {
     "data": {
      "text/plain": [
       "False"
      ]
     },
     "execution_count": 19,
     "metadata": {},
     "output_type": "execute_result"
    }
   ],
   "source": [
    "test.isnull().any().any()"
   ]
  },
  {
   "cell_type": "code",
   "execution_count": 20,
   "metadata": {
    "execution": {
     "iopub.execute_input": "2025-07-10T07:16:50.247571Z",
     "iopub.status.busy": "2025-07-10T07:16:50.247207Z",
     "iopub.status.idle": "2025-07-10T07:16:50.261780Z",
     "shell.execute_reply": "2025-07-10T07:16:50.260626Z",
     "shell.execute_reply.started": "2025-07-10T07:16:50.247548Z"
    }
   },
   "outputs": [],
   "source": [
    "label = pd.read_csv('/kaggle/input/ready-for-feat-engg/updated_labels2.csv')"
   ]
  },
  {
   "cell_type": "code",
   "execution_count": 21,
   "metadata": {
    "execution": {
     "iopub.execute_input": "2025-07-10T07:16:50.263162Z",
     "iopub.status.busy": "2025-07-10T07:16:50.262842Z",
     "iopub.status.idle": "2025-07-10T07:16:50.274917Z",
     "shell.execute_reply": "2025-07-10T07:16:50.273704Z",
     "shell.execute_reply.started": "2025-07-10T07:16:50.263134Z"
    }
   },
   "outputs": [
    {
     "name": "stdout",
     "output_type": "stream",
     "text": [
      "industry_category\n",
      "time_spent_ratio_180d\n",
      "time_spent_|AMEX|ACQ|_ratio_180d\n",
      "time_spent_|AMEX|LOY|_ratio_180d\n",
      "time_spent_|ESTATEMENT|_ratio_180d\n",
      "time_spent_|MR|_ratio_180d\n",
      "time_spent_|OCE|_ratio_180d\n",
      "time_spent_|TRAVEL|_ratio_180d\n",
      "time_spent_|PREPAID|GIFTCARD|_ratio_180d\n",
      "time_spent_|in none|_ratio_180d\n",
      "decay_ctr_30d\n",
      "decay_ctr_14d\n",
      "time_of_day\n",
      "reward_points\n",
      "weighted_ctr_30d\n",
      "weighted_clicks_30d\n",
      "weighted_imp_30d\n",
      "weighted_merch_ctr_30d\n",
      "imp_ratio_30d\n",
      "f12\n",
      "f43_log\n",
      "f44_log\n",
      "f45_log\n",
      "f46_log\n",
      "f47_log\n",
      "f49_log\n",
      "f51_log\n",
      "ctr_ratio_var_avg\n",
      "Min_Spent\n",
      "Max_Spent\n",
      "Avg_Spent\n",
      "Median_Spent\n",
      "Most_Common_Time\n",
      "Avg_Discount\n"
     ]
    }
   ],
   "source": [
    "cols=[]\n",
    "for col in train.columns:\n",
    "    if col not in label['masked_column'].to_list():\n",
    "        print(col)\n",
    "        cols.append(col)"
   ]
  },
  {
   "cell_type": "code",
   "execution_count": 22,
   "metadata": {
    "execution": {
     "iopub.execute_input": "2025-07-10T07:16:50.276359Z",
     "iopub.status.busy": "2025-07-10T07:16:50.276056Z",
     "iopub.status.idle": "2025-07-10T07:16:50.295605Z",
     "shell.execute_reply": "2025-07-10T07:16:50.294572Z",
     "shell.execute_reply.started": "2025-07-10T07:16:50.276329Z"
    }
   },
   "outputs": [],
   "source": [
    "desc=cols.copy()\n",
    "types=['Categorical','Numerical','Numerical','Numerical','Numerical','Numerical','Numerical','Numerical','Numerical','Numerical',\n",
    "       'Numerical','Numerical','Categorical','Numerical','Numerical','Numerical','Numerical','Numerical','Numerical','Numerical',\n",
    "      'Numerical','Numerical','Numerical','Numerical','Numerical','Numerical','Numerical','Numerical','Numerical','Numerical',\n",
    "       'Numerical','Numerical','Categorical','Numerical']"
   ]
  },
  {
   "cell_type": "code",
   "execution_count": 23,
   "metadata": {
    "execution": {
     "iopub.execute_input": "2025-07-10T07:16:50.297311Z",
     "iopub.status.busy": "2025-07-10T07:16:50.297008Z",
     "iopub.status.idle": "2025-07-10T07:16:50.315784Z",
     "shell.execute_reply": "2025-07-10T07:16:50.314715Z",
     "shell.execute_reply.started": "2025-07-10T07:16:50.297284Z"
    }
   },
   "outputs": [
    {
     "name": "stdout",
     "output_type": "stream",
     "text": [
      "industry_category  :  Categorical\n",
      "time_spent_ratio_180d  :  Numerical\n",
      "time_spent_|AMEX|ACQ|_ratio_180d  :  Numerical\n",
      "time_spent_|AMEX|LOY|_ratio_180d  :  Numerical\n",
      "time_spent_|ESTATEMENT|_ratio_180d  :  Numerical\n",
      "time_spent_|MR|_ratio_180d  :  Numerical\n",
      "time_spent_|OCE|_ratio_180d  :  Numerical\n",
      "time_spent_|TRAVEL|_ratio_180d  :  Numerical\n",
      "time_spent_|PREPAID|GIFTCARD|_ratio_180d  :  Numerical\n",
      "time_spent_|in none|_ratio_180d  :  Numerical\n",
      "decay_ctr_30d  :  Numerical\n",
      "decay_ctr_14d  :  Numerical\n",
      "time_of_day  :  Categorical\n",
      "reward_points  :  Numerical\n",
      "weighted_ctr_30d  :  Numerical\n",
      "weighted_clicks_30d  :  Numerical\n",
      "weighted_imp_30d  :  Numerical\n",
      "weighted_merch_ctr_30d  :  Numerical\n",
      "imp_ratio_30d  :  Numerical\n",
      "f12  :  Numerical\n",
      "f43_log  :  Numerical\n",
      "f44_log  :  Numerical\n",
      "f45_log  :  Numerical\n",
      "f46_log  :  Numerical\n",
      "f47_log  :  Numerical\n",
      "f49_log  :  Numerical\n",
      "f51_log  :  Numerical\n",
      "ctr_ratio_var_avg  :  Numerical\n",
      "Min_Spent  :  Numerical\n",
      "Max_Spent  :  Numerical\n",
      "Avg_Spent  :  Numerical\n",
      "Median_Spent  :  Numerical\n",
      "Most_Common_Time  :  Categorical\n",
      "Avg_Discount  :  Numerical\n"
     ]
    }
   ],
   "source": [
    "for col,ty in zip(cols,types):\n",
    "    print(col,\" : \",ty)"
   ]
  },
  {
   "cell_type": "code",
   "execution_count": 24,
   "metadata": {
    "execution": {
     "iopub.execute_input": "2025-07-10T07:16:50.317150Z",
     "iopub.status.busy": "2025-07-10T07:16:50.316828Z",
     "iopub.status.idle": "2025-07-10T07:16:50.338626Z",
     "shell.execute_reply": "2025-07-10T07:16:50.337704Z",
     "shell.execute_reply.started": "2025-07-10T07:16:50.317119Z"
    }
   },
   "outputs": [],
   "source": [
    "to_add = pd.DataFrame({'masked_column':cols,'Description':desc,'Type':types})\n",
    "label = pd.concat([label,to_add],axis=0)"
   ]
  },
  {
   "cell_type": "code",
   "execution_count": 25,
   "metadata": {
    "execution": {
     "iopub.execute_input": "2025-07-10T07:16:50.340175Z",
     "iopub.status.busy": "2025-07-10T07:16:50.339853Z",
     "iopub.status.idle": "2025-07-10T07:16:50.364605Z",
     "shell.execute_reply": "2025-07-10T07:16:50.363441Z",
     "shell.execute_reply.started": "2025-07-10T07:16:50.340145Z"
    }
   },
   "outputs": [],
   "source": [
    "for col in train.columns:\n",
    "    if col not in label['masked_column'].to_list():\n",
    "        print(col)"
   ]
  },
  {
   "cell_type": "code",
   "execution_count": 26,
   "metadata": {
    "execution": {
     "iopub.execute_input": "2025-07-10T07:16:50.366502Z",
     "iopub.status.busy": "2025-07-10T07:16:50.365899Z",
     "iopub.status.idle": "2025-07-10T07:18:41.278263Z",
     "shell.execute_reply": "2025-07-10T07:18:41.277108Z",
     "shell.execute_reply.started": "2025-07-10T07:16:50.366470Z"
    }
   },
   "outputs": [],
   "source": [
    "num_cols = label[label['Type']=='Numerical']['masked_column'].to_list()\n",
    "num_cols.remove('id5')\n",
    "corr_matrix = train[num_cols].corr()"
   ]
  },
  {
   "cell_type": "code",
   "execution_count": 27,
   "metadata": {
    "execution": {
     "iopub.execute_input": "2025-07-10T07:18:41.279839Z",
     "iopub.status.busy": "2025-07-10T07:18:41.279456Z",
     "iopub.status.idle": "2025-07-10T07:18:41.531230Z",
     "shell.execute_reply": "2025-07-10T07:18:41.530111Z",
     "shell.execute_reply.started": "2025-07-10T07:18:41.279810Z"
    }
   },
   "outputs": [],
   "source": [
    "cols = num_cols.copy()\n",
    "def find_col(col):\n",
    "    for pos in range(len(lis)):\n",
    "        if col in lis[pos]:\n",
    "            return pos\n",
    "\n",
    "check = {}\n",
    "for col in cols:\n",
    "    check[col]=0\n",
    "lis=[]\n",
    "for i in range(len(cols)):\n",
    "    for j in range(len(cols)):\n",
    "        if i!=j:\n",
    "            if abs(corr_matrix[cols[i]][cols[j]])>=0.85:\n",
    "                if check[cols[i]]==0 and check[cols[j]]==0:\n",
    "                    lis.append([cols[i],cols[j]])\n",
    "                    check[cols[i]]=1\n",
    "                    check[cols[j]]=1\n",
    "                elif check[cols[i]]==0:\n",
    "                    pos = find_col(cols[j])\n",
    "                    lis[pos].append(cols[i])\n",
    "                    check[cols[i]]=1\n",
    "                    check[cols[j]]=1\n",
    "                elif check[cols[j]]==0:\n",
    "                    pos = find_col(cols[i])\n",
    "                    lis[pos].append(cols[j])\n",
    "                    check[cols[i]]=1\n",
    "                    check[cols[j]]=1\n",
    "                else:\n",
    "                    continue\n",
    "                    # it will be handled in the next correlation matrix"
   ]
  },
  {
   "cell_type": "code",
   "execution_count": 28,
   "metadata": {
    "execution": {
     "iopub.execute_input": "2025-07-10T07:18:41.532594Z",
     "iopub.status.busy": "2025-07-10T07:18:41.532258Z",
     "iopub.status.idle": "2025-07-10T07:18:41.569246Z",
     "shell.execute_reply": "2025-07-10T07:18:41.568238Z",
     "shell.execute_reply.started": "2025-07-10T07:18:41.532574Z"
    }
   },
   "outputs": [
    {
     "name": "stdout",
     "output_type": "stream",
     "text": [
      "Cumulative impressions (with decaying weights for impressions in the past) of a cust_xref_id for a merchant offer in the last 30 days \n",
      "No. of impressions for a CM in the last 14 days where past impressions get decaying weights\n",
      "No of impressions for a CM in the last 30 days where impressions days get decaying weights\n",
      "\n",
      "Spend in Restaurant in the last 3 months\n",
      "context variable fetched in real time where this is Number of seconds after 00:00 hrs \n",
      "\n",
      "Total time spent on all pages in the last 30 days\n",
      "Total time spent on pages NOT IN ANY OF THE ABOVE ONES in the last 30 days\n",
      "\n",
      "Total time spent on all pages in the last 180 days\n",
      "Total time spent in pages NOT IN ANY OF THE ABOVE ONES in the last 180 days\n",
      "\n",
      "If offer type benefit awareness then impressions  in last 180 days\n",
      "If offer type Acquisition-Others then impressions in last 180 days\n",
      "If offer type Lending/TLI then impressions in last 180 days\n",
      "Total impressions in all non-merchant categories for a CM in the last 180 days\n",
      "No of clicks for a CM in the last 30 days where past clicks get decaying weights\n",
      "No of impressions for a CM in the last 30 days where past impressions get decaying weights\n",
      "No of clicks for a CM in the last 14 days where past clicks get decaying weights\n",
      "No. of impressions for a CM in the last 14 days where past impressions get decaying weights\n",
      "If offer type Acquisition-MGM then impressions in last 180 days\n",
      "\n",
      "Number of clicks for category dining in last 60 days\n",
      "Number of clicks for category entertainment in last 60 days\n",
      "Number of clicks for category shopping in last 60 days\n",
      "Number of clicks for category services in last 60 days\n",
      "Number of clicks for category  services in last 60 days\n",
      "No of clicks for a CM in the last 30 days where past clicks get decaying weights\n",
      "No of clicks for a CM in the last 14 days where past clicks get decaying weights\n",
      "\n",
      "CTR in last 60 days  for offer type dining\n",
      "CTR in last 60 days for offer type shopping\n",
      "CTR in last 60 days  for offer type servicing\n",
      "CTR in last 60 days for all merchant offer types\n",
      "CTR in last 30 days for all merchant offer types\n",
      "\n",
      "Number of debit transactions in Retail category for last 180 days\n",
      "Total number of debit transactons in the last 180 days\n",
      "\n",
      "CM impressions on an offer with same merchant in first 7 days of that offer\n",
      "CM impressions on an offer with same merchant in first 14 days of that offer\n",
      "\n",
      "Min Spend required to qualify for the DOE Offer\n",
      "Value of discount on the merchant offer\n",
      "\n",
      "Last 1 day CTR\n",
      "Last 3 days CTR\n",
      "CTR in Last 7 days\n",
      "Impressions last 1 day\n",
      "Impressions last 3 days\n",
      "Impressions in last 7 days\n",
      "Ratio of ctr in last 1 day to ctr in last 3 days\n",
      "No of impressions on the offer (in last 3 days)\n",
      "\n",
      "Last 14 days CTR\n",
      "last 30 days CTR\n",
      "\n",
      "Clicks in last 1 day\n",
      "Clicks in last 3 days\n",
      "Clicks in last 7 days\n",
      "Clicks in last 14 days\n",
      "Impressions last 14 days\n",
      "Clicks in last 30 days\n",
      "Impressions last 30 days\n",
      "\n",
      "Redemption mode is Online\n",
      "Redemption mode is in-store\n",
      "\n",
      "CTR in the last 3 days on an offer with same merchant\n",
      "CTR in the last 7 days on an offer with same merchant\n",
      "CTR in the last 14 days on an offer with same merchant\n",
      "CTR in the last 30 days on an offer with same merchant\n",
      "\n",
      "Exponential Recovery on Age(Days since launch of offer)\n",
      "Vertical Asymptote on Age\n",
      "Hyperbolic Function of Age \n",
      "Hyperbolic Function of Click Through Rate\n",
      "\n",
      "time_spent_ratio_180d\n",
      "time_spent_|in none|_ratio_180d\n",
      "\n",
      "weighted_clicks_30d\n",
      "weighted_imp_30d\n",
      "\n",
      "f46_log\n",
      "f47_log\n",
      "\n"
     ]
    }
   ],
   "source": [
    "for l in lis:\n",
    "    for col in l:\n",
    "        print(label[label['masked_column']==col]['Description'].to_list()[0])\n",
    "    print()"
   ]
  },
  {
   "cell_type": "code",
   "execution_count": 29,
   "metadata": {
    "execution": {
     "iopub.execute_input": "2025-07-10T07:18:41.570948Z",
     "iopub.status.busy": "2025-07-10T07:18:41.570397Z",
     "iopub.status.idle": "2025-07-10T07:27:32.291820Z",
     "shell.execute_reply": "2025-07-10T07:27:32.290694Z",
     "shell.execute_reply.started": "2025-07-10T07:18:41.570921Z"
    }
   },
   "outputs": [],
   "source": [
    "from sklearn.preprocessing import LabelEncoder\n",
    "from sklearn.feature_selection import mutual_info_classif\n",
    "dropped=[]\n",
    "for l in lis:\n",
    "    cols=l.copy()\n",
    "    if label[label['masked_column']==cols[0]]['Type'].to_list()[0]=='Numerical':\n",
    "        X = train[cols].copy()\n",
    "        y = train['y']\n",
    "        mi_scores = mutual_info_classif(X,y,discrete_features=False,random_state=42)\n",
    "        maxi=0\n",
    "        copy = cols.copy()\n",
    "        for col,score in zip(copy,mi_scores):\n",
    "            if score>maxi:\n",
    "                maxi=score\n",
    "                keep=col\n",
    "        cols.remove(keep)\n",
    "        dropped.extend(cols)\n",
    "    elif label[label['masked_column']==cols[0]]['Type'].to_list()[0]=='Categorical':\n",
    "        X = train[cols].copy()\n",
    "        y = train['y']\n",
    "        for col in X.columns:\n",
    "            X[col] = LabelEncoder().fit_transform(X[col])\n",
    "        mi_scores = mutual_info_classif(X,y,discrete_features=True,random_state=42)\n",
    "        maxi=0\n",
    "        copy = cols.copy()\n",
    "        for col,score in zip(copy,mi_scores):\n",
    "            if score>maxi:\n",
    "                maxi=score\n",
    "                keep=col\n",
    "        cols.remove(keep)\n",
    "        dropped.extend(cols)"
   ]
  },
  {
   "cell_type": "code",
   "execution_count": 30,
   "metadata": {
    "execution": {
     "iopub.execute_input": "2025-07-10T07:27:32.297326Z",
     "iopub.status.busy": "2025-07-10T07:27:32.296526Z",
     "iopub.status.idle": "2025-07-10T07:27:33.566805Z",
     "shell.execute_reply": "2025-07-10T07:27:33.565811Z",
     "shell.execute_reply.started": "2025-07-10T07:27:32.297287Z"
    }
   },
   "outputs": [],
   "source": [
    "train.drop(columns=dropped,inplace=True)\n",
    "test.drop(columns=dropped,inplace=True)"
   ]
  },
  {
   "cell_type": "code",
   "execution_count": 31,
   "metadata": {
    "execution": {
     "iopub.execute_input": "2025-07-10T07:27:33.568231Z",
     "iopub.status.busy": "2025-07-10T07:27:33.567968Z",
     "iopub.status.idle": "2025-07-10T07:27:33.575111Z",
     "shell.execute_reply": "2025-07-10T07:27:33.574180Z",
     "shell.execute_reply.started": "2025-07-10T07:27:33.568210Z"
    }
   },
   "outputs": [
    {
     "data": {
      "text/plain": [
       "(770164, 250)"
      ]
     },
     "execution_count": 31,
     "metadata": {},
     "output_type": "execute_result"
    }
   ],
   "source": [
    "train.shape"
   ]
  },
  {
   "cell_type": "code",
   "execution_count": 32,
   "metadata": {
    "execution": {
     "iopub.execute_input": "2025-07-10T07:27:33.576562Z",
     "iopub.status.busy": "2025-07-10T07:27:33.576197Z",
     "iopub.status.idle": "2025-07-10T07:27:33.600088Z",
     "shell.execute_reply": "2025-07-10T07:27:33.598809Z",
     "shell.execute_reply.started": "2025-07-10T07:27:33.576533Z"
    }
   },
   "outputs": [
    {
     "data": {
      "text/plain": [
       "(369301, 249)"
      ]
     },
     "execution_count": 32,
     "metadata": {},
     "output_type": "execute_result"
    }
   ],
   "source": [
    "test.shape"
   ]
  },
  {
   "cell_type": "code",
   "execution_count": 33,
   "metadata": {
    "execution": {
     "iopub.execute_input": "2025-07-10T07:27:33.601668Z",
     "iopub.status.busy": "2025-07-10T07:27:33.601318Z",
     "iopub.status.idle": "2025-07-10T07:33:09.062309Z",
     "shell.execute_reply": "2025-07-10T07:33:09.061324Z",
     "shell.execute_reply.started": "2025-07-10T07:27:33.601604Z"
    }
   },
   "outputs": [],
   "source": [
    "train.to_csv('train_done.csv',index=False)\n",
    "test.to_csv('test_done.csv',index=False)"
   ]
  },
  {
   "cell_type": "code",
   "execution_count": 1,
   "metadata": {
    "execution": {
     "iopub.execute_input": "2025-07-10T08:36:41.319907Z",
     "iopub.status.busy": "2025-07-10T08:36:41.319611Z",
     "iopub.status.idle": "2025-07-10T08:36:41.389785Z",
     "shell.execute_reply": "2025-07-10T08:36:41.388515Z",
     "shell.execute_reply.started": "2025-07-10T08:36:41.319879Z"
    }
   },
   "outputs": [
    {
     "ename": "NameError",
     "evalue": "name 'label' is not defined",
     "output_type": "error",
     "traceback": [
      "\u001b[0;31m---------------------------------------------------------------------------\u001b[0m",
      "\u001b[0;31mNameError\u001b[0m                                 Traceback (most recent call last)",
      "\u001b[0;32m/tmp/ipykernel_36/1467761132.py\u001b[0m in \u001b[0;36m<cell line: 0>\u001b[0;34m()\u001b[0m\n\u001b[0;32m----> 1\u001b[0;31m \u001b[0mlabel\u001b[0m \u001b[0;34m=\u001b[0m \u001b[0mlabel\u001b[0m\u001b[0;34m[\u001b[0m\u001b[0mlabel\u001b[0m\u001b[0;34m[\u001b[0m\u001b[0;34m'masked_column'\u001b[0m\u001b[0;34m]\u001b[0m\u001b[0;34m.\u001b[0m\u001b[0misin\u001b[0m\u001b[0;34m(\u001b[0m\u001b[0mtrain\u001b[0m\u001b[0;34m.\u001b[0m\u001b[0mcolumns\u001b[0m\u001b[0;34m)\u001b[0m\u001b[0;34m]\u001b[0m\u001b[0;34m\u001b[0m\u001b[0;34m\u001b[0m\u001b[0m\n\u001b[0m\u001b[1;32m      2\u001b[0m \u001b[0mlabel\u001b[0m\u001b[0;34m.\u001b[0m\u001b[0mto_csv\u001b[0m\u001b[0;34m(\u001b[0m\u001b[0;34m'final_labels.csv'\u001b[0m\u001b[0;34m,\u001b[0m\u001b[0mindex\u001b[0m\u001b[0;34m=\u001b[0m\u001b[0;32mFalse\u001b[0m\u001b[0;34m)\u001b[0m\u001b[0;34m\u001b[0m\u001b[0;34m\u001b[0m\u001b[0m\n",
      "\u001b[0;31mNameError\u001b[0m: name 'label' is not defined"
     ]
    }
   ],
   "source": [
    "label = label[label['masked_column'].isin(train.columns)]\n",
    "label.to_csv('final_labels.csv',index=False)"
   ]
  },
  {
   "cell_type": "code",
   "execution_count": null,
   "metadata": {},
   "outputs": [],
   "source": []
  }
 ],
 "metadata": {
  "jupytext": {
   "formats": "ipynb,auto:light"
  },
  "kaggle": {
   "accelerator": "none",
   "dataSources": [
    {
     "datasetId": 7830994,
     "sourceId": 12416666,
     "sourceType": "datasetVersion"
    },
    {
     "datasetId": 7835824,
     "sourceId": 12423308,
     "sourceType": "datasetVersion"
    }
   ],
   "dockerImageVersionId": 31089,
   "isGpuEnabled": false,
   "isInternetEnabled": false,
   "language": "python",
   "sourceType": "notebook"
  },
  "kernelspec": {
   "display_name": "Python 3 (ipykernel)",
   "language": "python",
   "name": "python3"
  },
  "language_info": {
   "codemirror_mode": {
    "name": "ipython",
    "version": 3
   },
   "file_extension": ".py",
   "mimetype": "text/x-python",
   "name": "python",
   "nbconvert_exporter": "python",
   "pygments_lexer": "ipython3",
   "version": "3.12.3"
  }
 },
 "nbformat": 4,
 "nbformat_minor": 4
}
