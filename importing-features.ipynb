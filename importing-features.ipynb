{
 "cells": [
  {
   "cell_type": "code",
   "execution_count": 1,
   "metadata": {
    "_cell_guid": "b1076dfc-b9ad-4769-8c92-a6c4dae69d19",
    "_uuid": "8f2839f25d086af736a60e9eeb907d3b93b6e0e5",
    "execution": {
     "iopub.execute_input": "2025-07-10T04:06:27.426156Z",
     "iopub.status.busy": "2025-07-10T04:06:27.425697Z",
     "iopub.status.idle": "2025-07-10T04:06:30.178551Z",
     "shell.execute_reply": "2025-07-10T04:06:30.177460Z",
     "shell.execute_reply.started": "2025-07-10T04:06:27.426129Z"
    }
   },
   "outputs": [],
   "source": [
    "import numpy as np\n",
    "import pandas as pd"
   ]
  },
  {
   "cell_type": "code",
   "execution_count": 2,
   "metadata": {
    "execution": {
     "iopub.execute_input": "2025-07-10T04:06:36.956107Z",
     "iopub.status.busy": "2025-07-10T04:06:36.955666Z",
     "iopub.status.idle": "2025-07-10T04:06:37.013503Z",
     "shell.execute_reply": "2025-07-10T04:06:37.012535Z",
     "shell.execute_reply.started": "2025-07-10T04:06:36.956082Z"
    }
   },
   "outputs": [],
   "source": [
    "offer = pd.read_csv('/kaggle/input/addtional-data/offer_metadata_converted_to_.csv')"
   ]
  },
  {
   "cell_type": "code",
   "execution_count": 3,
   "metadata": {
    "execution": {
     "iopub.execute_input": "2025-07-10T04:06:38.265032Z",
     "iopub.status.busy": "2025-07-10T04:06:38.264667Z",
     "iopub.status.idle": "2025-07-10T04:07:51.737089Z",
     "shell.execute_reply": "2025-07-10T04:07:51.735909Z",
     "shell.execute_reply.started": "2025-07-10T04:06:38.265005Z"
    }
   },
   "outputs": [],
   "source": [
    "test = pd.read_csv('/kaggle/input/to-import-features/test_cut_down.csv')\n",
    "train = pd.read_csv('/kaggle/input/to-import-features/train_cut_down.csv')"
   ]
  },
  {
   "cell_type": "code",
   "execution_count": 4,
   "metadata": {
    "execution": {
     "iopub.execute_input": "2025-07-10T04:11:32.307312Z",
     "iopub.status.busy": "2025-07-10T04:11:32.306402Z",
     "iopub.status.idle": "2025-07-10T04:11:32.338192Z",
     "shell.execute_reply": "2025-07-10T04:11:32.336919Z",
     "shell.execute_reply.started": "2025-07-10T04:11:32.307262Z"
    }
   },
   "outputs": [],
   "source": [
    "offer.drop(columns=['Unnamed: 0','id9','f377','f374','id11'],inplace=True)"
   ]
  },
  {
   "cell_type": "code",
   "execution_count": 5,
   "metadata": {
    "execution": {
     "iopub.execute_input": "2025-07-10T04:11:40.719329Z",
     "iopub.status.busy": "2025-07-10T04:11:40.718959Z",
     "iopub.status.idle": "2025-07-10T04:11:40.729781Z",
     "shell.execute_reply": "2025-07-10T04:11:40.728817Z",
     "shell.execute_reply.started": "2025-07-10T04:11:40.719303Z"
    }
   },
   "outputs": [],
   "source": [
    "offer['f376'] = offer['f376'].fillna(0)\n",
    "offer['id8'] = offer['id8'].fillna(10000000)"
   ]
  },
  {
   "cell_type": "code",
   "execution_count": 6,
   "metadata": {
    "execution": {
     "iopub.execute_input": "2025-07-10T04:11:41.253235Z",
     "iopub.status.busy": "2025-07-10T04:11:41.252849Z",
     "iopub.status.idle": "2025-07-10T04:11:41.264553Z",
     "shell.execute_reply": "2025-07-10T04:11:41.263176Z",
     "shell.execute_reply.started": "2025-07-10T04:11:41.253208Z"
    }
   },
   "outputs": [
    {
     "data": {
      "text/plain": [
       "False"
      ]
     },
     "execution_count": 6,
     "metadata": {},
     "output_type": "execute_result"
    }
   ],
   "source": [
    "offer.isnull().any().any()"
   ]
  },
  {
   "cell_type": "code",
   "execution_count": 7,
   "metadata": {
    "execution": {
     "iopub.execute_input": "2025-07-10T04:11:44.279201Z",
     "iopub.status.busy": "2025-07-10T04:11:44.278825Z",
     "iopub.status.idle": "2025-07-10T04:11:45.637786Z",
     "shell.execute_reply": "2025-07-10T04:11:45.636632Z",
     "shell.execute_reply.started": "2025-07-10T04:11:44.279177Z"
    }
   },
   "outputs": [],
   "source": [
    "train = train.merge(offer, on='id3', how='left')\n",
    "test = test.merge(offer,on='id3',how='left')"
   ]
  },
  {
   "cell_type": "code",
   "execution_count": 8,
   "metadata": {
    "execution": {
     "iopub.execute_input": "2025-07-10T04:11:46.844912Z",
     "iopub.status.busy": "2025-07-10T04:11:46.844566Z",
     "iopub.status.idle": "2025-07-10T04:11:46.865277Z",
     "shell.execute_reply": "2025-07-10T04:11:46.864244Z",
     "shell.execute_reply.started": "2025-07-10T04:11:46.844884Z"
    }
   },
   "outputs": [
    {
     "data": {
      "text/plain": [
       "id10\n",
       "1.0    688740\n",
       "2.0     81324\n",
       "Name: count, dtype: int64"
      ]
     },
     "execution_count": 8,
     "metadata": {},
     "output_type": "execute_result"
    }
   ],
   "source": [
    "train['id10'].value_counts()"
   ]
  },
  {
   "cell_type": "code",
   "execution_count": 9,
   "metadata": {
    "execution": {
     "iopub.execute_input": "2025-07-10T04:11:47.375236Z",
     "iopub.status.busy": "2025-07-10T04:11:47.374574Z",
     "iopub.status.idle": "2025-07-10T04:11:47.541575Z",
     "shell.execute_reply": "2025-07-10T04:11:47.540491Z",
     "shell.execute_reply.started": "2025-07-10T04:11:47.375099Z"
    }
   },
   "outputs": [],
   "source": [
    "train['f375'] = train['f375'].fillna(train['f375'].mode()[0])\n",
    "train['f376'] = train['f376'].fillna(train['f376'].mode()[0])\n",
    "train['id10'] = train['id10'].fillna(-1.0)\n",
    "train['f378'] = train['f378'].fillna('__missing__')\n",
    "train['id8'] = train['id8'].fillna(10000000)\n",
    "\n",
    "test['f375'] = test['f375'].fillna(test['f375'].mode()[0])\n",
    "test['f376'] = test['f376'].fillna(test['f376'].mode()[0])\n",
    "test['id10'] = test['id10'].fillna(-1.0)\n",
    "test['f378'] = test['f378'].fillna('__missing__')\n",
    "test['id8'] = test['id8'].fillna(10000000)"
   ]
  },
  {
   "cell_type": "code",
   "execution_count": 10,
   "metadata": {
    "execution": {
     "iopub.execute_input": "2025-07-10T04:11:49.475796Z",
     "iopub.status.busy": "2025-07-10T04:11:49.475442Z",
     "iopub.status.idle": "2025-07-10T04:11:50.338078Z",
     "shell.execute_reply": "2025-07-10T04:11:50.337002Z",
     "shell.execute_reply.started": "2025-07-10T04:11:49.475741Z"
    }
   },
   "outputs": [],
   "source": [
    "train.drop(columns=['id12','id13'],inplace=True)\n",
    "test.drop(columns=['id12','id13'],inplace=True)"
   ]
  },
  {
   "cell_type": "code",
   "execution_count": 11,
   "metadata": {
    "execution": {
     "iopub.execute_input": "2025-07-10T04:11:53.094211Z",
     "iopub.status.busy": "2025-07-10T04:11:53.093714Z",
     "iopub.status.idle": "2025-07-10T04:11:54.027175Z",
     "shell.execute_reply": "2025-07-10T04:11:54.026223Z",
     "shell.execute_reply.started": "2025-07-10T04:11:53.094177Z"
    }
   },
   "outputs": [
    {
     "data": {
      "text/plain": [
       "False"
      ]
     },
     "execution_count": 11,
     "metadata": {},
     "output_type": "execute_result"
    }
   ],
   "source": [
    "train.isnull().any().any()"
   ]
  },
  {
   "cell_type": "code",
   "execution_count": 12,
   "metadata": {
    "execution": {
     "iopub.execute_input": "2025-07-09T16:31:46.706171Z",
     "iopub.status.busy": "2025-07-09T16:31:46.705881Z",
     "iopub.status.idle": "2025-07-09T16:31:47.169312Z",
     "shell.execute_reply": "2025-07-09T16:31:47.168388Z",
     "shell.execute_reply.started": "2025-07-09T16:31:46.706149Z"
    }
   },
   "outputs": [
    {
     "data": {
      "text/plain": [
       "False"
      ]
     },
     "execution_count": 12,
     "metadata": {},
     "output_type": "execute_result"
    }
   ],
   "source": [
    "test.isnull().any().any()"
   ]
  },
  {
   "cell_type": "code",
   "execution_count": 13,
   "metadata": {
    "execution": {
     "iopub.execute_input": "2025-07-09T16:34:39.908300Z",
     "iopub.status.busy": "2025-07-09T16:34:39.906898Z",
     "iopub.status.idle": "2025-07-09T16:34:58.766644Z",
     "shell.execute_reply": "2025-07-09T16:34:58.765817Z",
     "shell.execute_reply.started": "2025-07-09T16:34:39.908261Z"
    }
   },
   "outputs": [],
   "source": [
    "from sklearn.feature_selection import mutual_info_classif\n",
    "from sklearn.preprocessing import LabelEncoder\n",
    "cols=['f375', 'f376', 'id10', 'f378', 'id8']\n",
    "mask=[False, False, True, True, True]\n",
    "X = train[cols].copy()\n",
    "y = train['y'].copy()\n",
    "le = LabelEncoder()\n",
    "X['id10'] = le.fit_transform(X['id10'].astype(str))\n",
    "le = LabelEncoder()\n",
    "X['f378'] = le.fit_transform(X['f378'].astype(str))\n",
    "le = LabelEncoder()\n",
    "X['id8'] = le.fit_transform(X['id8'].astype(str))\n",
    "mi_scores = mutual_info_classif(X, y, discrete_features=mask, random_state=0)"
   ]
  },
  {
   "cell_type": "code",
   "execution_count": 14,
   "metadata": {
    "execution": {
     "iopub.execute_input": "2025-07-09T16:35:01.476945Z",
     "iopub.status.busy": "2025-07-09T16:35:01.476479Z",
     "iopub.status.idle": "2025-07-09T16:35:01.482913Z",
     "shell.execute_reply": "2025-07-09T16:35:01.481988Z",
     "shell.execute_reply.started": "2025-07-09T16:35:01.476922Z"
    }
   },
   "outputs": [
    {
     "data": {
      "text/plain": [
       "array([0.11205761, 0.00625387, 0.00087431, 0.01815281, 0.00776332])"
      ]
     },
     "execution_count": 14,
     "metadata": {},
     "output_type": "execute_result"
    }
   ],
   "source": [
    "mi_scores"
   ]
  },
  {
   "cell_type": "code",
   "execution_count": 15,
   "metadata": {
    "execution": {
     "iopub.execute_input": "2025-07-09T16:35:24.808297Z",
     "iopub.status.busy": "2025-07-09T16:35:24.807994Z",
     "iopub.status.idle": "2025-07-09T16:35:25.672547Z",
     "shell.execute_reply": "2025-07-09T16:35:25.671920Z",
     "shell.execute_reply.started": "2025-07-09T16:35:24.808274Z"
    }
   },
   "outputs": [],
   "source": [
    "train.drop(columns=['id10'],inplace=True)\n",
    "test.drop(columns=['id10'],inplace=True)"
   ]
  },
  {
   "cell_type": "code",
   "execution_count": 16,
   "metadata": {
    "execution": {
     "iopub.execute_input": "2025-07-09T16:35:46.106930Z",
     "iopub.status.busy": "2025-07-09T16:35:46.106479Z",
     "iopub.status.idle": "2025-07-09T16:36:00.020342Z",
     "shell.execute_reply": "2025-07-09T16:36:00.019452Z",
     "shell.execute_reply.started": "2025-07-09T16:35:46.106899Z"
    }
   },
   "outputs": [],
   "source": [
    "trans = pd.read_csv('/kaggle/input/addtional-data/add_trans_converted_to_.csv')"
   ]
  },
  {
   "cell_type": "code",
   "execution_count": 17,
   "metadata": {
    "execution": {
     "iopub.execute_input": "2025-07-09T16:36:29.018388Z",
     "iopub.status.busy": "2025-07-09T16:36:29.018079Z",
     "iopub.status.idle": "2025-07-09T16:36:29.067640Z",
     "shell.execute_reply": "2025-07-09T16:36:29.066741Z",
     "shell.execute_reply.started": "2025-07-09T16:36:29.018364Z"
    }
   },
   "outputs": [],
   "source": [
    "trans['id8'] = trans['id8'].fillna(10000000)"
   ]
  },
  {
   "cell_type": "code",
   "execution_count": 18,
   "metadata": {
    "execution": {
     "iopub.execute_input": "2025-07-09T16:37:05.714616Z",
     "iopub.status.busy": "2025-07-09T16:37:05.714283Z",
     "iopub.status.idle": "2025-07-09T16:37:09.096866Z",
     "shell.execute_reply": "2025-07-09T16:37:09.095956Z",
     "shell.execute_reply.started": "2025-07-09T16:37:05.714592Z"
    }
   },
   "outputs": [],
   "source": [
    "industry_avg = trans.groupby('id8')['f367'].mean().reset_index()\n",
    "industry_avg.rename(columns={'f367': 'avg_trans_amt'}, inplace=True)\n",
    "train = train.merge(industry_avg, on='id8', how='left')\n",
    "test = test.merge(industry_avg, on='id8', how='left')"
   ]
  },
  {
   "cell_type": "code",
   "execution_count": 20,
   "metadata": {
    "execution": {
     "iopub.execute_input": "2025-07-09T16:38:34.345496Z",
     "iopub.status.busy": "2025-07-09T16:38:34.345183Z",
     "iopub.status.idle": "2025-07-09T16:39:07.368383Z",
     "shell.execute_reply": "2025-07-09T16:39:07.367646Z",
     "shell.execute_reply.started": "2025-07-09T16:38:34.345473Z"
    }
   },
   "outputs": [],
   "source": [
    "event = pd.read_csv('/kaggle/input/addtional-data/add_event_converted_to_.csv')"
   ]
  },
  {
   "cell_type": "code",
   "execution_count": 21,
   "metadata": {
    "execution": {
     "iopub.execute_input": "2025-07-09T16:41:26.850006Z",
     "iopub.status.busy": "2025-07-09T16:41:26.849576Z",
     "iopub.status.idle": "2025-07-09T16:41:27.636532Z",
     "shell.execute_reply": "2025-07-09T16:41:27.635682Z",
     "shell.execute_reply.started": "2025-07-09T16:41:26.849977Z"
    }
   },
   "outputs": [],
   "source": [
    "event['clicked'] = event['id7'].isnull().astype(int)"
   ]
  },
  {
   "cell_type": "code",
   "execution_count": 22,
   "metadata": {
    "execution": {
     "iopub.execute_input": "2025-07-09T16:41:58.889828Z",
     "iopub.status.busy": "2025-07-09T16:41:58.888043Z",
     "iopub.status.idle": "2025-07-09T16:42:02.461521Z",
     "shell.execute_reply": "2025-07-09T16:42:02.460667Z",
     "shell.execute_reply.started": "2025-07-09T16:41:58.889781Z"
    }
   },
   "outputs": [],
   "source": [
    "ctr_per_offer = event.groupby('id3')['clicked'].mean().reset_index()\n",
    "ctr_per_offer.columns = ['id3','offer_ctr']\n",
    "train = train.merge(ctr_per_offer, on='id3', how='left')\n",
    "test = test.merge(ctr_per_offer, on='id3', how='left')"
   ]
  },
  {
   "cell_type": "code",
   "execution_count": 23,
   "metadata": {
    "execution": {
     "iopub.execute_input": "2025-07-09T16:43:17.260612Z",
     "iopub.status.busy": "2025-07-09T16:43:17.260306Z",
     "iopub.status.idle": "2025-07-09T16:48:18.877286Z",
     "shell.execute_reply": "2025-07-09T16:48:18.876420Z",
     "shell.execute_reply.started": "2025-07-09T16:43:17.260589Z"
    }
   },
   "outputs": [],
   "source": [
    "train.to_csv('train_to_feat_engg.csv',index=False)\n",
    "test.to_csv('test_to_feat_engg.csv',index=False)"
   ]
  },
  {
   "cell_type": "code",
   "execution_count": 25,
   "metadata": {
    "execution": {
     "iopub.execute_input": "2025-07-09T17:11:05.431804Z",
     "iopub.status.busy": "2025-07-09T17:11:05.431397Z",
     "iopub.status.idle": "2025-07-09T17:11:05.463837Z",
     "shell.execute_reply": "2025-07-09T17:11:05.462753Z",
     "shell.execute_reply.started": "2025-07-09T17:11:05.431774Z"
    }
   },
   "outputs": [],
   "source": [
    "label = pd.read_csv('/kaggle/input/to-import-features/updated_label.csv')"
   ]
  },
  {
   "cell_type": "code",
   "execution_count": 26,
   "metadata": {
    "execution": {
     "iopub.execute_input": "2025-07-09T17:11:06.493509Z",
     "iopub.status.busy": "2025-07-09T17:11:06.493170Z",
     "iopub.status.idle": "2025-07-09T17:11:06.502904Z",
     "shell.execute_reply": "2025-07-09T17:11:06.501693Z",
     "shell.execute_reply.started": "2025-07-09T17:11:06.493486Z"
    }
   },
   "outputs": [
    {
     "name": "stdout",
     "output_type": "stream",
     "text": [
      "f375\n",
      "f376\n",
      "f378\n",
      "id8\n",
      "avg_trans_amt\n",
      "offer_ctr\n"
     ]
    }
   ],
   "source": [
    "for col in train.columns:\n",
    "    if col not in label['masked_column'].to_list():\n",
    "        print(col)"
   ]
  },
  {
   "cell_type": "code",
   "execution_count": 27,
   "metadata": {
    "execution": {
     "iopub.execute_input": "2025-07-09T17:15:53.412295Z",
     "iopub.status.busy": "2025-07-09T17:15:53.411199Z",
     "iopub.status.idle": "2025-07-09T17:15:53.421982Z",
     "shell.execute_reply": "2025-07-09T17:15:53.421107Z",
     "shell.execute_reply.started": "2025-07-09T17:15:53.412260Z"
    }
   },
   "outputs": [],
   "source": [
    "cols=['f375','f376','f378','id8','avg_trans_amt','offer_ctr']\n",
    "desc=['redemption freq','discout rate','offerings body','CM industry code','avg trans amt','offer ctr']\n",
    "types=['Numerical','Numerical','Categorical','Categorical','Numerical','Numerical']\n",
    "to_add = pd.DataFrame({'masked_column':cols,'Description':desc,'Type':types})\n",
    "label = pd.concat([label,to_add],axis=0)"
   ]
  },
  {
   "cell_type": "code",
   "execution_count": 28,
   "metadata": {
    "execution": {
     "iopub.execute_input": "2025-07-09T17:16:11.756153Z",
     "iopub.status.busy": "2025-07-09T17:16:11.755829Z",
     "iopub.status.idle": "2025-07-09T17:16:11.764139Z",
     "shell.execute_reply": "2025-07-09T17:16:11.763076Z",
     "shell.execute_reply.started": "2025-07-09T17:16:11.756131Z"
    }
   },
   "outputs": [],
   "source": [
    "label.to_csv('updated_labels2.csv',index=False)"
   ]
  },
  {
   "cell_type": "code",
   "execution_count": null,
   "metadata": {},
   "outputs": [],
   "source": []
  }
 ],
 "metadata": {
  "jupytext": {
   "formats": "ipynb,auto:light"
  },
  "kaggle": {
   "accelerator": "none",
   "dataSources": [
    {
     "datasetId": 7831280,
     "sourceId": 12417068,
     "sourceType": "datasetVersion"
    },
    {
     "datasetId": 7835350,
     "sourceId": 12422656,
     "sourceType": "datasetVersion"
    }
   ],
   "dockerImageVersionId": 31089,
   "isGpuEnabled": false,
   "isInternetEnabled": false,
   "language": "python",
   "sourceType": "notebook"
  },
  "kernelspec": {
   "display_name": "Python 3 (ipykernel)",
   "language": "python",
   "name": "python3"
  },
  "language_info": {
   "codemirror_mode": {
    "name": "ipython",
    "version": 3
   },
   "file_extension": ".py",
   "mimetype": "text/x-python",
   "name": "python",
   "nbconvert_exporter": "python",
   "pygments_lexer": "ipython3",
   "version": "3.12.3"
  }
 },
 "nbformat": 4,
 "nbformat_minor": 4
}
