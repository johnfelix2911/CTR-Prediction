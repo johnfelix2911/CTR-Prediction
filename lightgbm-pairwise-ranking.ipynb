{
 "cells": [
  {
   "cell_type": "code",
   "execution_count": 1,
   "metadata": {
    "_cell_guid": "b1076dfc-b9ad-4769-8c92-a6c4dae69d19",
    "_uuid": "8f2839f25d086af736a60e9eeb907d3b93b6e0e5",
    "execution": {
     "iopub.execute_input": "2025-07-06T16:56:24.734636Z",
     "iopub.status.busy": "2025-07-06T16:56:24.734389Z",
     "iopub.status.idle": "2025-07-06T16:56:26.722494Z",
     "shell.execute_reply": "2025-07-06T16:56:26.721553Z",
     "shell.execute_reply.started": "2025-07-06T16:56:24.734614Z"
    }
   },
   "outputs": [],
   "source": [
    "import pandas as pd\n",
    "import numpy as np"
   ]
  },
  {
   "cell_type": "code",
   "execution_count": 2,
   "metadata": {
    "execution": {
     "iopub.execute_input": "2025-07-06T16:56:29.571130Z",
     "iopub.status.busy": "2025-07-06T16:56:29.570702Z",
     "iopub.status.idle": "2025-07-06T16:56:58.979626Z",
     "shell.execute_reply": "2025-07-06T16:56:58.978875Z",
     "shell.execute_reply.started": "2025-07-06T16:56:29.571095Z"
    }
   },
   "outputs": [],
   "source": [
    "df = pd.read_csv('/kaggle/input/train-data-ready-frfr/train_actually_ready.csv')\n",
    "label = pd.read_csv('/kaggle/input/train-data-ready-frfr/mask_to_actual_labeling.csv')"
   ]
  },
  {
   "cell_type": "code",
   "execution_count": 3,
   "metadata": {
    "execution": {
     "iopub.execute_input": "2025-07-06T16:57:01.651685Z",
     "iopub.status.busy": "2025-07-06T16:57:01.651379Z",
     "iopub.status.idle": "2025-07-06T16:57:01.662922Z",
     "shell.execute_reply": "2025-07-06T16:57:01.661787Z",
     "shell.execute_reply.started": "2025-07-06T16:57:01.651636Z"
    }
   },
   "outputs": [
    {
     "name": "stdout",
     "output_type": "stream",
     "text": [
      "interest\n",
      "day\n",
      "dayofweek\n",
      "hour\n",
      "is_month_start\n",
      "f375\n",
      "f378\n",
      "id8\n",
      "avg_trans_amt\n",
      "offer_ctr\n"
     ]
    }
   ],
   "source": [
    "for col in df.columns:\n",
    "    if col not in label['masked_column'].to_list():\n",
    "        print(col)"
   ]
  },
  {
   "cell_type": "code",
   "execution_count": 4,
   "metadata": {
    "execution": {
     "iopub.execute_input": "2025-07-06T16:57:05.687709Z",
     "iopub.status.busy": "2025-07-06T16:57:05.687404Z",
     "iopub.status.idle": "2025-07-06T16:57:05.698111Z",
     "shell.execute_reply": "2025-07-06T16:57:05.697216Z",
     "shell.execute_reply.started": "2025-07-06T16:57:05.687683Z"
    }
   },
   "outputs": [],
   "source": [
    "label = label[label['masked_column'].isin(df.columns)]"
   ]
  },
  {
   "cell_type": "code",
   "execution_count": 5,
   "metadata": {
    "execution": {
     "iopub.execute_input": "2025-07-06T16:57:07.318264Z",
     "iopub.status.busy": "2025-07-06T16:57:07.318000Z",
     "iopub.status.idle": "2025-07-06T16:57:07.328979Z",
     "shell.execute_reply": "2025-07-06T16:57:07.328056Z",
     "shell.execute_reply.started": "2025-07-06T16:57:07.318243Z"
    }
   },
   "outputs": [
    {
     "data": {
      "text/plain": [
       "array(['Numerical', 'Categorical'], dtype=object)"
      ]
     },
     "execution_count": 5,
     "metadata": {},
     "output_type": "execute_result"
    }
   ],
   "source": [
    "masked_column=['interest','day','dayofweek','hour','is_month_start','f375','f378','id8','avg_trans_amt','offer_ctr']\n",
    "Description=['interest score','day','dayofweek','hour','is_month_start','f375','f378','id8','avg_trans_amt','offer_ctr']\n",
    "Type=['Numerical','Numerical','Categorical','Numerical','Categorical','Numerical','Categorical','Categorical','Numerical','Numerical']\n",
    "to_add = pd.DataFrame({'masked_column':masked_column,'Description':Description,'Type':Type})\n",
    "to_add['Type'].unique()"
   ]
  },
  {
   "cell_type": "code",
   "execution_count": 6,
   "metadata": {
    "execution": {
     "iopub.execute_input": "2025-07-06T16:57:07.600885Z",
     "iopub.status.busy": "2025-07-06T16:57:07.600565Z",
     "iopub.status.idle": "2025-07-06T16:57:07.606105Z",
     "shell.execute_reply": "2025-07-06T16:57:07.605134Z",
     "shell.execute_reply.started": "2025-07-06T16:57:07.600862Z"
    }
   },
   "outputs": [],
   "source": [
    "label = pd.concat([label,to_add],axis=0)"
   ]
  },
  {
   "cell_type": "code",
   "execution_count": 7,
   "metadata": {
    "execution": {
     "iopub.execute_input": "2025-07-06T16:57:07.820177Z",
     "iopub.status.busy": "2025-07-06T16:57:07.819612Z",
     "iopub.status.idle": "2025-07-06T16:57:08.149148Z",
     "shell.execute_reply": "2025-07-06T16:57:08.148147Z",
     "shell.execute_reply.started": "2025-07-06T16:57:07.820148Z"
    }
   },
   "outputs": [],
   "source": [
    "df.drop(columns=label[label['Type']=='One hot encoded']['masked_column'].to_list(),inplace=True)"
   ]
  },
  {
   "cell_type": "code",
   "execution_count": 8,
   "metadata": {
    "execution": {
     "iopub.execute_input": "2025-07-06T16:57:09.362044Z",
     "iopub.status.busy": "2025-07-06T16:57:09.361773Z",
     "iopub.status.idle": "2025-07-06T16:57:10.944027Z",
     "shell.execute_reply": "2025-07-06T16:57:10.943146Z",
     "shell.execute_reply.started": "2025-07-06T16:57:09.362022Z"
    }
   },
   "outputs": [],
   "source": [
    "from sklearn.preprocessing import LabelEncoder\n",
    "cat_cols =  label[label['Type']=='Categorical']['masked_column'].to_list()\n",
    "cat_cols.remove('id3')\n",
    "for col in cat_cols:\n",
    "    le = LabelEncoder()\n",
    "    df[col] = le.fit_transform(df[col])"
   ]
  },
  {
   "cell_type": "code",
   "execution_count": 9,
   "metadata": {
    "execution": {
     "iopub.execute_input": "2025-07-06T16:57:10.945895Z",
     "iopub.status.busy": "2025-07-06T16:57:10.945489Z",
     "iopub.status.idle": "2025-07-06T16:57:16.558578Z",
     "shell.execute_reply": "2025-07-06T16:57:16.557830Z",
     "shell.execute_reply.started": "2025-07-06T16:57:10.945875Z"
    }
   },
   "outputs": [],
   "source": [
    "import lightgbm as lgb\n",
    "from sklearn.model_selection import train_test_split\n",
    "from sklearn.metrics import ndcg_score"
   ]
  },
  {
   "cell_type": "code",
   "execution_count": 10,
   "metadata": {
    "execution": {
     "iopub.execute_input": "2025-07-06T16:57:16.560564Z",
     "iopub.status.busy": "2025-07-06T16:57:16.560013Z",
     "iopub.status.idle": "2025-07-06T16:57:16.999298Z",
     "shell.execute_reply": "2025-07-06T16:57:16.998256Z",
     "shell.execute_reply.started": "2025-07-06T16:57:16.560533Z"
    }
   },
   "outputs": [],
   "source": [
    "cust_ids = df['id2'].unique()\n",
    "train_cust, test_cust = train_test_split(cust_ids, test_size=0.2, random_state=42)\n",
    "train_mask = df['id2'].isin(train_cust)\n",
    "df_train = df[train_mask]\n",
    "df_test  = df[~train_mask]"
   ]
  },
  {
   "cell_type": "code",
   "execution_count": 11,
   "metadata": {
    "execution": {
     "iopub.execute_input": "2025-07-06T16:57:17.000362Z",
     "iopub.status.busy": "2025-07-06T16:57:17.000149Z",
     "iopub.status.idle": "2025-07-06T16:57:17.267989Z",
     "shell.execute_reply": "2025-07-06T16:57:17.267088Z",
     "shell.execute_reply.started": "2025-07-06T16:57:17.000345Z"
    }
   },
   "outputs": [],
   "source": [
    "FEATURES = [f for f in df.columns if f not in ['id2','id3','y','id1']]\n",
    "X_train = df_train[FEATURES]\n",
    "y_train = df_train['y']\n",
    "X_test  = df_test[FEATURES]\n",
    "y_test  = df_test['y']"
   ]
  },
  {
   "cell_type": "code",
   "execution_count": 12,
   "metadata": {
    "execution": {
     "iopub.execute_input": "2025-07-06T16:57:17.269769Z",
     "iopub.status.busy": "2025-07-06T16:57:17.269465Z",
     "iopub.status.idle": "2025-07-06T16:57:17.274396Z",
     "shell.execute_reply": "2025-07-06T16:57:17.273347Z",
     "shell.execute_reply.started": "2025-07-06T16:57:17.269746Z"
    }
   },
   "outputs": [],
   "source": [
    "def make_group(df_sub):\n",
    "    return df_sub.groupby('id2').size().to_list()"
   ]
  },
  {
   "cell_type": "code",
   "execution_count": 13,
   "metadata": {
    "execution": {
     "iopub.execute_input": "2025-07-06T16:57:17.275559Z",
     "iopub.status.busy": "2025-07-06T16:57:17.275316Z",
     "iopub.status.idle": "2025-07-06T16:57:17.317351Z",
     "shell.execute_reply": "2025-07-06T16:57:17.316305Z",
     "shell.execute_reply.started": "2025-07-06T16:57:17.275535Z"
    }
   },
   "outputs": [],
   "source": [
    "group_train = make_group(df_train)\n",
    "group_test  = make_group(df_test)"
   ]
  },
  {
   "cell_type": "code",
   "execution_count": 14,
   "metadata": {
    "execution": {
     "iopub.execute_input": "2025-07-06T16:57:19.263679Z",
     "iopub.status.busy": "2025-07-06T16:57:19.262917Z",
     "iopub.status.idle": "2025-07-06T16:57:19.267560Z",
     "shell.execute_reply": "2025-07-06T16:57:19.266692Z",
     "shell.execute_reply.started": "2025-07-06T16:57:19.263622Z"
    }
   },
   "outputs": [],
   "source": [
    "ranker = lgb.LGBMRanker(\n",
    "    objective='lambdarank',\n",
    "    metric='ndcg',\n",
    "    ndcg_at=[7],\n",
    "    learning_rate=0.05,\n",
    "    num_leaves=31,\n",
    "    n_estimators=1000\n",
    ")"
   ]
  },
  {
   "cell_type": "code",
   "execution_count": 15,
   "metadata": {
    "execution": {
     "iopub.execute_input": "2025-07-06T16:57:19.435242Z",
     "iopub.status.busy": "2025-07-06T16:57:19.434924Z",
     "iopub.status.idle": "2025-07-06T16:57:54.459550Z",
     "shell.execute_reply": "2025-07-06T16:57:54.458623Z",
     "shell.execute_reply.started": "2025-07-06T16:57:19.435218Z"
    }
   },
   "outputs": [
    {
     "name": "stderr",
     "output_type": "stream",
     "text": [
      "/usr/local/lib/python3.11/dist-packages/lightgbm/sklearn.py:777: UserWarning: Found 'ndcg_at' in params. Will use it instead of 'eval_at' argument\n",
      "  _log_warning(f\"Found '{alias}' in params. Will use it instead of 'eval_at' argument\")\n"
     ]
    },
    {
     "name": "stdout",
     "output_type": "stream",
     "text": [
      "[LightGBM] [Warning] Categorical features with more bins than the configured maximum bin number found.\n",
      "[LightGBM] [Warning] For categorical features, max_bin and max_bin_by_feature may be ignored with a large number of categories.\n",
      "[LightGBM] [Info] Auto-choosing row-wise multi-threading, the overhead of testing was 0.293914 seconds.\n",
      "You can set `force_row_wise=true` to remove the overhead.\n",
      "And if memory is not enough, you can set `force_col_wise=true`.\n",
      "[LightGBM] [Info] Total Bins 32804\n",
      "[LightGBM] [Info] Number of data points in the train set: 619653, number of used features: 158\n",
      "Training until validation scores don't improve for 50 rounds\n",
      "[50]\tvalid_0's ndcg@7: 0.944927\n",
      "[100]\tvalid_0's ndcg@7: 0.945862\n",
      "Early stopping, best iteration is:\n",
      "[97]\tvalid_0's ndcg@7: 0.945883\n"
     ]
    },
    {
     "data": {
      "text/html": [
       "<style>#sk-container-id-1 {color: black;background-color: white;}#sk-container-id-1 pre{padding: 0;}#sk-container-id-1 div.sk-toggleable {background-color: white;}#sk-container-id-1 label.sk-toggleable__label {cursor: pointer;display: block;width: 100%;margin-bottom: 0;padding: 0.3em;box-sizing: border-box;text-align: center;}#sk-container-id-1 label.sk-toggleable__label-arrow:before {content: \"▸\";float: left;margin-right: 0.25em;color: #696969;}#sk-container-id-1 label.sk-toggleable__label-arrow:hover:before {color: black;}#sk-container-id-1 div.sk-estimator:hover label.sk-toggleable__label-arrow:before {color: black;}#sk-container-id-1 div.sk-toggleable__content {max-height: 0;max-width: 0;overflow: hidden;text-align: left;background-color: #f0f8ff;}#sk-container-id-1 div.sk-toggleable__content pre {margin: 0.2em;color: black;border-radius: 0.25em;background-color: #f0f8ff;}#sk-container-id-1 input.sk-toggleable__control:checked~div.sk-toggleable__content {max-height: 200px;max-width: 100%;overflow: auto;}#sk-container-id-1 input.sk-toggleable__control:checked~label.sk-toggleable__label-arrow:before {content: \"▾\";}#sk-container-id-1 div.sk-estimator input.sk-toggleable__control:checked~label.sk-toggleable__label {background-color: #d4ebff;}#sk-container-id-1 div.sk-label input.sk-toggleable__control:checked~label.sk-toggleable__label {background-color: #d4ebff;}#sk-container-id-1 input.sk-hidden--visually {border: 0;clip: rect(1px 1px 1px 1px);clip: rect(1px, 1px, 1px, 1px);height: 1px;margin: -1px;overflow: hidden;padding: 0;position: absolute;width: 1px;}#sk-container-id-1 div.sk-estimator {font-family: monospace;background-color: #f0f8ff;border: 1px dotted black;border-radius: 0.25em;box-sizing: border-box;margin-bottom: 0.5em;}#sk-container-id-1 div.sk-estimator:hover {background-color: #d4ebff;}#sk-container-id-1 div.sk-parallel-item::after {content: \"\";width: 100%;border-bottom: 1px solid gray;flex-grow: 1;}#sk-container-id-1 div.sk-label:hover label.sk-toggleable__label {background-color: #d4ebff;}#sk-container-id-1 div.sk-serial::before {content: \"\";position: absolute;border-left: 1px solid gray;box-sizing: border-box;top: 0;bottom: 0;left: 50%;z-index: 0;}#sk-container-id-1 div.sk-serial {display: flex;flex-direction: column;align-items: center;background-color: white;padding-right: 0.2em;padding-left: 0.2em;position: relative;}#sk-container-id-1 div.sk-item {position: relative;z-index: 1;}#sk-container-id-1 div.sk-parallel {display: flex;align-items: stretch;justify-content: center;background-color: white;position: relative;}#sk-container-id-1 div.sk-item::before, #sk-container-id-1 div.sk-parallel-item::before {content: \"\";position: absolute;border-left: 1px solid gray;box-sizing: border-box;top: 0;bottom: 0;left: 50%;z-index: -1;}#sk-container-id-1 div.sk-parallel-item {display: flex;flex-direction: column;z-index: 1;position: relative;background-color: white;}#sk-container-id-1 div.sk-parallel-item:first-child::after {align-self: flex-end;width: 50%;}#sk-container-id-1 div.sk-parallel-item:last-child::after {align-self: flex-start;width: 50%;}#sk-container-id-1 div.sk-parallel-item:only-child::after {width: 0;}#sk-container-id-1 div.sk-dashed-wrapped {border: 1px dashed gray;margin: 0 0.4em 0.5em 0.4em;box-sizing: border-box;padding-bottom: 0.4em;background-color: white;}#sk-container-id-1 div.sk-label label {font-family: monospace;font-weight: bold;display: inline-block;line-height: 1.2em;}#sk-container-id-1 div.sk-label-container {text-align: center;}#sk-container-id-1 div.sk-container {/* jupyter's `normalize.less` sets `[hidden] { display: none; }` but bootstrap.min.css set `[hidden] { display: none !important; }` so we also need the `!important` here to be able to override the default hidden behavior on the sphinx rendered scikit-learn.org. See: https://github.com/scikit-learn/scikit-learn/issues/21755 */display: inline-block !important;position: relative;}#sk-container-id-1 div.sk-text-repr-fallback {display: none;}</style><div id=\"sk-container-id-1\" class=\"sk-top-container\"><div class=\"sk-text-repr-fallback\"><pre>LGBMRanker(learning_rate=0.05, metric=&#x27;ndcg&#x27;, n_estimators=1000, ndcg_at=[7],\n",
       "           objective=&#x27;lambdarank&#x27;)</pre><b>In a Jupyter environment, please rerun this cell to show the HTML representation or trust the notebook. <br />On GitHub, the HTML representation is unable to render, please try loading this page with nbviewer.org.</b></div><div class=\"sk-container\" hidden><div class=\"sk-item\"><div class=\"sk-estimator sk-toggleable\"><input class=\"sk-toggleable__control sk-hidden--visually\" id=\"sk-estimator-id-1\" type=\"checkbox\" checked><label for=\"sk-estimator-id-1\" class=\"sk-toggleable__label sk-toggleable__label-arrow\">LGBMRanker</label><div class=\"sk-toggleable__content\"><pre>LGBMRanker(learning_rate=0.05, metric=&#x27;ndcg&#x27;, n_estimators=1000, ndcg_at=[7],\n",
       "           objective=&#x27;lambdarank&#x27;)</pre></div></div></div></div></div>"
      ],
      "text/plain": [
       "LGBMRanker(learning_rate=0.05, metric='ndcg', n_estimators=1000, ndcg_at=[7],\n",
       "           objective='lambdarank')"
      ]
     },
     "execution_count": 15,
     "metadata": {},
     "output_type": "execute_result"
    }
   ],
   "source": [
    "cat_cols =  label[label['Type']=='Categorical']['masked_column'].to_list()\n",
    "cat_cols.remove('id3')\n",
    "ranker.fit(\n",
    "    X_train, y_train,\n",
    "    group=group_train,\n",
    "    eval_set=[(X_test, y_test)],\n",
    "    eval_group=[group_test],\n",
    "    categorical_feature=cat_cols,\n",
    "    callbacks=[lgb.early_stopping(50),lgb.log_evaluation(50)]\n",
    ")"
   ]
  },
  {
   "cell_type": "code",
   "execution_count": 16,
   "metadata": {
    "execution": {
     "iopub.execute_input": "2025-07-06T16:58:01.535307Z",
     "iopub.status.busy": "2025-07-06T16:58:01.534564Z",
     "iopub.status.idle": "2025-07-06T16:58:14.836324Z",
     "shell.execute_reply": "2025-07-06T16:58:14.835581Z",
     "shell.execute_reply.started": "2025-07-06T16:58:01.535274Z"
    }
   },
   "outputs": [],
   "source": [
    "test_df = pd.read_csv('/kaggle/input/test-ready-to-test/test_ready.csv')"
   ]
  },
  {
   "cell_type": "code",
   "execution_count": 17,
   "metadata": {
    "execution": {
     "iopub.execute_input": "2025-07-06T16:58:16.883260Z",
     "iopub.status.busy": "2025-07-06T16:58:16.882944Z",
     "iopub.status.idle": "2025-07-06T16:58:17.040129Z",
     "shell.execute_reply": "2025-07-06T16:58:17.039131Z",
     "shell.execute_reply.started": "2025-07-06T16:58:16.883236Z"
    }
   },
   "outputs": [],
   "source": [
    "test_df.drop(columns=label[label['Type']=='One hot encoded']['masked_column'].to_list(),inplace=True)"
   ]
  },
  {
   "cell_type": "code",
   "execution_count": 19,
   "metadata": {
    "execution": {
     "iopub.execute_input": "2025-07-06T16:58:22.857020Z",
     "iopub.status.busy": "2025-07-06T16:58:22.856718Z",
     "iopub.status.idle": "2025-07-06T16:58:23.447685Z",
     "shell.execute_reply": "2025-07-06T16:58:23.446684Z",
     "shell.execute_reply.started": "2025-07-06T16:58:22.857000Z"
    }
   },
   "outputs": [],
   "source": [
    "cat_cols =  label[label['Type']=='Categorical']['masked_column'].to_list()\n",
    "cat_cols.remove('id3')\n",
    "for col in cat_cols:\n",
    "    le = LabelEncoder()\n",
    "    test_df[col] = le.fit_transform(test_df[col])"
   ]
  },
  {
   "cell_type": "code",
   "execution_count": 20,
   "metadata": {
    "execution": {
     "iopub.execute_input": "2025-07-06T16:58:24.983233Z",
     "iopub.status.busy": "2025-07-06T16:58:24.982540Z",
     "iopub.status.idle": "2025-07-06T16:58:25.252305Z",
     "shell.execute_reply": "2025-07-06T16:58:25.251550Z",
     "shell.execute_reply.started": "2025-07-06T16:58:24.983206Z"
    }
   },
   "outputs": [],
   "source": [
    "temp_df = df.drop(columns=['y'])"
   ]
  },
  {
   "cell_type": "code",
   "execution_count": 21,
   "metadata": {
    "execution": {
     "iopub.execute_input": "2025-07-06T16:58:26.428543Z",
     "iopub.status.busy": "2025-07-06T16:58:26.428251Z",
     "iopub.status.idle": "2025-07-06T16:58:26.434724Z",
     "shell.execute_reply": "2025-07-06T16:58:26.433728Z",
     "shell.execute_reply.started": "2025-07-06T16:58:26.428518Z"
    }
   },
   "outputs": [
    {
     "data": {
      "text/plain": [
       "(770164, 161)"
      ]
     },
     "execution_count": 21,
     "metadata": {},
     "output_type": "execute_result"
    }
   ],
   "source": [
    "temp_df.shape"
   ]
  },
  {
   "cell_type": "code",
   "execution_count": 22,
   "metadata": {
    "execution": {
     "iopub.execute_input": "2025-07-06T16:58:28.453181Z",
     "iopub.status.busy": "2025-07-06T16:58:28.452746Z",
     "iopub.status.idle": "2025-07-06T16:58:28.460905Z",
     "shell.execute_reply": "2025-07-06T16:58:28.459959Z",
     "shell.execute_reply.started": "2025-07-06T16:58:28.453146Z"
    }
   },
   "outputs": [
    {
     "data": {
      "text/plain": [
       "(369301, 161)"
      ]
     },
     "execution_count": 22,
     "metadata": {},
     "output_type": "execute_result"
    }
   ],
   "source": [
    "test_df.shape"
   ]
  },
  {
   "cell_type": "code",
   "execution_count": 23,
   "metadata": {
    "execution": {
     "iopub.execute_input": "2025-07-06T16:58:29.741799Z",
     "iopub.status.busy": "2025-07-06T16:58:29.741354Z",
     "iopub.status.idle": "2025-07-06T16:58:29.754904Z",
     "shell.execute_reply": "2025-07-06T16:58:29.754083Z",
     "shell.execute_reply.started": "2025-07-06T16:58:29.741773Z"
    }
   },
   "outputs": [],
   "source": [
    "for i in range(len(temp_df.columns)):\n",
    "    if temp_df[temp_df.columns[i]].dtypes!=test_df[test_df.columns[i]].dtypes:\n",
    "        print(\"haaaaaaaaaaaaaaaa\")"
   ]
  },
  {
   "cell_type": "code",
   "execution_count": 24,
   "metadata": {
    "execution": {
     "iopub.execute_input": "2025-07-06T16:58:31.072397Z",
     "iopub.status.busy": "2025-07-06T16:58:31.071517Z",
     "iopub.status.idle": "2025-07-06T16:58:31.211448Z",
     "shell.execute_reply": "2025-07-06T16:58:31.210580Z",
     "shell.execute_reply.started": "2025-07-06T16:58:31.072368Z"
    }
   },
   "outputs": [],
   "source": [
    "X_new = test_df[FEATURES]"
   ]
  },
  {
   "cell_type": "code",
   "execution_count": 25,
   "metadata": {
    "execution": {
     "iopub.execute_input": "2025-07-06T16:58:32.328037Z",
     "iopub.status.busy": "2025-07-06T16:58:32.326936Z",
     "iopub.status.idle": "2025-07-06T16:58:34.455002Z",
     "shell.execute_reply": "2025-07-06T16:58:34.454156Z",
     "shell.execute_reply.started": "2025-07-06T16:58:32.328005Z"
    }
   },
   "outputs": [
    {
     "name": "stderr",
     "output_type": "stream",
     "text": [
      "/usr/local/lib/python3.11/dist-packages/lightgbm/sklearn.py:777: UserWarning: Found 'ndcg_at' in params. Will use it instead of 'eval_at' argument\n",
      "  _log_warning(f\"Found '{alias}' in params. Will use it instead of 'eval_at' argument\")\n"
     ]
    },
    {
     "data": {
      "text/plain": [
       "array([-2.42347417, -1.12141496,  1.45642558, ..., -1.40725637,\n",
       "        0.01311022, -1.48131835])"
      ]
     },
     "execution_count": 25,
     "metadata": {},
     "output_type": "execute_result"
    }
   ],
   "source": [
    "ranker.predict(X_new)"
   ]
  },
  {
   "cell_type": "code",
   "execution_count": 26,
   "metadata": {
    "execution": {
     "iopub.execute_input": "2025-07-06T16:58:35.674782Z",
     "iopub.status.busy": "2025-07-06T16:58:35.673842Z",
     "iopub.status.idle": "2025-07-06T16:58:38.295574Z",
     "shell.execute_reply": "2025-07-06T16:58:38.294610Z",
     "shell.execute_reply.started": "2025-07-06T16:58:35.674739Z"
    }
   },
   "outputs": [
    {
     "name": "stderr",
     "output_type": "stream",
     "text": [
      "/usr/local/lib/python3.11/dist-packages/lightgbm/sklearn.py:777: UserWarning: Found 'ndcg_at' in params. Will use it instead of 'eval_at' argument\n",
      "  _log_warning(f\"Found '{alias}' in params. Will use it instead of 'eval_at' argument\")\n"
     ]
    }
   ],
   "source": [
    "# 1. Get scores\n",
    "test_df['score'] = ranker.predict(X_new)\n",
    "\n",
    "# 2. Sort by customer and descending score\n",
    "test_df = test_df.sort_values(['id2', 'score'], ascending=[True, False])"
   ]
  },
  {
   "cell_type": "code",
   "execution_count": 27,
   "metadata": {
    "execution": {
     "iopub.execute_input": "2025-07-06T16:58:38.297453Z",
     "iopub.status.busy": "2025-07-06T16:58:38.297096Z",
     "iopub.status.idle": "2025-07-06T16:58:58.445673Z",
     "shell.execute_reply": "2025-07-06T16:58:58.444826Z",
     "shell.execute_reply.started": "2025-07-06T16:58:38.297421Z"
    }
   },
   "outputs": [],
   "source": [
    "raw = pd.read_csv('/kaggle/input/test-data-raw/test_data_converted_to_.csv')"
   ]
  },
  {
   "cell_type": "code",
   "execution_count": 28,
   "metadata": {
    "execution": {
     "iopub.execute_input": "2025-07-06T16:59:00.291463Z",
     "iopub.status.busy": "2025-07-06T16:59:00.290891Z",
     "iopub.status.idle": "2025-07-06T16:59:00.335396Z",
     "shell.execute_reply": "2025-07-06T16:59:00.334669Z",
     "shell.execute_reply.started": "2025-07-06T16:59:00.291439Z"
    }
   },
   "outputs": [],
   "source": [
    "test_df['id5'] = raw['id5'].copy()\n",
    "test_df = test_df[['id1','id2','id3','id5','score']]"
   ]
  },
  {
   "cell_type": "code",
   "execution_count": 29,
   "metadata": {
    "execution": {
     "iopub.execute_input": "2025-07-06T16:59:00.802000Z",
     "iopub.status.busy": "2025-07-06T16:59:00.801698Z",
     "iopub.status.idle": "2025-07-06T16:59:00.821434Z",
     "shell.execute_reply": "2025-07-06T16:59:00.820687Z",
     "shell.execute_reply.started": "2025-07-06T16:59:00.801980Z"
    }
   },
   "outputs": [
    {
     "data": {
      "text/html": [
       "<div>\n",
       "<style scoped>\n",
       "    .dataframe tbody tr th:only-of-type {\n",
       "        vertical-align: middle;\n",
       "    }\n",
       "\n",
       "    .dataframe tbody tr th {\n",
       "        vertical-align: top;\n",
       "    }\n",
       "\n",
       "    .dataframe thead th {\n",
       "        text-align: right;\n",
       "    }\n",
       "</style>\n",
       "<table border=\"1\" class=\"dataframe\">\n",
       "  <thead>\n",
       "    <tr style=\"text-align: right;\">\n",
       "      <th></th>\n",
       "      <th>id1</th>\n",
       "      <th>id2</th>\n",
       "      <th>id3</th>\n",
       "      <th>id5</th>\n",
       "      <th>score</th>\n",
       "    </tr>\n",
       "  </thead>\n",
       "  <tbody>\n",
       "    <tr>\n",
       "      <th>82037</th>\n",
       "      <td>1000061_62395_16-23_2023-11-05 09:28:07.805</td>\n",
       "      <td>1000061</td>\n",
       "      <td>62395</td>\n",
       "      <td>2023-11-05</td>\n",
       "      <td>-0.924676</td>\n",
       "    </tr>\n",
       "    <tr>\n",
       "      <th>269190</th>\n",
       "      <td>1000061_27945_16-23_2023-11-05 09:28:04.157</td>\n",
       "      <td>1000061</td>\n",
       "      <td>27945</td>\n",
       "      <td>2023-11-05</td>\n",
       "      <td>-1.316955</td>\n",
       "    </tr>\n",
       "    <tr>\n",
       "      <th>8135</th>\n",
       "      <td>1000061_403431_16-23_2023-11-05 09:28:10.592</td>\n",
       "      <td>1000061</td>\n",
       "      <td>403431</td>\n",
       "      <td>2023-11-05</td>\n",
       "      <td>-1.343450</td>\n",
       "    </tr>\n",
       "    <tr>\n",
       "      <th>288480</th>\n",
       "      <td>1000061_31794_16-23_2023-11-05 09:47:54.852</td>\n",
       "      <td>1000061</td>\n",
       "      <td>31794</td>\n",
       "      <td>2023-11-05</td>\n",
       "      <td>-1.365746</td>\n",
       "    </tr>\n",
       "    <tr>\n",
       "      <th>153767</th>\n",
       "      <td>1000061_5420674_16-23_2023-11-05 09:28:04.153</td>\n",
       "      <td>1000061</td>\n",
       "      <td>5420674</td>\n",
       "      <td>2023-11-05</td>\n",
       "      <td>-1.441359</td>\n",
       "    </tr>\n",
       "  </tbody>\n",
       "</table>\n",
       "</div>"
      ],
      "text/plain": [
       "                                                  id1      id2      id3  \\\n",
       "82037     1000061_62395_16-23_2023-11-05 09:28:07.805  1000061    62395   \n",
       "269190    1000061_27945_16-23_2023-11-05 09:28:04.157  1000061    27945   \n",
       "8135     1000061_403431_16-23_2023-11-05 09:28:10.592  1000061   403431   \n",
       "288480    1000061_31794_16-23_2023-11-05 09:47:54.852  1000061    31794   \n",
       "153767  1000061_5420674_16-23_2023-11-05 09:28:04.153  1000061  5420674   \n",
       "\n",
       "               id5     score  \n",
       "82037   2023-11-05 -0.924676  \n",
       "269190  2023-11-05 -1.316955  \n",
       "8135    2023-11-05 -1.343450  \n",
       "288480  2023-11-05 -1.365746  \n",
       "153767  2023-11-05 -1.441359  "
      ]
     },
     "execution_count": 29,
     "metadata": {},
     "output_type": "execute_result"
    }
   ],
   "source": [
    "test_df.head()"
   ]
  },
  {
   "cell_type": "code",
   "execution_count": 30,
   "metadata": {
    "execution": {
     "iopub.execute_input": "2025-07-06T16:59:02.650200Z",
     "iopub.status.busy": "2025-07-06T16:59:02.649886Z",
     "iopub.status.idle": "2025-07-06T16:59:02.656045Z",
     "shell.execute_reply": "2025-07-06T16:59:02.655033Z",
     "shell.execute_reply.started": "2025-07-06T16:59:02.650172Z"
    }
   },
   "outputs": [],
   "source": [
    "test_df['pred'] = 1"
   ]
  },
  {
   "cell_type": "code",
   "execution_count": 31,
   "metadata": {
    "execution": {
     "iopub.execute_input": "2025-07-06T16:59:03.934233Z",
     "iopub.status.busy": "2025-07-06T16:59:03.933971Z",
     "iopub.status.idle": "2025-07-06T16:59:03.944473Z",
     "shell.execute_reply": "2025-07-06T16:59:03.943616Z",
     "shell.execute_reply.started": "2025-07-06T16:59:03.934214Z"
    }
   },
   "outputs": [
    {
     "data": {
      "text/html": [
       "<div>\n",
       "<style scoped>\n",
       "    .dataframe tbody tr th:only-of-type {\n",
       "        vertical-align: middle;\n",
       "    }\n",
       "\n",
       "    .dataframe tbody tr th {\n",
       "        vertical-align: top;\n",
       "    }\n",
       "\n",
       "    .dataframe thead th {\n",
       "        text-align: right;\n",
       "    }\n",
       "</style>\n",
       "<table border=\"1\" class=\"dataframe\">\n",
       "  <thead>\n",
       "    <tr style=\"text-align: right;\">\n",
       "      <th></th>\n",
       "      <th>id1</th>\n",
       "      <th>id2</th>\n",
       "      <th>id3</th>\n",
       "      <th>id5</th>\n",
       "      <th>score</th>\n",
       "      <th>pred</th>\n",
       "    </tr>\n",
       "  </thead>\n",
       "  <tbody>\n",
       "    <tr>\n",
       "      <th>82037</th>\n",
       "      <td>1000061_62395_16-23_2023-11-05 09:28:07.805</td>\n",
       "      <td>1000061</td>\n",
       "      <td>62395</td>\n",
       "      <td>2023-11-05</td>\n",
       "      <td>-0.924676</td>\n",
       "      <td>1</td>\n",
       "    </tr>\n",
       "    <tr>\n",
       "      <th>269190</th>\n",
       "      <td>1000061_27945_16-23_2023-11-05 09:28:04.157</td>\n",
       "      <td>1000061</td>\n",
       "      <td>27945</td>\n",
       "      <td>2023-11-05</td>\n",
       "      <td>-1.316955</td>\n",
       "      <td>1</td>\n",
       "    </tr>\n",
       "    <tr>\n",
       "      <th>8135</th>\n",
       "      <td>1000061_403431_16-23_2023-11-05 09:28:10.592</td>\n",
       "      <td>1000061</td>\n",
       "      <td>403431</td>\n",
       "      <td>2023-11-05</td>\n",
       "      <td>-1.343450</td>\n",
       "      <td>1</td>\n",
       "    </tr>\n",
       "    <tr>\n",
       "      <th>288480</th>\n",
       "      <td>1000061_31794_16-23_2023-11-05 09:47:54.852</td>\n",
       "      <td>1000061</td>\n",
       "      <td>31794</td>\n",
       "      <td>2023-11-05</td>\n",
       "      <td>-1.365746</td>\n",
       "      <td>1</td>\n",
       "    </tr>\n",
       "    <tr>\n",
       "      <th>153767</th>\n",
       "      <td>1000061_5420674_16-23_2023-11-05 09:28:04.153</td>\n",
       "      <td>1000061</td>\n",
       "      <td>5420674</td>\n",
       "      <td>2023-11-05</td>\n",
       "      <td>-1.441359</td>\n",
       "      <td>1</td>\n",
       "    </tr>\n",
       "  </tbody>\n",
       "</table>\n",
       "</div>"
      ],
      "text/plain": [
       "                                                  id1      id2      id3  \\\n",
       "82037     1000061_62395_16-23_2023-11-05 09:28:07.805  1000061    62395   \n",
       "269190    1000061_27945_16-23_2023-11-05 09:28:04.157  1000061    27945   \n",
       "8135     1000061_403431_16-23_2023-11-05 09:28:10.592  1000061   403431   \n",
       "288480    1000061_31794_16-23_2023-11-05 09:47:54.852  1000061    31794   \n",
       "153767  1000061_5420674_16-23_2023-11-05 09:28:04.153  1000061  5420674   \n",
       "\n",
       "               id5     score  pred  \n",
       "82037   2023-11-05 -0.924676     1  \n",
       "269190  2023-11-05 -1.316955     1  \n",
       "8135    2023-11-05 -1.343450     1  \n",
       "288480  2023-11-05 -1.365746     1  \n",
       "153767  2023-11-05 -1.441359     1  "
      ]
     },
     "execution_count": 31,
     "metadata": {},
     "output_type": "execute_result"
    }
   ],
   "source": [
    "test_df.head()"
   ]
  },
  {
   "cell_type": "code",
   "execution_count": 32,
   "metadata": {
    "execution": {
     "iopub.execute_input": "2025-07-06T16:59:05.125852Z",
     "iopub.status.busy": "2025-07-06T16:59:05.124739Z",
     "iopub.status.idle": "2025-07-06T16:59:05.151408Z",
     "shell.execute_reply": "2025-07-06T16:59:05.150269Z",
     "shell.execute_reply.started": "2025-07-06T16:59:05.125818Z"
    }
   },
   "outputs": [],
   "source": [
    "test_df.drop(columns=['score'],inplace=True)"
   ]
  },
  {
   "cell_type": "code",
   "execution_count": 33,
   "metadata": {
    "execution": {
     "iopub.execute_input": "2025-07-06T16:59:06.416452Z",
     "iopub.status.busy": "2025-07-06T16:59:06.415775Z",
     "iopub.status.idle": "2025-07-06T16:59:06.473158Z",
     "shell.execute_reply": "2025-07-06T16:59:06.472374Z",
     "shell.execute_reply.started": "2025-07-06T16:59:06.416416Z"
    }
   },
   "outputs": [],
   "source": [
    "test_df = test_df.reset_index()"
   ]
  },
  {
   "cell_type": "code",
   "execution_count": 34,
   "metadata": {
    "execution": {
     "iopub.execute_input": "2025-07-06T16:59:07.789352Z",
     "iopub.status.busy": "2025-07-06T16:59:07.788729Z",
     "iopub.status.idle": "2025-07-06T16:59:07.798280Z",
     "shell.execute_reply": "2025-07-06T16:59:07.797235Z",
     "shell.execute_reply.started": "2025-07-06T16:59:07.789326Z"
    }
   },
   "outputs": [
    {
     "data": {
      "text/html": [
       "<div>\n",
       "<style scoped>\n",
       "    .dataframe tbody tr th:only-of-type {\n",
       "        vertical-align: middle;\n",
       "    }\n",
       "\n",
       "    .dataframe tbody tr th {\n",
       "        vertical-align: top;\n",
       "    }\n",
       "\n",
       "    .dataframe thead th {\n",
       "        text-align: right;\n",
       "    }\n",
       "</style>\n",
       "<table border=\"1\" class=\"dataframe\">\n",
       "  <thead>\n",
       "    <tr style=\"text-align: right;\">\n",
       "      <th></th>\n",
       "      <th>index</th>\n",
       "      <th>id1</th>\n",
       "      <th>id2</th>\n",
       "      <th>id3</th>\n",
       "      <th>id5</th>\n",
       "      <th>pred</th>\n",
       "    </tr>\n",
       "  </thead>\n",
       "  <tbody>\n",
       "    <tr>\n",
       "      <th>0</th>\n",
       "      <td>82037</td>\n",
       "      <td>1000061_62395_16-23_2023-11-05 09:28:07.805</td>\n",
       "      <td>1000061</td>\n",
       "      <td>62395</td>\n",
       "      <td>2023-11-05</td>\n",
       "      <td>1</td>\n",
       "    </tr>\n",
       "    <tr>\n",
       "      <th>1</th>\n",
       "      <td>269190</td>\n",
       "      <td>1000061_27945_16-23_2023-11-05 09:28:04.157</td>\n",
       "      <td>1000061</td>\n",
       "      <td>27945</td>\n",
       "      <td>2023-11-05</td>\n",
       "      <td>1</td>\n",
       "    </tr>\n",
       "    <tr>\n",
       "      <th>2</th>\n",
       "      <td>8135</td>\n",
       "      <td>1000061_403431_16-23_2023-11-05 09:28:10.592</td>\n",
       "      <td>1000061</td>\n",
       "      <td>403431</td>\n",
       "      <td>2023-11-05</td>\n",
       "      <td>1</td>\n",
       "    </tr>\n",
       "    <tr>\n",
       "      <th>3</th>\n",
       "      <td>288480</td>\n",
       "      <td>1000061_31794_16-23_2023-11-05 09:47:54.852</td>\n",
       "      <td>1000061</td>\n",
       "      <td>31794</td>\n",
       "      <td>2023-11-05</td>\n",
       "      <td>1</td>\n",
       "    </tr>\n",
       "    <tr>\n",
       "      <th>4</th>\n",
       "      <td>153767</td>\n",
       "      <td>1000061_5420674_16-23_2023-11-05 09:28:04.153</td>\n",
       "      <td>1000061</td>\n",
       "      <td>5420674</td>\n",
       "      <td>2023-11-05</td>\n",
       "      <td>1</td>\n",
       "    </tr>\n",
       "  </tbody>\n",
       "</table>\n",
       "</div>"
      ],
      "text/plain": [
       "    index                                            id1      id2      id3  \\\n",
       "0   82037    1000061_62395_16-23_2023-11-05 09:28:07.805  1000061    62395   \n",
       "1  269190    1000061_27945_16-23_2023-11-05 09:28:04.157  1000061    27945   \n",
       "2    8135   1000061_403431_16-23_2023-11-05 09:28:10.592  1000061   403431   \n",
       "3  288480    1000061_31794_16-23_2023-11-05 09:47:54.852  1000061    31794   \n",
       "4  153767  1000061_5420674_16-23_2023-11-05 09:28:04.153  1000061  5420674   \n",
       "\n",
       "          id5  pred  \n",
       "0  2023-11-05     1  \n",
       "1  2023-11-05     1  \n",
       "2  2023-11-05     1  \n",
       "3  2023-11-05     1  \n",
       "4  2023-11-05     1  "
      ]
     },
     "execution_count": 34,
     "metadata": {},
     "output_type": "execute_result"
    }
   ],
   "source": [
    "test_df.head()"
   ]
  },
  {
   "cell_type": "code",
   "execution_count": 35,
   "metadata": {
    "execution": {
     "iopub.execute_input": "2025-07-06T16:59:09.429059Z",
     "iopub.status.busy": "2025-07-06T16:59:09.426171Z",
     "iopub.status.idle": "2025-07-06T16:59:09.458097Z",
     "shell.execute_reply": "2025-07-06T16:59:09.457009Z",
     "shell.execute_reply.started": "2025-07-06T16:59:09.428998Z"
    }
   },
   "outputs": [],
   "source": [
    "test_df.drop(columns=['index'],inplace=True)"
   ]
  },
  {
   "cell_type": "code",
   "execution_count": 36,
   "metadata": {
    "execution": {
     "iopub.execute_input": "2025-07-06T16:59:14.635562Z",
     "iopub.status.busy": "2025-07-06T16:59:14.635242Z",
     "iopub.status.idle": "2025-07-06T16:59:14.648876Z",
     "shell.execute_reply": "2025-07-06T16:59:14.647773Z",
     "shell.execute_reply.started": "2025-07-06T16:59:14.635539Z"
    }
   },
   "outputs": [
    {
     "data": {
      "text/html": [
       "<div>\n",
       "<style scoped>\n",
       "    .dataframe tbody tr th:only-of-type {\n",
       "        vertical-align: middle;\n",
       "    }\n",
       "\n",
       "    .dataframe tbody tr th {\n",
       "        vertical-align: top;\n",
       "    }\n",
       "\n",
       "    .dataframe thead th {\n",
       "        text-align: right;\n",
       "    }\n",
       "</style>\n",
       "<table border=\"1\" class=\"dataframe\">\n",
       "  <thead>\n",
       "    <tr style=\"text-align: right;\">\n",
       "      <th></th>\n",
       "      <th>id1</th>\n",
       "      <th>id2</th>\n",
       "      <th>id3</th>\n",
       "      <th>id5</th>\n",
       "      <th>pred</th>\n",
       "    </tr>\n",
       "  </thead>\n",
       "  <tbody>\n",
       "    <tr>\n",
       "      <th>0</th>\n",
       "      <td>1000061_62395_16-23_2023-11-05 09:28:07.805</td>\n",
       "      <td>1000061</td>\n",
       "      <td>62395</td>\n",
       "      <td>2023-11-05</td>\n",
       "      <td>1</td>\n",
       "    </tr>\n",
       "    <tr>\n",
       "      <th>1</th>\n",
       "      <td>1000061_27945_16-23_2023-11-05 09:28:04.157</td>\n",
       "      <td>1000061</td>\n",
       "      <td>27945</td>\n",
       "      <td>2023-11-05</td>\n",
       "      <td>1</td>\n",
       "    </tr>\n",
       "    <tr>\n",
       "      <th>2</th>\n",
       "      <td>1000061_403431_16-23_2023-11-05 09:28:10.592</td>\n",
       "      <td>1000061</td>\n",
       "      <td>403431</td>\n",
       "      <td>2023-11-05</td>\n",
       "      <td>1</td>\n",
       "    </tr>\n",
       "    <tr>\n",
       "      <th>3</th>\n",
       "      <td>1000061_31794_16-23_2023-11-05 09:47:54.852</td>\n",
       "      <td>1000061</td>\n",
       "      <td>31794</td>\n",
       "      <td>2023-11-05</td>\n",
       "      <td>1</td>\n",
       "    </tr>\n",
       "    <tr>\n",
       "      <th>4</th>\n",
       "      <td>1000061_5420674_16-23_2023-11-05 09:28:04.153</td>\n",
       "      <td>1000061</td>\n",
       "      <td>5420674</td>\n",
       "      <td>2023-11-05</td>\n",
       "      <td>1</td>\n",
       "    </tr>\n",
       "  </tbody>\n",
       "</table>\n",
       "</div>"
      ],
      "text/plain": [
       "                                             id1      id2      id3  \\\n",
       "0    1000061_62395_16-23_2023-11-05 09:28:07.805  1000061    62395   \n",
       "1    1000061_27945_16-23_2023-11-05 09:28:04.157  1000061    27945   \n",
       "2   1000061_403431_16-23_2023-11-05 09:28:10.592  1000061   403431   \n",
       "3    1000061_31794_16-23_2023-11-05 09:47:54.852  1000061    31794   \n",
       "4  1000061_5420674_16-23_2023-11-05 09:28:04.153  1000061  5420674   \n",
       "\n",
       "          id5  pred  \n",
       "0  2023-11-05     1  \n",
       "1  2023-11-05     1  \n",
       "2  2023-11-05     1  \n",
       "3  2023-11-05     1  \n",
       "4  2023-11-05     1  "
      ]
     },
     "execution_count": 36,
     "metadata": {},
     "output_type": "execute_result"
    }
   ],
   "source": [
    "test_df.head()"
   ]
  },
  {
   "cell_type": "code",
   "execution_count": 37,
   "metadata": {
    "execution": {
     "iopub.execute_input": "2025-07-06T16:59:30.237440Z",
     "iopub.status.busy": "2025-07-06T16:59:30.237135Z",
     "iopub.status.idle": "2025-07-06T16:59:31.273437Z",
     "shell.execute_reply": "2025-07-06T16:59:31.272576Z",
     "shell.execute_reply.started": "2025-07-06T16:59:30.237418Z"
    }
   },
   "outputs": [],
   "source": [
    "test_df.to_csv('submission2.csv',index=False)"
   ]
  },
  {
   "cell_type": "code",
   "execution_count": 38,
   "metadata": {
    "execution": {
     "iopub.execute_input": "2025-07-06T16:59:47.524372Z",
     "iopub.status.busy": "2025-07-06T16:59:47.523035Z",
     "iopub.status.idle": "2025-07-06T16:59:48.463364Z",
     "shell.execute_reply": "2025-07-06T16:59:48.462275Z",
     "shell.execute_reply.started": "2025-07-06T16:59:47.524322Z"
    }
   },
   "outputs": [
    {
     "name": "stderr",
     "output_type": "stream",
     "text": [
      "/usr/local/lib/python3.11/dist-packages/lightgbm/sklearn.py:777: UserWarning: Found 'ndcg_at' in params. Will use it instead of 'eval_at' argument\n",
      "  _log_warning(f\"Found '{alias}' in params. Will use it instead of 'eval_at' argument\")\n",
      "/tmp/ipykernel_35/1471641287.py:1: SettingWithCopyWarning: \n",
      "A value is trying to be set on a copy of a slice from a DataFrame.\n",
      "Try using .loc[row_indexer,col_indexer] = value instead\n",
      "\n",
      "See the caveats in the documentation: https://pandas.pydata.org/pandas-docs/stable/user_guide/indexing.html#returning-a-view-versus-a-copy\n",
      "  df_test['score'] = ranker.predict(X_test)\n"
     ]
    }
   ],
   "source": [
    "df_test['score'] = ranker.predict(X_test)\n",
    "df_test = df_test.sort_values(['id2', 'score'], ascending=[True, False])"
   ]
  },
  {
   "cell_type": "code",
   "execution_count": 39,
   "metadata": {
    "execution": {
     "iopub.execute_input": "2025-07-06T16:59:48.465213Z",
     "iopub.status.busy": "2025-07-06T16:59:48.464912Z",
     "iopub.status.idle": "2025-07-06T16:59:48.482945Z",
     "shell.execute_reply": "2025-07-06T16:59:48.482099Z",
     "shell.execute_reply.started": "2025-07-06T16:59:48.465191Z"
    }
   },
   "outputs": [
    {
     "data": {
      "text/html": [
       "<div>\n",
       "<style scoped>\n",
       "    .dataframe tbody tr th:only-of-type {\n",
       "        vertical-align: middle;\n",
       "    }\n",
       "\n",
       "    .dataframe tbody tr th {\n",
       "        vertical-align: top;\n",
       "    }\n",
       "\n",
       "    .dataframe thead th {\n",
       "        text-align: right;\n",
       "    }\n",
       "</style>\n",
       "<table border=\"1\" class=\"dataframe\">\n",
       "  <thead>\n",
       "    <tr style=\"text-align: right;\">\n",
       "      <th></th>\n",
       "      <th>id1</th>\n",
       "      <th>id2</th>\n",
       "      <th>id3</th>\n",
       "      <th>score</th>\n",
       "    </tr>\n",
       "  </thead>\n",
       "  <tbody>\n",
       "    <tr>\n",
       "      <th>575715</th>\n",
       "      <td>1000043_69026_16-23_2023-11-03 13:59:42.714</td>\n",
       "      <td>1000043</td>\n",
       "      <td>69026</td>\n",
       "      <td>-0.184929</td>\n",
       "    </tr>\n",
       "    <tr>\n",
       "      <th>575716</th>\n",
       "      <td>1000043_93516_16-23_2023-11-03 13:59:42.346</td>\n",
       "      <td>1000043</td>\n",
       "      <td>93516</td>\n",
       "      <td>-3.088331</td>\n",
       "    </tr>\n",
       "    <tr>\n",
       "      <th>543490</th>\n",
       "      <td>1000237_783808_16-23_2023-11-03 19:57:59.010</td>\n",
       "      <td>1000237</td>\n",
       "      <td>783808</td>\n",
       "      <td>-2.147111</td>\n",
       "    </tr>\n",
       "    <tr>\n",
       "      <th>543489</th>\n",
       "      <td>1000237_169639_16-23_2023-11-03 19:57:58.992</td>\n",
       "      <td>1000237</td>\n",
       "      <td>169639</td>\n",
       "      <td>-2.219415</td>\n",
       "    </tr>\n",
       "    <tr>\n",
       "      <th>164324</th>\n",
       "      <td>1000328_753828_16-23_2023-11-01 14:28:38.075</td>\n",
       "      <td>1000328</td>\n",
       "      <td>753828</td>\n",
       "      <td>-1.401329</td>\n",
       "    </tr>\n",
       "  </tbody>\n",
       "</table>\n",
       "</div>"
      ],
      "text/plain": [
       "                                                 id1      id2     id3  \\\n",
       "575715   1000043_69026_16-23_2023-11-03 13:59:42.714  1000043   69026   \n",
       "575716   1000043_93516_16-23_2023-11-03 13:59:42.346  1000043   93516   \n",
       "543490  1000237_783808_16-23_2023-11-03 19:57:59.010  1000237  783808   \n",
       "543489  1000237_169639_16-23_2023-11-03 19:57:58.992  1000237  169639   \n",
       "164324  1000328_753828_16-23_2023-11-01 14:28:38.075  1000328  753828   \n",
       "\n",
       "           score  \n",
       "575715 -0.184929  \n",
       "575716 -3.088331  \n",
       "543490 -2.147111  \n",
       "543489 -2.219415  \n",
       "164324 -1.401329  "
      ]
     },
     "execution_count": 39,
     "metadata": {},
     "output_type": "execute_result"
    }
   ],
   "source": [
    "df_test = df_test[['id1','id2','id3','score']]\n",
    "df_test.head()"
   ]
  },
  {
   "cell_type": "code",
   "execution_count": 40,
   "metadata": {
    "execution": {
     "iopub.execute_input": "2025-07-06T16:59:48.484128Z",
     "iopub.status.busy": "2025-07-06T16:59:48.483879Z",
     "iopub.status.idle": "2025-07-06T16:59:48.500074Z",
     "shell.execute_reply": "2025-07-06T16:59:48.498744Z",
     "shell.execute_reply.started": "2025-07-06T16:59:48.484109Z"
    }
   },
   "outputs": [],
   "source": [
    "df_test['pred']=1\n",
    "df_test.drop(columns=['score'],inplace=True)"
   ]
  },
  {
   "cell_type": "code",
   "execution_count": 41,
   "metadata": {
    "execution": {
     "iopub.execute_input": "2025-07-06T16:59:49.828582Z",
     "iopub.status.busy": "2025-07-06T16:59:49.828298Z",
     "iopub.status.idle": "2025-07-06T16:59:49.844481Z",
     "shell.execute_reply": "2025-07-06T16:59:49.843641Z",
     "shell.execute_reply.started": "2025-07-06T16:59:49.828562Z"
    }
   },
   "outputs": [],
   "source": [
    "df_test['actual'] = y_test"
   ]
  },
  {
   "cell_type": "code",
   "execution_count": 42,
   "metadata": {
    "execution": {
     "iopub.execute_input": "2025-07-06T16:59:49.999075Z",
     "iopub.status.busy": "2025-07-06T16:59:49.998807Z",
     "iopub.status.idle": "2025-07-06T16:59:50.005375Z",
     "shell.execute_reply": "2025-07-06T16:59:50.004211Z",
     "shell.execute_reply.started": "2025-07-06T16:59:49.999056Z"
    }
   },
   "outputs": [],
   "source": [
    "def apk(truth,pred,k):\n",
    "    if len(pred)>k:\n",
    "        pred = pred[:k]\n",
    "        truth = truth[:k]\n",
    "    score = 0.0\n",
    "    num_hits = 0.0\n",
    "    total_relevant = sum(truth)\n",
    "    if total_relevant==0:\n",
    "        return 0.0\n",
    "    for i,(p,t) in enumerate(zip(pred,truth),start=1):\n",
    "        if p==1 and t==1:\n",
    "            num_hits += 1\n",
    "            score += num_hits/i\n",
    "    return score/total_relevant"
   ]
  },
  {
   "cell_type": "code",
   "execution_count": 43,
   "metadata": {
    "execution": {
     "iopub.execute_input": "2025-07-06T16:59:52.110463Z",
     "iopub.status.busy": "2025-07-06T16:59:52.110199Z",
     "iopub.status.idle": "2025-07-06T16:59:52.117377Z",
     "shell.execute_reply": "2025-07-06T16:59:52.115714Z",
     "shell.execute_reply.started": "2025-07-06T16:59:52.110447Z"
    }
   },
   "outputs": [],
   "source": [
    "def mapk(df,k=7):\n",
    "    grouped = df.groupby('id2')\n",
    "    ap_scores = []\n",
    "    decrease_by=0\n",
    "    for _,group in grouped:\n",
    "        pred = group['pred'].to_list()\n",
    "        actual = group['actual'].to_list()\n",
    "        if sum(actual)!=0:\n",
    "            ap = apk(actual, pred, k)\n",
    "            ap_scores.append(ap)\n",
    "    return sum(ap_scores)/len(ap_scores)"
   ]
  },
  {
   "cell_type": "code",
   "execution_count": 44,
   "metadata": {
    "execution": {
     "iopub.execute_input": "2025-07-06T16:59:52.286320Z",
     "iopub.status.busy": "2025-07-06T16:59:52.285703Z",
     "iopub.status.idle": "2025-07-06T16:59:52.296951Z",
     "shell.execute_reply": "2025-07-06T16:59:52.295702Z",
     "shell.execute_reply.started": "2025-07-06T16:59:52.286284Z"
    }
   },
   "outputs": [
    {
     "data": {
      "text/html": [
       "<div>\n",
       "<style scoped>\n",
       "    .dataframe tbody tr th:only-of-type {\n",
       "        vertical-align: middle;\n",
       "    }\n",
       "\n",
       "    .dataframe tbody tr th {\n",
       "        vertical-align: top;\n",
       "    }\n",
       "\n",
       "    .dataframe thead th {\n",
       "        text-align: right;\n",
       "    }\n",
       "</style>\n",
       "<table border=\"1\" class=\"dataframe\">\n",
       "  <thead>\n",
       "    <tr style=\"text-align: right;\">\n",
       "      <th></th>\n",
       "      <th>id1</th>\n",
       "      <th>id2</th>\n",
       "      <th>id3</th>\n",
       "      <th>pred</th>\n",
       "      <th>actual</th>\n",
       "    </tr>\n",
       "  </thead>\n",
       "  <tbody>\n",
       "    <tr>\n",
       "      <th>575715</th>\n",
       "      <td>1000043_69026_16-23_2023-11-03 13:59:42.714</td>\n",
       "      <td>1000043</td>\n",
       "      <td>69026</td>\n",
       "      <td>1</td>\n",
       "      <td>0</td>\n",
       "    </tr>\n",
       "    <tr>\n",
       "      <th>575716</th>\n",
       "      <td>1000043_93516_16-23_2023-11-03 13:59:42.346</td>\n",
       "      <td>1000043</td>\n",
       "      <td>93516</td>\n",
       "      <td>1</td>\n",
       "      <td>0</td>\n",
       "    </tr>\n",
       "    <tr>\n",
       "      <th>543490</th>\n",
       "      <td>1000237_783808_16-23_2023-11-03 19:57:59.010</td>\n",
       "      <td>1000237</td>\n",
       "      <td>783808</td>\n",
       "      <td>1</td>\n",
       "      <td>0</td>\n",
       "    </tr>\n",
       "    <tr>\n",
       "      <th>543489</th>\n",
       "      <td>1000237_169639_16-23_2023-11-03 19:57:58.992</td>\n",
       "      <td>1000237</td>\n",
       "      <td>169639</td>\n",
       "      <td>1</td>\n",
       "      <td>0</td>\n",
       "    </tr>\n",
       "    <tr>\n",
       "      <th>164324</th>\n",
       "      <td>1000328_753828_16-23_2023-11-01 14:28:38.075</td>\n",
       "      <td>1000328</td>\n",
       "      <td>753828</td>\n",
       "      <td>1</td>\n",
       "      <td>0</td>\n",
       "    </tr>\n",
       "  </tbody>\n",
       "</table>\n",
       "</div>"
      ],
      "text/plain": [
       "                                                 id1      id2     id3  pred  \\\n",
       "575715   1000043_69026_16-23_2023-11-03 13:59:42.714  1000043   69026     1   \n",
       "575716   1000043_93516_16-23_2023-11-03 13:59:42.346  1000043   93516     1   \n",
       "543490  1000237_783808_16-23_2023-11-03 19:57:59.010  1000237  783808     1   \n",
       "543489  1000237_169639_16-23_2023-11-03 19:57:58.992  1000237  169639     1   \n",
       "164324  1000328_753828_16-23_2023-11-01 14:28:38.075  1000328  753828     1   \n",
       "\n",
       "        actual  \n",
       "575715       0  \n",
       "575716       0  \n",
       "543490       0  \n",
       "543489       0  \n",
       "164324       0  "
      ]
     },
     "execution_count": 44,
     "metadata": {},
     "output_type": "execute_result"
    }
   ],
   "source": [
    "df_test.head()"
   ]
  },
  {
   "cell_type": "code",
   "execution_count": 45,
   "metadata": {
    "execution": {
     "iopub.execute_input": "2025-07-06T16:59:53.512173Z",
     "iopub.status.busy": "2025-07-06T16:59:53.511858Z",
     "iopub.status.idle": "2025-07-06T16:59:54.214262Z",
     "shell.execute_reply": "2025-07-06T16:59:54.213279Z",
     "shell.execute_reply.started": "2025-07-06T16:59:53.512152Z"
    }
   },
   "outputs": [
    {
     "name": "stdout",
     "output_type": "stream",
     "text": [
      "0.5768223057644112\n"
     ]
    }
   ],
   "source": [
    "map7_score = mapk(df_test,k=7)\n",
    "print(map7_score)"
   ]
  },
  {
   "cell_type": "code",
   "execution_count": null,
   "metadata": {},
   "outputs": [],
   "source": []
  }
 ],
 "metadata": {
  "jupytext": {
   "formats": "ipynb,auto:light"
  },
  "kaggle": {
   "accelerator": "none",
   "dataSources": [
    {
     "datasetId": 7795634,
     "sourceId": 12364285,
     "sourceType": "datasetVersion"
    },
    {
     "datasetId": 7806972,
     "sourceId": 12381204,
     "sourceType": "datasetVersion"
    },
    {
     "datasetId": 7807441,
     "sourceId": 12381845,
     "sourceType": "datasetVersion"
    }
   ],
   "dockerImageVersionId": 31040,
   "isGpuEnabled": false,
   "isInternetEnabled": false,
   "language": "python",
   "sourceType": "notebook"
  },
  "kernelspec": {
   "display_name": "Python 3 (ipykernel)",
   "language": "python",
   "name": "python3"
  },
  "language_info": {
   "codemirror_mode": {
    "name": "ipython",
    "version": 3
   },
   "file_extension": ".py",
   "mimetype": "text/x-python",
   "name": "python",
   "nbconvert_exporter": "python",
   "pygments_lexer": "ipython3",
   "version": "3.12.3"
  }
 },
 "nbformat": 4,
 "nbformat_minor": 4
}
