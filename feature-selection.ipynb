{
 "cells": [
  {
   "cell_type": "code",
   "execution_count": 1,
   "metadata": {
    "_cell_guid": "b1076dfc-b9ad-4769-8c92-a6c4dae69d19",
    "_uuid": "8f2839f25d086af736a60e9eeb907d3b93b6e0e5",
    "execution": {
     "iopub.execute_input": "2025-07-10T07:16:36.129848Z",
     "iopub.status.busy": "2025-07-10T07:16:36.129561Z",
     "iopub.status.idle": "2025-07-10T07:16:37.713276Z",
     "shell.execute_reply": "2025-07-10T07:16:37.712514Z",
     "shell.execute_reply.started": "2025-07-10T07:16:36.129819Z"
    }
   },
   "outputs": [],
   "source": [
    "import numpy as np\n",
    "import pandas as pd"
   ]
  },
  {
   "cell_type": "code",
   "execution_count": 2,
   "metadata": {
    "execution": {
     "iopub.execute_input": "2025-07-09T13:50:28.936057Z",
     "iopub.status.busy": "2025-07-09T13:50:28.935646Z",
     "iopub.status.idle": "2025-07-09T13:51:45.558452Z",
     "shell.execute_reply": "2025-07-09T13:51:45.557523Z",
     "shell.execute_reply.started": "2025-07-09T13:50:28.936021Z"
    }
   },
   "outputs": [],
   "source": [
    "train = pd.read_csv('/kaggle/input/cleaned-from-raw/train_cleaned.csv')\n",
    "test = pd.read_csv('/kaggle/input/cleaned-from-raw/test_cleaned.csv')"
   ]
  },
  {
   "cell_type": "code",
   "execution_count": 3,
   "metadata": {
    "execution": {
     "iopub.execute_input": "2025-07-09T13:52:17.075797Z",
     "iopub.status.busy": "2025-07-09T13:52:17.075459Z",
     "iopub.status.idle": "2025-07-09T13:52:17.098827Z",
     "shell.execute_reply": "2025-07-09T13:52:17.097927Z",
     "shell.execute_reply.started": "2025-07-09T13:52:17.075772Z"
    }
   },
   "outputs": [],
   "source": [
    "label = pd.read_csv('/kaggle/input/cleaned-from-raw/mask_to_actual_labeling.csv')\n",
    "label = label[label['masked_column'].isin(train.columns)]"
   ]
  },
  {
   "cell_type": "code",
   "execution_count": 14,
   "metadata": {
    "execution": {
     "iopub.execute_input": "2025-07-09T13:56:54.451278Z",
     "iopub.status.busy": "2025-07-09T13:56:54.450484Z",
     "iopub.status.idle": "2025-07-09T13:56:54.464752Z",
     "shell.execute_reply": "2025-07-09T13:56:54.463511Z",
     "shell.execute_reply.started": "2025-07-09T13:56:54.451239Z"
    }
   },
   "outputs": [
    {
     "name": "stdout",
     "output_type": "stream",
     "text": [
      "day\n",
      "dayofweek\n",
      "hour\n",
      "minute\n",
      "second\n",
      "is_month_start\n",
      "is_month_end\n",
      "is_weekend\n"
     ]
    }
   ],
   "source": [
    "for col in train.columns:\n",
    "    if col not in label['masked_column'].to_list():\n",
    "        print(col)"
   ]
  },
  {
   "cell_type": "code",
   "execution_count": 9,
   "metadata": {
    "execution": {
     "iopub.execute_input": "2025-07-09T13:54:16.877709Z",
     "iopub.status.busy": "2025-07-09T13:54:16.877395Z",
     "iopub.status.idle": "2025-07-09T13:54:17.822975Z",
     "shell.execute_reply": "2025-07-09T13:54:17.822019Z",
     "shell.execute_reply.started": "2025-07-09T13:54:16.877658Z"
    }
   },
   "outputs": [],
   "source": [
    "train.drop(columns=['year','month','quarter','weekofyear'],inplace=True)\n",
    "test.drop(columns=['year','month','quarter','weekofyear'],inplace=True)"
   ]
  },
  {
   "cell_type": "code",
   "execution_count": 15,
   "metadata": {
    "execution": {
     "iopub.execute_input": "2025-07-09T14:16:10.247574Z",
     "iopub.status.busy": "2025-07-09T14:16:10.247241Z",
     "iopub.status.idle": "2025-07-09T14:16:10.256958Z",
     "shell.execute_reply": "2025-07-09T14:16:10.255747Z",
     "shell.execute_reply.started": "2025-07-09T14:16:10.247552Z"
    }
   },
   "outputs": [],
   "source": [
    "cols = ['day','dayofweek','hour','minute','second','is_month_start','is_month_end','is_weekend']\n",
    "desc = ['day','dayofweek','hour','minute','second','is_month_start','is_month_end','is_weekend']\n",
    "types = ['Categorical','Categorical','Categorical','Categorical','Categorical','Categorical','Categorical','Categorical',]\n",
    "to_add = pd.DataFrame({'masked_column':cols,'Description':desc,'Type':types})\n",
    "label = pd.concat([label,to_add],axis=0)"
   ]
  },
  {
   "cell_type": "code",
   "execution_count": 17,
   "metadata": {
    "execution": {
     "iopub.execute_input": "2025-07-09T14:17:21.144453Z",
     "iopub.status.busy": "2025-07-09T14:17:21.144141Z",
     "iopub.status.idle": "2025-07-09T14:17:21.150348Z",
     "shell.execute_reply": "2025-07-09T14:17:21.149461Z",
     "shell.execute_reply.started": "2025-07-09T14:17:21.144427Z"
    }
   },
   "outputs": [
    {
     "data": {
      "text/plain": [
       "(770164, 317)"
      ]
     },
     "execution_count": 17,
     "metadata": {},
     "output_type": "execute_result"
    }
   ],
   "source": [
    "train.shape"
   ]
  },
  {
   "cell_type": "code",
   "execution_count": 19,
   "metadata": {
    "execution": {
     "iopub.execute_input": "2025-07-09T14:19:34.118231Z",
     "iopub.status.busy": "2025-07-09T14:19:34.117937Z",
     "iopub.status.idle": "2025-07-09T14:47:47.047556Z",
     "shell.execute_reply": "2025-07-09T14:47:47.046093Z",
     "shell.execute_reply.started": "2025-07-09T14:19:34.118212Z"
    }
   },
   "outputs": [
    {
     "name": "stdout",
     "output_type": "stream",
     "text": [
      "f1 , 0.0030747559081327758\n",
      "f2 , 0.003192813781031978\n",
      "f3 , 0.0012544370700682261\n",
      "f4 , 0.0011272994270388192\n",
      "f5 , 0.004037919444914495\n",
      "f6 , 0.004918224884668199\n",
      "f7 , 0.0023566972807427256\n",
      "f8 , 0.003495919767418254\n",
      "f9 , 0.0039028841370472023\n",
      "f10 , 0.004207103659204847\n",
      "f11 , 0.00379309665338301\n",
      "f12 , 0.003620840161389749\n",
      "f13 , 0.16668095774258085\n",
      "f18 , 0.00018765236732254387\n",
      "f22 , 0.005675020185807567\n",
      "f26 , 0.001888782102016151\n",
      "f27 , 0.002644824309941063\n",
      "f28 , 0.0950934746568326\n",
      "f29 , 0.10973497277368494\n",
      "f30 , 0.09189081356686568\n",
      "f31 , 0.08933841841560297\n",
      "f32 , 0.03193010078215042\n",
      "f33 , 0.00020846419963116425\n",
      "f34 , 0.00016413719404595462\n",
      "f35 , 0.08378541445806542\n",
      "f36 , 0.0023241448749515836\n",
      "f37 , 0.0\n",
      "f38 , 0.008702536908409275\n",
      "f39 , 0.06393679083821335\n",
      "f40 , 0.0207916182591823\n",
      "f41 , 0.07662445206952273\n",
      "f43 , 0.024733539861916842\n",
      "f44 , 0.0019128387370610511\n",
      "f45 , 0.0029754671663575483\n",
      "f46 , 0.050873058866932164\n",
      "f47 , 0.05451523587660212\n",
      "f49 , 0.014077609017513648\n",
      "f51 , 0.05017875785417392\n",
      "f58 , 0.057026690941769376\n",
      "f59 , 0.09431645278809908\n",
      "f60 , 0.015159304325972789\n",
      "f61 , 0.00042488537436113916\n",
      "f63 , 0.0008514193347617383\n",
      "f64 , 0.00021229123770605263\n",
      "f65 , 0.022704901926518417\n",
      "f67 , 0.09408660775154498\n",
      "f68 , 0.0967856307178967\n",
      "f69 , 0.041563697305116554\n",
      "f70 , 0.0\n",
      "f71 , 0.00019135636232481268\n",
      "f72 , 0.005909462179211067\n",
      "f73 , 0.021891763850931056\n",
      "f74 , 0.04423990299273739\n",
      "f75 , 0.00040471215332815724\n",
      "f76 , 0.09717376054250937\n",
      "f77 , 0.08628647493048236\n",
      "f78 , 0.0237819005851454\n",
      "f79 , 0.0010894724032253222\n",
      "f81 , 0.0009713051014192953\n",
      "f82 , 0.01014342941988744\n",
      "f83 , 0.02474779456279763\n",
      "f84 , 0.0\n",
      "f85 , 0.07697785850232597\n",
      "f86 , 0.04910886291461125\n",
      "f87 , 0.006427488023602157\n",
      "f89 , 0.006858935163357005\n",
      "f90 , 0.033774175117205374\n",
      "f91 , 0.04583912996822548\n",
      "f92 , 0.0\n",
      "f93 , 0.07550057888018769\n",
      "f94 , 0.02026395298002548\n",
      "f95 , 0.04252244165029917\n",
      "f96 , 0.029415434371783622\n",
      "f97 , 0.019330114190435177\n",
      "f98 , 0.021348156220544645\n",
      "f99 , 0.030215510299148596\n",
      "f100 , 0.012328585540658743\n",
      "f101 , 0.009809119536702715\n",
      "f103 , 0.05621896644384239\n",
      "f104 , 0.010086954978272056\n",
      "f105 , 0.04785594983583219\n",
      "f106 , 0.03197363440839385\n",
      "f107 , 0.011107002689663803\n",
      "f108 , 0.02453292065058732\n",
      "f109 , 0.022695331369627425\n",
      "f110 , 0.00330094736439257\n",
      "f111 , 0.005516777337321921\n",
      "f113 , 0.06851522499063822\n",
      "f114 , 0.005771344522585098\n",
      "f115 , 0.047076888769084\n",
      "f116 , 0.02473254899942523\n",
      "f117 , 0.006803348467650849\n",
      "f118 , 0.01941603836200345\n",
      "f119 , 0.0160717240326107\n",
      "f120 , 0.0001642994229682504\n",
      "f121 , 0.0048569546123204965\n",
      "f123 , 0.03709563976416619\n",
      "f124 , 0.03471354660699211\n",
      "f125 , 0.05812647430731843\n",
      "f126 , 0.029614661747741966\n",
      "f127 , 0.044427713127647595\n",
      "f130 , 0.07290494652619217\n",
      "f131 , 0.05640281229635602\n",
      "f132 , 0.08839138119339718\n",
      "f133 , 0.07040303727530817\n",
      "f134 , 0.07795806956321139\n",
      "f137 , 0.08859989297966142\n",
      "f138 , 0.08446781543109716\n",
      "f139 , 0.0829015673086877\n",
      "f140 , 0.07083610146181152\n",
      "f141 , 0.06342772347908054\n",
      "f142 , 0.07328986289625106\n",
      "f143 , 0.06957714318511488\n",
      "f146 , 0.08544445881596019\n",
      "f147 , 0.08634837346967927\n",
      "f148 , 0.0950350419426198\n",
      "f149 , 0.07002101470992339\n",
      "f150 , 0.087296161468152\n",
      "f151 , 0.07481973750705007\n",
      "f152 , 0.0025963928732555264\n",
      "f153 , 0.0025654910984345136\n",
      "f154 , 0.013502446928804535\n",
      "f155 , 0.004622481302136494\n",
      "f156 , 0.0036562834565807556\n",
      "f157 , 0.013930344642903991\n",
      "f158 , 0.020702792482116372\n",
      "f159 , 0.004933961647651142\n",
      "f160 , 0.0010843921425560676\n",
      "f161 , 0.006345454701444986\n",
      "f162 , 0.008524328771760903\n",
      "f163 , 0.037530283745482285\n",
      "f164 , 0.03640494544434514\n",
      "f165 , 0.0\n",
      "f166 , 0.05173813607494582\n",
      "f167 , 0.04692761973391013\n",
      "f168 , 0.07422278223483936\n",
      "f169 , 0.08872882469464582\n",
      "f170 , 0.053097056818812716\n",
      "f171 , 0.01605397497440153\n",
      "f172 , 0.05688988623711788\n",
      "f173 , 0.0643465373379748\n",
      "f174 , 0.002470486793617832\n",
      "f175 , 0.0012105726718012466\n",
      "f176 , 0.00016575038525412644\n",
      "f177 , 0.0025598175513215082\n",
      "f178 , 0.002798822771179932\n",
      "f179 , 0.0062845829561595234\n",
      "f180 , 0.006949189015263757\n",
      "f181 , 0.003436845827382795\n",
      "f182 , 0.0008893039364386013\n",
      "f183 , 0.004395050623181573\n",
      "f184 , 0.0028165600264247193\n",
      "f185 , 0.0021774849922879813\n",
      "f186 , 0.012040071036208522\n",
      "f187 , 0.023397041246281614\n",
      "f188 , 0.019608640622873263\n",
      "f189 , 0.0\n",
      "f190 , 0.02977695912717837\n",
      "f191 , 0.02280170572651552\n",
      "f192 , 0.046490427570089254\n",
      "f193 , 0.04964077381993337\n",
      "f194 , 0.031991157270933934\n",
      "f195 , 0.011529332975752205\n",
      "f196 , 0.03297565555837867\n",
      "f197 , 0.03429068332421625\n",
      "f198 , 0.01538104151050268\n",
      "f199 , 0.07772851176196394\n",
      "f200 , 0.09772440545623762\n",
      "f201 , 0.06872906363498776\n",
      "f202 , 0.09622871132525757\n",
      "f203 , 0.09594405782262383\n",
      "f204 , 0.09651887920113844\n",
      "f205 , 0.00011216698172833439\n",
      "f206 , 0.0006346054828254566\n",
      "f207 , 0.020111696200487694\n",
      "f208 , 0.01635085141740822\n",
      "f209 , 0.02260093902753213\n",
      "f210 , 0.02986258757481841\n",
      "f211 , 0.008411807967177332\n",
      "f212 , 0.00792771568506323\n",
      "f213 , 0.14128888295846787\n",
      "f214 , 0.010437574449025933\n",
      "f215 , 0.013980502652660265\n",
      "f216 , 0.01705591912852178\n",
      "f217 , 0.018130557457050944\n",
      "f219 , 0.019717886464589274\n",
      "f220 , 0.0011851902837596295\n",
      "f221 , 0.17498972654146072\n",
      "f222 , 0.06612896991257156\n",
      "f223 , 0.017630565020133382\n",
      "f224 , 0.013758449554318819\n",
      "f225 , 0.017870075046856337\n",
      "f310 , 0.04706152364182725\n",
      "f311 , 0.04697823631261144\n",
      "f312 , 0.04706913052465467\n",
      "f313 , 0.018431994413073527\n",
      "f314 , 0.018749029053639843\n",
      "f315 , 0.016047651848501987\n",
      "f316 , 0.01749340522634757\n",
      "f317 , 0.01728842392521046\n",
      "f318 , 0.01819153506886284\n",
      "f319 , 0.018832250169446008\n",
      "f320 , 0.018657528690732006\n",
      "f321 , 0.018896251071454095\n",
      "f322 , 0.01905368298612853\n",
      "f323 , 0.01861449836261153\n",
      "f324 , 0.018993802446382935\n",
      "f325 , 0.018189955160502924\n",
      "f326 , 0.01835624678059533\n",
      "f327 , 0.01862961141796382\n",
      "f328 , 0.01974951058704133\n",
      "f329 , 0.02928963554107522\n",
      "f330 , 0.027768985542687696\n",
      "f331 , 0.025334100646409174\n",
      "f332 , 0.1427767721650064\n",
      "f333 , 0.01687805572613743\n",
      "f336 , 0.03472838683945012\n",
      "f337 , 0.022803883751555398\n",
      "f338 , 0.023107584373334378\n",
      "f339 , 0.024618713142209758\n",
      "f340 , 0.027281585888483173\n",
      "f341 , 0.0173560049357544\n",
      "f342 , 0.02292550584331421\n",
      "f343 , 0.023173536146817275\n",
      "f344 , 0.023374109306312896\n",
      "f345 , 0.017487850318532283\n",
      "f346 , 0.01692748851624226\n",
      "f347 , 0.019912281688228894\n",
      "f348 , 0.019103253574777046\n",
      "f350 , 0.09776071142879927\n",
      "f351 , 0.022400950026074895\n",
      "f352 , 0.02455745298515577\n",
      "f353 , 0.05932097821522664\n",
      "f355 , 0.019106006810171605\n",
      "f356 , 0.019355261645418675\n",
      "f357 , 0.01876825438968832\n",
      "f358 , 0.022873807482358677\n",
      "f359 , 0.00013902902523343919\n",
      "f360 , 0.0\n",
      "f361 , 0.00595217210917709\n",
      "f362 , 0.029807042936657924\n",
      "f363 , 0.05889802574930747\n",
      "f364 , 0.022412279852080497\n",
      "f365 , 0.047766997532443733\n",
      "f366 , 0.08167399257591135\n",
      "out of range\n",
      "out of range\n",
      "out of range\n",
      "out of range\n",
      "out of range\n"
     ]
    },
    {
     "ename": "ValueError",
     "evalue": "at least one array or dtype is required",
     "output_type": "error",
     "traceback": [
      "\u001b[0;31m---------------------------------------------------------------------------\u001b[0m",
      "\u001b[0;31mValueError\u001b[0m                                Traceback (most recent call last)",
      "\u001b[0;32m/tmp/ipykernel_36/4154019761.py\u001b[0m in \u001b[0;36m<cell line: 0>\u001b[0;34m()\u001b[0m\n\u001b[1;32m      7\u001b[0m \u001b[0mdic\u001b[0m \u001b[0;34m=\u001b[0m \u001b[0;34m{\u001b[0m\u001b[0;34m}\u001b[0m\u001b[0;34m\u001b[0m\u001b[0;34m\u001b[0m\u001b[0m\n\u001b[1;32m      8\u001b[0m \u001b[0;32mfor\u001b[0m \u001b[0mi\u001b[0m \u001b[0;32min\u001b[0m \u001b[0mrange\u001b[0m\u001b[0;34m(\u001b[0m\u001b[0;36m0\u001b[0m\u001b[0;34m,\u001b[0m\u001b[0mX\u001b[0m\u001b[0;34m.\u001b[0m\u001b[0mshape\u001b[0m\u001b[0;34m[\u001b[0m\u001b[0;36m1\u001b[0m\u001b[0;34m]\u001b[0m\u001b[0;34m+\u001b[0m\u001b[0;36m10\u001b[0m\u001b[0;34m,\u001b[0m\u001b[0;36m10\u001b[0m\u001b[0;34m)\u001b[0m\u001b[0;34m:\u001b[0m\u001b[0;34m\u001b[0m\u001b[0;34m\u001b[0m\u001b[0m\n\u001b[0;32m----> 9\u001b[0;31m     \u001b[0mmi_scores\u001b[0m \u001b[0;34m=\u001b[0m \u001b[0mmutual_info_classif\u001b[0m\u001b[0;34m(\u001b[0m\u001b[0mX\u001b[0m\u001b[0;34m[\u001b[0m\u001b[0mX\u001b[0m\u001b[0;34m.\u001b[0m\u001b[0mcolumns\u001b[0m\u001b[0;34m[\u001b[0m\u001b[0mi\u001b[0m\u001b[0;34m:\u001b[0m\u001b[0mi\u001b[0m\u001b[0;34m+\u001b[0m\u001b[0;36m10\u001b[0m\u001b[0;34m]\u001b[0m\u001b[0;34m]\u001b[0m\u001b[0;34m,\u001b[0m \u001b[0my\u001b[0m\u001b[0;34m,\u001b[0m \u001b[0mdiscrete_features\u001b[0m\u001b[0;34m=\u001b[0m\u001b[0;32mFalse\u001b[0m\u001b[0;34m,\u001b[0m \u001b[0mrandom_state\u001b[0m\u001b[0;34m=\u001b[0m\u001b[0;36m0\u001b[0m\u001b[0;34m)\u001b[0m\u001b[0;34m\u001b[0m\u001b[0;34m\u001b[0m\u001b[0m\n\u001b[0m\u001b[1;32m     10\u001b[0m     \u001b[0mscores\u001b[0m\u001b[0;34m.\u001b[0m\u001b[0mextend\u001b[0m\u001b[0;34m(\u001b[0m\u001b[0mmi_scores\u001b[0m\u001b[0;34m)\u001b[0m\u001b[0;34m\u001b[0m\u001b[0;34m\u001b[0m\u001b[0m\n\u001b[1;32m     11\u001b[0m     \u001b[0;32mfor\u001b[0m \u001b[0mj\u001b[0m \u001b[0;32min\u001b[0m \u001b[0mrange\u001b[0m\u001b[0;34m(\u001b[0m\u001b[0;36m0\u001b[0m\u001b[0;34m,\u001b[0m\u001b[0;36m10\u001b[0m\u001b[0;34m,\u001b[0m\u001b[0;36m1\u001b[0m\u001b[0;34m)\u001b[0m\u001b[0;34m:\u001b[0m\u001b[0;34m\u001b[0m\u001b[0;34m\u001b[0m\u001b[0m\n",
      "\u001b[0;32m/usr/local/lib/python3.11/dist-packages/sklearn/feature_selection/_mutual_info.py\u001b[0m in \u001b[0;36mmutual_info_classif\u001b[0;34m(X, y, discrete_features, n_neighbors, copy, random_state)\u001b[0m\n\u001b[1;32m    466\u001b[0m     \"\"\"\n\u001b[1;32m    467\u001b[0m     \u001b[0mcheck_classification_targets\u001b[0m\u001b[0;34m(\u001b[0m\u001b[0my\u001b[0m\u001b[0;34m)\u001b[0m\u001b[0;34m\u001b[0m\u001b[0;34m\u001b[0m\u001b[0m\n\u001b[0;32m--> 468\u001b[0;31m     \u001b[0;32mreturn\u001b[0m \u001b[0m_estimate_mi\u001b[0m\u001b[0;34m(\u001b[0m\u001b[0mX\u001b[0m\u001b[0;34m,\u001b[0m \u001b[0my\u001b[0m\u001b[0;34m,\u001b[0m \u001b[0mdiscrete_features\u001b[0m\u001b[0;34m,\u001b[0m \u001b[0;32mTrue\u001b[0m\u001b[0;34m,\u001b[0m \u001b[0mn_neighbors\u001b[0m\u001b[0;34m,\u001b[0m \u001b[0mcopy\u001b[0m\u001b[0;34m,\u001b[0m \u001b[0mrandom_state\u001b[0m\u001b[0;34m)\u001b[0m\u001b[0;34m\u001b[0m\u001b[0;34m\u001b[0m\u001b[0m\n\u001b[0m",
      "\u001b[0;32m/usr/local/lib/python3.11/dist-packages/sklearn/feature_selection/_mutual_info.py\u001b[0m in \u001b[0;36m_estimate_mi\u001b[0;34m(X, y, discrete_features, discrete_target, n_neighbors, copy, random_state)\u001b[0m\n\u001b[1;32m    253\u001b[0m            \u001b[0mData\u001b[0m \u001b[0mSets\u001b[0m\u001b[0;31m\"\u001b[0m\u001b[0;34m.\u001b[0m \u001b[0mPLoS\u001b[0m \u001b[0mONE\u001b[0m \u001b[0;36m9\u001b[0m\u001b[0;34m(\u001b[0m\u001b[0;36m2\u001b[0m\u001b[0;34m)\u001b[0m\u001b[0;34m,\u001b[0m \u001b[0;36m2014.\u001b[0m\u001b[0;34m\u001b[0m\u001b[0;34m\u001b[0m\u001b[0m\n\u001b[1;32m    254\u001b[0m     \"\"\"\n\u001b[0;32m--> 255\u001b[0;31m     \u001b[0mX\u001b[0m\u001b[0;34m,\u001b[0m \u001b[0my\u001b[0m \u001b[0;34m=\u001b[0m \u001b[0mcheck_X_y\u001b[0m\u001b[0;34m(\u001b[0m\u001b[0mX\u001b[0m\u001b[0;34m,\u001b[0m \u001b[0my\u001b[0m\u001b[0;34m,\u001b[0m \u001b[0maccept_sparse\u001b[0m\u001b[0;34m=\u001b[0m\u001b[0;34m\"csc\"\u001b[0m\u001b[0;34m,\u001b[0m \u001b[0my_numeric\u001b[0m\u001b[0;34m=\u001b[0m\u001b[0;32mnot\u001b[0m \u001b[0mdiscrete_target\u001b[0m\u001b[0;34m)\u001b[0m\u001b[0;34m\u001b[0m\u001b[0;34m\u001b[0m\u001b[0m\n\u001b[0m\u001b[1;32m    256\u001b[0m     \u001b[0mn_samples\u001b[0m\u001b[0;34m,\u001b[0m \u001b[0mn_features\u001b[0m \u001b[0;34m=\u001b[0m \u001b[0mX\u001b[0m\u001b[0;34m.\u001b[0m\u001b[0mshape\u001b[0m\u001b[0;34m\u001b[0m\u001b[0;34m\u001b[0m\u001b[0m\n\u001b[1;32m    257\u001b[0m \u001b[0;34m\u001b[0m\u001b[0m\n",
      "\u001b[0;32m/usr/local/lib/python3.11/dist-packages/sklearn/utils/validation.py\u001b[0m in \u001b[0;36mcheck_X_y\u001b[0;34m(X, y, accept_sparse, accept_large_sparse, dtype, order, copy, force_all_finite, ensure_2d, allow_nd, multi_output, ensure_min_samples, ensure_min_features, y_numeric, estimator)\u001b[0m\n\u001b[1;32m   1104\u001b[0m         )\n\u001b[1;32m   1105\u001b[0m \u001b[0;34m\u001b[0m\u001b[0m\n\u001b[0;32m-> 1106\u001b[0;31m     X = check_array(\n\u001b[0m\u001b[1;32m   1107\u001b[0m         \u001b[0mX\u001b[0m\u001b[0;34m,\u001b[0m\u001b[0;34m\u001b[0m\u001b[0;34m\u001b[0m\u001b[0m\n\u001b[1;32m   1108\u001b[0m         \u001b[0maccept_sparse\u001b[0m\u001b[0;34m=\u001b[0m\u001b[0maccept_sparse\u001b[0m\u001b[0;34m,\u001b[0m\u001b[0;34m\u001b[0m\u001b[0;34m\u001b[0m\u001b[0m\n",
      "\u001b[0;32m/usr/local/lib/python3.11/dist-packages/sklearn/utils/validation.py\u001b[0m in \u001b[0;36mcheck_array\u001b[0;34m(array, accept_sparse, accept_large_sparse, dtype, order, copy, force_all_finite, ensure_2d, allow_nd, ensure_min_samples, ensure_min_features, estimator, input_name)\u001b[0m\n\u001b[1;32m    776\u001b[0m         )\n\u001b[1;32m    777\u001b[0m         \u001b[0;32mif\u001b[0m \u001b[0mall\u001b[0m\u001b[0;34m(\u001b[0m\u001b[0misinstance\u001b[0m\u001b[0;34m(\u001b[0m\u001b[0mdtype_iter\u001b[0m\u001b[0;34m,\u001b[0m \u001b[0mnp\u001b[0m\u001b[0;34m.\u001b[0m\u001b[0mdtype\u001b[0m\u001b[0;34m)\u001b[0m \u001b[0;32mfor\u001b[0m \u001b[0mdtype_iter\u001b[0m \u001b[0;32min\u001b[0m \u001b[0mdtypes_orig\u001b[0m\u001b[0;34m)\u001b[0m\u001b[0;34m:\u001b[0m\u001b[0;34m\u001b[0m\u001b[0;34m\u001b[0m\u001b[0m\n\u001b[0;32m--> 778\u001b[0;31m             \u001b[0mdtype_orig\u001b[0m \u001b[0;34m=\u001b[0m \u001b[0mnp\u001b[0m\u001b[0;34m.\u001b[0m\u001b[0mresult_type\u001b[0m\u001b[0;34m(\u001b[0m\u001b[0;34m*\u001b[0m\u001b[0mdtypes_orig\u001b[0m\u001b[0;34m)\u001b[0m\u001b[0;34m\u001b[0m\u001b[0;34m\u001b[0m\u001b[0m\n\u001b[0m\u001b[1;32m    779\u001b[0m \u001b[0;34m\u001b[0m\u001b[0m\n\u001b[1;32m    780\u001b[0m     \u001b[0;32melif\u001b[0m \u001b[0mhasattr\u001b[0m\u001b[0;34m(\u001b[0m\u001b[0marray\u001b[0m\u001b[0;34m,\u001b[0m \u001b[0;34m\"iloc\"\u001b[0m\u001b[0;34m)\u001b[0m \u001b[0;32mand\u001b[0m \u001b[0mhasattr\u001b[0m\u001b[0;34m(\u001b[0m\u001b[0marray\u001b[0m\u001b[0;34m,\u001b[0m \u001b[0;34m\"dtype\"\u001b[0m\u001b[0;34m)\u001b[0m\u001b[0;34m:\u001b[0m\u001b[0;34m\u001b[0m\u001b[0;34m\u001b[0m\u001b[0m\n",
      "\u001b[0;31mValueError\u001b[0m: at least one array or dtype is required"
     ]
    }
   ],
   "source": [
    "from sklearn.feature_selection import mutual_info_classif\n",
    "num = label[label['Type']=='Numerical']['masked_column'].to_list()\n",
    "num.remove('id5')\n",
    "X = train[num]\n",
    "y = train['y']\n",
    "scores = []\n",
    "dic = {}\n",
    "for i in range(0,X.shape[1]+10,10):\n",
    "    mi_scores = mutual_info_classif(X[X.columns[i:i+10]], y, discrete_features=False, random_state=0)\n",
    "    scores.extend(mi_scores)\n",
    "    for j in range(0,10,1):\n",
    "        try:\n",
    "            print(str(X.columns[i+j])+\" , \"+str(mi_scores[j]))\n",
    "            dic[X.columns[i+j]] = mi_scores[j]\n",
    "        except:\n",
    "            print(\"out of range\")"
   ]
  },
  {
   "cell_type": "code",
   "execution_count": 22,
   "metadata": {
    "execution": {
     "iopub.execute_input": "2025-07-09T14:58:42.279245Z",
     "iopub.status.busy": "2025-07-09T14:58:42.278925Z",
     "iopub.status.idle": "2025-07-09T14:58:47.833347Z",
     "shell.execute_reply": "2025-07-09T14:58:47.832516Z",
     "shell.execute_reply.started": "2025-07-09T14:58:42.279220Z"
    }
   },
   "outputs": [],
   "source": [
    "dropped = []\n",
    "for col,score in dic.items():\n",
    "    if score<=0.005:\n",
    "        dropped.append(col)\n",
    "train.drop(columns=dropped,inplace=True)\n",
    "test.drop(columns=dropped,inplace=True)\n",
    "label = label[label['masked_column'].isin(train.columns)]"
   ]
  },
  {
   "cell_type": "code",
   "execution_count": 26,
   "metadata": {
    "execution": {
     "iopub.execute_input": "2025-07-09T15:00:52.076334Z",
     "iopub.status.busy": "2025-07-09T15:00:52.076006Z",
     "iopub.status.idle": "2025-07-09T15:02:07.687560Z",
     "shell.execute_reply": "2025-07-09T15:02:07.686586Z",
     "shell.execute_reply.started": "2025-07-09T15:00:52.076313Z"
    }
   },
   "outputs": [],
   "source": [
    "num = label[label['Type']=='Numerical']['masked_column'].to_list()\n",
    "num.remove('id5')\n",
    "corr_matrix = train[num].corr()"
   ]
  },
  {
   "cell_type": "code",
   "execution_count": 33,
   "metadata": {
    "execution": {
     "iopub.execute_input": "2025-07-09T15:08:35.949525Z",
     "iopub.status.busy": "2025-07-09T15:08:35.949165Z",
     "iopub.status.idle": "2025-07-09T15:08:36.139726Z",
     "shell.execute_reply": "2025-07-09T15:08:36.138553Z",
     "shell.execute_reply.started": "2025-07-09T15:08:35.949500Z"
    }
   },
   "outputs": [
    {
     "name": "stdout",
     "output_type": "stream",
     "text": [
      "234\n"
     ]
    }
   ],
   "source": [
    "cols = num.copy()\n",
    "def find_col(col):\n",
    "    for pos in range(len(lis)):\n",
    "        if col in lis[pos]:\n",
    "            return pos\n",
    "\n",
    "check = {}\n",
    "for col in cols:\n",
    "    check[col]=0\n",
    "lis=[]\n",
    "cnt=0\n",
    "for i in range(len(cols)):\n",
    "    for j in range(len(cols)):\n",
    "        if i!=j:\n",
    "            if abs(corr_matrix[cols[i]][cols[j]])>=0.85:\n",
    "                cnt+=1\n",
    "                if check[cols[i]]==0 and check[cols[j]]==0:\n",
    "                    lis.append([cols[i],cols[j]])\n",
    "                    check[cols[i]]=1\n",
    "                    check[cols[j]]=1\n",
    "                elif check[cols[i]]==0:\n",
    "                    pos = find_col(cols[j])\n",
    "                    lis[pos].append(cols[i])\n",
    "                    check[cols[i]]=1\n",
    "                    check[cols[j]]=1\n",
    "                elif check[cols[j]]==0:\n",
    "                    pos = find_col(cols[i])\n",
    "                    lis[pos].append(cols[j])\n",
    "                    check[cols[i]]=1\n",
    "                    check[cols[j]]=1\n",
    "                else:\n",
    "                    continue\n",
    "                    # it will be handled in the next correlation matrix\n",
    "print(cnt)"
   ]
  },
  {
   "cell_type": "code",
   "execution_count": 35,
   "metadata": {
    "execution": {
     "iopub.execute_input": "2025-07-09T15:09:21.342416Z",
     "iopub.status.busy": "2025-07-09T15:09:21.342080Z",
     "iopub.status.idle": "2025-07-09T15:09:21.373125Z",
     "shell.execute_reply": "2025-07-09T15:09:21.372032Z",
     "shell.execute_reply.started": "2025-07-09T15:09:21.342392Z"
    }
   },
   "outputs": [
    {
     "name": "stdout",
     "output_type": "stream",
     "text": [
      "Cumulative impressions (with decaying weights for impressions in the past) of a cust_xref_id for a merchant offer in the last 30 days \n",
      "No. of impressions for a CM in the last 14 days where past impressions get decaying weights\n",
      "No of impressions for a CM in the last 30 days where impressions days get decaying weights\n",
      "\n",
      "Spend in Restaurant in the last 3 months\n",
      "context variable fetched in real time where this is Number of seconds after 00:00 hrs \n",
      "\n",
      "Total time spent on all pages in the last 30 days\n",
      "Total time spent on pages NOT IN ANY OF THE ABOVE ONES in the last 30 days\n",
      "\n",
      "Total time spent on all pages in the last 180 days\n",
      "Total time spent in pages NOT IN ANY OF THE ABOVE ONES in the last 180 days\n",
      "\n",
      "If offer type benefit awareness then impressions  in last 180 days\n",
      "If offer type Acquisition-Others then impressions in last 180 days\n",
      "If offer type Lending/TLI then impressions in last 180 days\n",
      "Total impressions in all non-merchant categories for a CM in the last 180 days\n",
      "No of clicks for a CM in the last 30 days where past clicks get decaying weights\n",
      "No of impressions for a CM in the last 30 days where past impressions get decaying weights\n",
      "No of clicks for a CM in the last 14 days where past clicks get decaying weights\n",
      "No. of impressions for a CM in the last 14 days where past impressions get decaying weights\n",
      "If offer type Acquisition-MGM then impressions in last 180 days\n",
      "\n",
      "Number of clicks for category dining in last 60 days\n",
      "Number of clicks for category entertainment in last 60 days\n",
      "Number of clicks for category shopping in last 60 days\n",
      "Number of clicks for category services in last 60 days\n",
      "Number of clicks for category  services in last 60 days\n",
      "No of clicks for a CM in the last 30 days where past clicks get decaying weights\n",
      "No of clicks for a CM in the last 14 days where past clicks get decaying weights\n",
      "\n",
      "CTR in last 60 days  for offer type dining\n",
      "CTR in last 60 days for offer type shopping\n",
      "CTR in last 60 days  for offer type servicing\n",
      "CTR in last 60 days for all merchant offer types\n",
      "CTR in last 30 days for all merchant offer types\n",
      "\n",
      "Number of debit transactions in Retail category for last 180 days\n",
      "Total number of debit transactons in the last 180 days\n",
      "\n",
      "CM impressions on an offer with same merchant in first 7 days of that offer\n",
      "CM impressions on an offer with same merchant in first 14 days of that offer\n",
      "\n",
      "Min Spend required to qualify for the DOE Offer\n",
      "Value of discount on the merchant offer\n",
      "\n",
      "Last 1 day CTR\n",
      "Last 3 days CTR\n",
      "CTR in Last 7 days\n",
      "Impressions last 1 day\n",
      "Impressions last 3 days\n",
      "Impressions in last 7 days\n",
      "Ratio of ctr in last 1 day to ctr in last 3 days\n",
      "No of impressions on the offer (in last 3 days)\n",
      "\n",
      "Last 14 days CTR\n",
      "last 30 days CTR\n",
      "\n",
      "Clicks in last 1 day\n",
      "Clicks in last 3 days\n",
      "Clicks in last 7 days\n",
      "Clicks in last 14 days\n",
      "Impressions last 14 days\n",
      "Clicks in last 30 days\n",
      "Impressions last 30 days\n",
      "\n",
      "Redemption mode is Online\n",
      "Redemption mode is in-store\n",
      "\n",
      "CTR in the last 3 days on an offer with same merchant\n",
      "CTR in the last 7 days on an offer with same merchant\n",
      "CTR in the last 14 days on an offer with same merchant\n",
      "CTR in the last 30 days on an offer with same merchant\n",
      "\n",
      "Exponential Recovery on Age(Days since launch of offer)\n",
      "Vertical Asymptote on Age\n",
      "Hyperbolic Function of Age \n",
      "Hyperbolic Function of Click Through Rate\n",
      "\n"
     ]
    }
   ],
   "source": [
    "for l in lis:\n",
    "    for col in l:\n",
    "        print(label[label['masked_column']==col]['Description'].to_list()[0])\n",
    "    print()"
   ]
  },
  {
   "cell_type": "code",
   "execution_count": 36,
   "metadata": {
    "execution": {
     "iopub.execute_input": "2025-07-09T15:36:29.049242Z",
     "iopub.status.busy": "2025-07-09T15:36:29.048877Z",
     "iopub.status.idle": "2025-07-09T15:43:34.399598Z",
     "shell.execute_reply": "2025-07-09T15:43:34.398160Z",
     "shell.execute_reply.started": "2025-07-09T15:36:29.049220Z"
    }
   },
   "outputs": [],
   "source": [
    "from sklearn.preprocessing import LabelEncoder\n",
    "dropped=[]\n",
    "for l in lis:\n",
    "    cols=l.copy()\n",
    "    if label[label['masked_column']==cols[0]]['Type'].to_list()[0]=='Numerical':\n",
    "        X = train[cols].copy()\n",
    "        y = train['y']\n",
    "        mi_scores = mutual_info_classif(X,y,discrete_features=False,random_state=42)\n",
    "        maxi=0\n",
    "        copy = cols.copy()\n",
    "        for col,score in zip(copy,mi_scores):\n",
    "            if score>maxi:\n",
    "                maxi=score\n",
    "                keep=col\n",
    "        cols.remove(keep)\n",
    "        dropped.extend(cols)\n",
    "    elif label[label['masked_column']==cols[0]]['Type'].to_list()[0]=='Categorical':\n",
    "        X = train[cols].copy()\n",
    "        y = train['y']\n",
    "        for col in X.columns:\n",
    "            X[col] = LabelEncoder().fit_transform(X[col])\n",
    "        mi_scores = mutual_info_classif(X,y,discrete_features=True,random_state=42)\n",
    "        maxi=0\n",
    "        copy = cols.copy()\n",
    "        for col,score in zip(copy,mi_scores):\n",
    "            if score>maxi:\n",
    "                maxi=score\n",
    "                keep=col\n",
    "        cols.remove(keep)\n",
    "        dropped.extend(cols)"
   ]
  },
  {
   "cell_type": "code",
   "execution_count": 2,
   "metadata": {
    "execution": {
     "iopub.execute_input": "2025-07-10T07:16:43.548471Z",
     "iopub.status.busy": "2025-07-10T07:16:43.547870Z",
     "iopub.status.idle": "2025-07-10T07:16:43.630976Z",
     "shell.execute_reply": "2025-07-10T07:16:43.629964Z",
     "shell.execute_reply.started": "2025-07-10T07:16:43.548422Z"
    }
   },
   "outputs": [
    {
     "ename": "NameError",
     "evalue": "name 'train' is not defined",
     "output_type": "error",
     "traceback": [
      "\u001b[0;31m---------------------------------------------------------------------------\u001b[0m",
      "\u001b[0;31mNameError\u001b[0m                                 Traceback (most recent call last)",
      "\u001b[0;32m/tmp/ipykernel_36/1967777909.py\u001b[0m in \u001b[0;36m<cell line: 0>\u001b[0;34m()\u001b[0m\n\u001b[0;32m----> 1\u001b[0;31m \u001b[0mtrain\u001b[0m\u001b[0;34m.\u001b[0m\u001b[0mdrop\u001b[0m\u001b[0;34m(\u001b[0m\u001b[0mcolumns\u001b[0m\u001b[0;34m=\u001b[0m\u001b[0mdropped\u001b[0m\u001b[0;34m,\u001b[0m\u001b[0minplace\u001b[0m\u001b[0;34m=\u001b[0m\u001b[0;32mTrue\u001b[0m\u001b[0;34m)\u001b[0m\u001b[0;34m\u001b[0m\u001b[0;34m\u001b[0m\u001b[0m\n\u001b[0m\u001b[1;32m      2\u001b[0m \u001b[0mtest\u001b[0m\u001b[0;34m.\u001b[0m\u001b[0mdrop\u001b[0m\u001b[0;34m(\u001b[0m\u001b[0mcolumns\u001b[0m\u001b[0;34m=\u001b[0m\u001b[0mdropped\u001b[0m\u001b[0;34m,\u001b[0m\u001b[0minplace\u001b[0m\u001b[0;34m=\u001b[0m\u001b[0;32mTrue\u001b[0m\u001b[0;34m)\u001b[0m\u001b[0;34m\u001b[0m\u001b[0;34m\u001b[0m\u001b[0m\n",
      "\u001b[0;31mNameError\u001b[0m: name 'train' is not defined"
     ]
    }
   ],
   "source": [
    "train.drop(columns=dropped,inplace=True)\n",
    "test.drop(columns=dropped,inplace=True)"
   ]
  },
  {
   "cell_type": "code",
   "execution_count": 37,
   "metadata": {
    "execution": {
     "iopub.execute_input": "2025-07-09T15:46:15.537661Z",
     "iopub.status.busy": "2025-07-09T15:46:15.537327Z",
     "iopub.status.idle": "2025-07-09T15:51:33.962915Z",
     "shell.execute_reply": "2025-07-09T15:51:33.961575Z",
     "shell.execute_reply.started": "2025-07-09T15:46:15.537639Z"
    }
   },
   "outputs": [],
   "source": [
    "train.to_csv('train_cut_down.csv',index=False)\n",
    "test.to_csv('test_cut_down.csv',index=False)"
   ]
  },
  {
   "cell_type": "code",
   "execution_count": 38,
   "metadata": {
    "execution": {
     "iopub.execute_input": "2025-07-09T15:56:49.568724Z",
     "iopub.status.busy": "2025-07-09T15:56:49.568357Z",
     "iopub.status.idle": "2025-07-09T15:56:49.576114Z",
     "shell.execute_reply": "2025-07-09T15:56:49.575040Z",
     "shell.execute_reply.started": "2025-07-09T15:56:49.568667Z"
    }
   },
   "outputs": [],
   "source": [
    "label.to_csv('updated_label.csv',index=False)"
   ]
  },
  {
   "cell_type": "code",
   "execution_count": null,
   "metadata": {},
   "outputs": [],
   "source": []
  }
 ],
 "metadata": {
  "jupytext": {
   "formats": "ipynb,auto:light"
  },
  "kaggle": {
   "accelerator": "none",
   "dataSources": [
    {
     "datasetId": 7831280,
     "sourceId": 12417068,
     "sourceType": "datasetVersion"
    },
    {
     "datasetId": 7834380,
     "sourceId": 12421254,
     "sourceType": "datasetVersion"
    }
   ],
   "dockerImageVersionId": 31089,
   "isGpuEnabled": false,
   "isInternetEnabled": false,
   "language": "python",
   "sourceType": "notebook"
  },
  "kernelspec": {
   "display_name": "Python 3 (ipykernel)",
   "language": "python",
   "name": "python3"
  },
  "language_info": {
   "codemirror_mode": {
    "name": "ipython",
    "version": 3
   },
   "file_extension": ".py",
   "mimetype": "text/x-python",
   "name": "python",
   "nbconvert_exporter": "python",
   "pygments_lexer": "ipython3",
   "version": "3.12.3"
  }
 },
 "nbformat": 4,
 "nbformat_minor": 4
}
