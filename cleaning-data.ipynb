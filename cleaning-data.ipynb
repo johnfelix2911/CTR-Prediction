{
 "cells": [
  {
   "cell_type": "code",
   "execution_count": 1,
   "metadata": {
    "_cell_guid": "b1076dfc-b9ad-4769-8c92-a6c4dae69d19",
    "_uuid": "8f2839f25d086af736a60e9eeb907d3b93b6e0e5",
    "execution": {
     "iopub.execute_input": "2025-07-09T11:58:09.235393Z",
     "iopub.status.busy": "2025-07-09T11:58:09.235080Z",
     "iopub.status.idle": "2025-07-09T11:58:11.980813Z",
     "shell.execute_reply": "2025-07-09T11:58:11.979304Z",
     "shell.execute_reply.started": "2025-07-09T11:58:09.235364Z"
    }
   },
   "outputs": [],
   "source": [
    "import numpy as np\n",
    "import pandas as pd"
   ]
  },
  {
   "cell_type": "code",
   "execution_count": 38,
   "metadata": {
    "execution": {
     "iopub.execute_input": "2025-07-09T12:45:41.703752Z",
     "iopub.status.busy": "2025-07-09T12:45:41.703378Z",
     "iopub.status.idle": "2025-07-09T12:46:44.181534Z",
     "shell.execute_reply": "2025-07-09T12:46:44.180612Z",
     "shell.execute_reply.started": "2025-07-09T12:45:41.703712Z"
    }
   },
   "outputs": [],
   "source": [
    "train_raw = pd.read_csv('/kaggle/input/raw-data/train_data_converted_to_.csv')\n",
    "test_raw = pd.read_csv('/kaggle/input/raw-data/test_data_converted_to_.csv')"
   ]
  },
  {
   "cell_type": "code",
   "execution_count": 40,
   "metadata": {
    "execution": {
     "iopub.execute_input": "2025-07-09T12:46:56.660737Z",
     "iopub.status.busy": "2025-07-09T12:46:56.660403Z",
     "iopub.status.idle": "2025-07-09T12:46:57.038847Z",
     "shell.execute_reply": "2025-07-09T12:46:57.037756Z",
     "shell.execute_reply.started": "2025-07-09T12:46:56.660686Z"
    }
   },
   "outputs": [],
   "source": [
    "col_order = train_raw.columns.to_list()\n",
    "col_order.remove('y')\n",
    "test_raw = test_raw[col_order]"
   ]
  },
  {
   "cell_type": "code",
   "execution_count": 41,
   "metadata": {
    "execution": {
     "iopub.execute_input": "2025-07-09T12:47:03.890718Z",
     "iopub.status.busy": "2025-07-09T12:47:03.889563Z",
     "iopub.status.idle": "2025-07-09T12:47:03.899469Z",
     "shell.execute_reply": "2025-07-09T12:47:03.898503Z",
     "shell.execute_reply.started": "2025-07-09T12:47:03.890658Z"
    }
   },
   "outputs": [],
   "source": [
    "label = pd.read_csv('/kaggle/input/raw-data/mask_to_actual_labeling.csv')"
   ]
  },
  {
   "cell_type": "code",
   "execution_count": 42,
   "metadata": {
    "execution": {
     "iopub.execute_input": "2025-07-09T12:47:38.378600Z",
     "iopub.status.busy": "2025-07-09T12:47:38.378282Z",
     "iopub.status.idle": "2025-07-09T12:47:41.769321Z",
     "shell.execute_reply": "2025-07-09T12:47:41.767936Z",
     "shell.execute_reply.started": "2025-07-09T12:47:38.378578Z"
    }
   },
   "outputs": [],
   "source": [
    "zero_or_nan_cols = train_raw.columns[\n",
    "    ((train_raw == 0) | train_raw.isna()).all()\n",
    "].tolist()\n",
    "train_raw.drop(columns=zero_or_nan_cols,inplace=True)\n",
    "test_raw.drop(columns=zero_or_nan_cols,inplace=True)"
   ]
  },
  {
   "cell_type": "code",
   "execution_count": 43,
   "metadata": {
    "execution": {
     "iopub.execute_input": "2025-07-09T12:48:12.337266Z",
     "iopub.status.busy": "2025-07-09T12:48:12.336825Z",
     "iopub.status.idle": "2025-07-09T12:48:14.577586Z",
     "shell.execute_reply": "2025-07-09T12:48:14.576635Z",
     "shell.execute_reply.started": "2025-07-09T12:48:12.337240Z"
    }
   },
   "outputs": [],
   "source": [
    "columns_with_only_1_or_nan = train_raw.columns[\n",
    "    ((train_raw == 1) | train_raw.isna()).all()\n",
    "].tolist()\n",
    "for col in columns_with_only_1_or_nan:\n",
    "    train_raw[col] = train_raw[col].fillna(0)\n",
    "    test_raw[col] = test_raw[col].fillna(0)"
   ]
  },
  {
   "cell_type": "code",
   "execution_count": 44,
   "metadata": {
    "execution": {
     "iopub.execute_input": "2025-07-09T12:48:16.702928Z",
     "iopub.status.busy": "2025-07-09T12:48:16.702580Z",
     "iopub.status.idle": "2025-07-09T12:48:16.712743Z",
     "shell.execute_reply": "2025-07-09T12:48:16.711635Z",
     "shell.execute_reply.started": "2025-07-09T12:48:16.702903Z"
    }
   },
   "outputs": [],
   "source": [
    "methods = pd.read_csv('/kaggle/input/raw-data/Imputation_methods.csv')"
   ]
  },
  {
   "cell_type": "code",
   "execution_count": 45,
   "metadata": {
    "execution": {
     "iopub.execute_input": "2025-07-09T12:48:19.391602Z",
     "iopub.status.busy": "2025-07-09T12:48:19.391281Z",
     "iopub.status.idle": "2025-07-09T12:48:19.399260Z",
     "shell.execute_reply": "2025-07-09T12:48:19.398150Z",
     "shell.execute_reply.started": "2025-07-09T12:48:19.391579Z"
    }
   },
   "outputs": [
    {
     "data": {
      "text/plain": [
       "array(['full', 'mode', 'zero', 'deleted', 'mean', 'recalc', 'all zeros',\n",
       "       'mean_of_that_offer', 'mode_of_that_offer'], dtype=object)"
      ]
     },
     "execution_count": 45,
     "metadata": {},
     "output_type": "execute_result"
    }
   ],
   "source": [
    "methods['imputed with'].unique()"
   ]
  },
  {
   "cell_type": "code",
   "execution_count": 46,
   "metadata": {
    "execution": {
     "iopub.execute_input": "2025-07-09T12:48:26.394794Z",
     "iopub.status.busy": "2025-07-09T12:48:26.394125Z",
     "iopub.status.idle": "2025-07-09T12:48:26.404344Z",
     "shell.execute_reply": "2025-07-09T12:48:26.402985Z",
     "shell.execute_reply.started": "2025-07-09T12:48:26.394760Z"
    }
   },
   "outputs": [
    {
     "name": "stdout",
     "output_type": "stream",
     "text": [
      "Unnamed: 0\n",
      "f218\n"
     ]
    }
   ],
   "source": [
    "for col in train_raw.columns:\n",
    "    if col not in methods['masked_column'].to_list():\n",
    "        print(col)"
   ]
  },
  {
   "cell_type": "code",
   "execution_count": 47,
   "metadata": {
    "execution": {
     "iopub.execute_input": "2025-07-09T12:48:39.674859Z",
     "iopub.status.busy": "2025-07-09T12:48:39.674375Z",
     "iopub.status.idle": "2025-07-09T12:48:40.656761Z",
     "shell.execute_reply": "2025-07-09T12:48:40.655731Z",
     "shell.execute_reply.started": "2025-07-09T12:48:39.674814Z"
    }
   },
   "outputs": [],
   "source": [
    "train_raw.drop(columns=['Unnamed: 0','f218'],inplace=True)\n",
    "test_raw.drop(columns=['Unnamed: 0','f218'],inplace=True)"
   ]
  },
  {
   "cell_type": "code",
   "execution_count": 51,
   "metadata": {
    "execution": {
     "iopub.execute_input": "2025-07-09T12:50:33.976685Z",
     "iopub.status.busy": "2025-07-09T12:50:33.976261Z",
     "iopub.status.idle": "2025-07-09T12:50:38.882027Z",
     "shell.execute_reply": "2025-07-09T12:50:38.881120Z",
     "shell.execute_reply.started": "2025-07-09T12:50:33.976654Z"
    }
   },
   "outputs": [
    {
     "name": "stdout",
     "output_type": "stream",
     "text": [
      "id4  :  full\n",
      "id5  :  full\n",
      "f18  :  deleted\n",
      "f22  :  deleted\n",
      "f33  :  deleted\n",
      "f34  :  deleted\n",
      "f36  :  deleted\n",
      "f37  :  deleted\n",
      "f187  :  recalc\n",
      "f188  :  recalc\n",
      "f189  :  recalc\n",
      "f190  :  recalc\n",
      "f191  :  recalc\n",
      "f192  :  recalc\n",
      "f193  :  recalc\n",
      "f194  :  recalc\n",
      "f195  :  recalc\n",
      "f196  :  recalc\n",
      "f197  :  recalc\n",
      "f347  :  mean_of_that_offer\n",
      "f348  :  mode_of_that_offer\n"
     ]
    }
   ],
   "source": [
    "num_cols = label[label['Type']=='Numerical']['masked_column'].to_list()\n",
    "copy = num_cols.copy()\n",
    "for col in copy:\n",
    "    if col not in train_raw.columns:\n",
    "        num_cols.remove(col)\n",
    "for col in num_cols:\n",
    "    method = methods[methods['masked_column']==col]['imputed with'].to_list()[0]\n",
    "    if method=='mode':\n",
    "        train_raw[col] = train_raw[col].fillna(train_raw[col].mode()[0])\n",
    "        test_raw[col] = test_raw[col].fillna(test_raw[col].mode()[0])\n",
    "    elif method=='mean':\n",
    "        train_raw[col] = train_raw[col].fillna(train_raw[col].mean())\n",
    "        test_raw[col] = test_raw[col].fillna(test_raw[col].mean())\n",
    "    elif method=='zero':\n",
    "        train_raw[col] = train_raw[col].fillna(0)\n",
    "        test_raw[col] = test_raw[col].fillna(0)\n",
    "    else:\n",
    "        print(col,\" : \",method)"
   ]
  },
  {
   "cell_type": "code",
   "execution_count": 52,
   "metadata": {
    "execution": {
     "iopub.execute_input": "2025-07-09T12:50:48.637832Z",
     "iopub.status.busy": "2025-07-09T12:50:48.637500Z",
     "iopub.status.idle": "2025-07-09T12:50:48.671755Z",
     "shell.execute_reply": "2025-07-09T12:50:48.670733Z",
     "shell.execute_reply.started": "2025-07-09T12:50:48.637807Z"
    }
   },
   "outputs": [
    {
     "name": "stdout",
     "output_type": "stream",
     "text": [
      "f18\n",
      "1.0    689\n",
      "0.0      7\n",
      "Name: count, dtype: int64\n",
      "f22\n",
      "2.0       46383\n",
      "1.0       41374\n",
      "4.0       33285\n",
      "3.0       28870\n",
      "6.0       28111\n",
      "          ...  \n",
      "103.0         1\n",
      "3645.0        1\n",
      "470.0         1\n",
      "343.0         1\n",
      "143.0         1\n",
      "Name: count, Length: 245, dtype: int64\n",
      "f33\n",
      "1.0      18923\n",
      "2.0       5708\n",
      "3.0       1401\n",
      "4.0       1143\n",
      "5.0        435\n",
      "6.0        313\n",
      "8.0        228\n",
      "9.0        134\n",
      "14.0        87\n",
      "7.0         50\n",
      "11.0        16\n",
      "19.0         9\n",
      "10.0         8\n",
      "12.0         5\n",
      "13.0         4\n",
      "180.0        2\n",
      "117.0        1\n",
      "Name: count, dtype: int64\n",
      "f34\n",
      "1.0    393\n",
      "2.0      4\n",
      "3.0      4\n",
      "7.0      2\n",
      "4.0      1\n",
      "Name: count, dtype: int64\n",
      "f36\n",
      "61.0     926\n",
      "52.0     829\n",
      "86.0     718\n",
      "58.0     565\n",
      "103.0    534\n",
      "        ... \n",
      "305.0      1\n",
      "330.0      1\n",
      "586.0      1\n",
      "430.0      1\n",
      "582.0      1\n",
      "Name: count, Length: 483, dtype: int64\n",
      "f37\n",
      "1.0     768\n",
      "2.0     263\n",
      "5.0     104\n",
      "3.0      49\n",
      "4.0      20\n",
      "6.0       9\n",
      "8.0       9\n",
      "17.0      7\n",
      "11.0      4\n",
      "21.0      4\n",
      "18.0      3\n",
      "7.0       3\n",
      "9.0       2\n",
      "Name: count, dtype: int64\n"
     ]
    }
   ],
   "source": [
    "cols = ['f18','f22','f33','f34','f36','f37']\n",
    "for col in cols:\n",
    "    print(train_raw[col].value_counts())"
   ]
  },
  {
   "cell_type": "code",
   "execution_count": 53,
   "metadata": {
    "execution": {
     "iopub.execute_input": "2025-07-09T12:54:21.328373Z",
     "iopub.status.busy": "2025-07-09T12:54:21.326392Z",
     "iopub.status.idle": "2025-07-09T12:54:21.409241Z",
     "shell.execute_reply": "2025-07-09T12:54:21.408201Z",
     "shell.execute_reply.started": "2025-07-09T12:54:21.328295Z"
    }
   },
   "outputs": [],
   "source": [
    "train_raw['f18'] = train_raw['f18'].fillna(0)\n",
    "train_raw['f22'] = train_raw['f22'].fillna(0)\n",
    "train_raw['f33'] = train_raw['f33'].fillna(0)\n",
    "train_raw['f34'] = train_raw['f34'].fillna(0)\n",
    "train_raw['f36'] = train_raw['f36'].fillna(0)\n",
    "train_raw['f37'] = train_raw['f37'].fillna(0)\n",
    "\n",
    "test_raw['f18'] = test_raw['f18'].fillna(0)\n",
    "test_raw['f22'] = test_raw['f22'].fillna(0)\n",
    "test_raw['f33'] = test_raw['f33'].fillna(0)\n",
    "test_raw['f34'] = test_raw['f34'].fillna(0)\n",
    "test_raw['f36'] = test_raw['f36'].fillna(0)\n",
    "test_raw['f37'] = test_raw['f37'].fillna(0)"
   ]
  },
  {
   "cell_type": "code",
   "execution_count": 54,
   "metadata": {
    "execution": {
     "iopub.execute_input": "2025-07-09T12:54:37.010616Z",
     "iopub.status.busy": "2025-07-09T12:54:37.010320Z",
     "iopub.status.idle": "2025-07-09T12:54:38.609372Z",
     "shell.execute_reply": "2025-07-09T12:54:38.608141Z",
     "shell.execute_reply.started": "2025-07-09T12:54:37.010592Z"
    }
   },
   "outputs": [],
   "source": [
    "cols=[]\n",
    "for i in range(187,198):\n",
    "    col = 'f'+str(i)\n",
    "    cols.append(col)\n",
    "train_raw.drop(columns=cols,inplace=True)\n",
    "test_raw.drop(columns=cols,inplace=True)"
   ]
  },
  {
   "cell_type": "code",
   "execution_count": 55,
   "metadata": {
    "execution": {
     "iopub.execute_input": "2025-07-09T12:54:41.969774Z",
     "iopub.status.busy": "2025-07-09T12:54:41.969457Z",
     "iopub.status.idle": "2025-07-09T12:54:41.974599Z",
     "shell.execute_reply": "2025-07-09T12:54:41.973753Z",
     "shell.execute_reply.started": "2025-07-09T12:54:41.969751Z"
    }
   },
   "outputs": [],
   "source": [
    "cols2=[]\n",
    "for i in range(174,185):\n",
    "    col='f'+str(i)\n",
    "    cols2.append(col)"
   ]
  },
  {
   "cell_type": "code",
   "execution_count": 57,
   "metadata": {
    "execution": {
     "iopub.execute_input": "2025-07-09T12:56:37.550276Z",
     "iopub.status.busy": "2025-07-09T12:56:37.549635Z",
     "iopub.status.idle": "2025-07-09T12:56:40.052793Z",
     "shell.execute_reply": "2025-07-09T12:56:40.051810Z",
     "shell.execute_reply.started": "2025-07-09T12:56:37.550226Z"
    }
   },
   "outputs": [
    {
     "name": "stderr",
     "output_type": "stream",
     "text": [
      "/tmp/ipykernel_36/4203722678.py:2: PerformanceWarning: DataFrame is highly fragmented.  This is usually the result of calling `frame.insert` many times, which has poor performance.  Consider joining all columns at once using pd.concat(axis=1) instead. To get a de-fragmented frame, use `newframe = frame.copy()`\n",
      "  test_raw['dummy']=0\n",
      "/tmp/ipykernel_36/4203722678.py:7: PerformanceWarning: DataFrame is highly fragmented.  This is usually the result of calling `frame.insert` many times, which has poor performance.  Consider joining all columns at once using pd.concat(axis=1) instead. To get a de-fragmented frame, use `newframe = frame.copy()`\n",
      "  train_raw[col1] = train_raw[col2]/train_raw['dummy']\n",
      "/tmp/ipykernel_36/4203722678.py:8: PerformanceWarning: DataFrame is highly fragmented.  This is usually the result of calling `frame.insert` many times, which has poor performance.  Consider joining all columns at once using pd.concat(axis=1) instead. To get a de-fragmented frame, use `newframe = frame.copy()`\n",
      "  test_raw[col1] = test_raw[col2]/test_raw['dummy']\n",
      "/tmp/ipykernel_36/4203722678.py:7: PerformanceWarning: DataFrame is highly fragmented.  This is usually the result of calling `frame.insert` many times, which has poor performance.  Consider joining all columns at once using pd.concat(axis=1) instead. To get a de-fragmented frame, use `newframe = frame.copy()`\n",
      "  train_raw[col1] = train_raw[col2]/train_raw['dummy']\n",
      "/tmp/ipykernel_36/4203722678.py:8: PerformanceWarning: DataFrame is highly fragmented.  This is usually the result of calling `frame.insert` many times, which has poor performance.  Consider joining all columns at once using pd.concat(axis=1) instead. To get a de-fragmented frame, use `newframe = frame.copy()`\n",
      "  test_raw[col1] = test_raw[col2]/test_raw['dummy']\n",
      "/tmp/ipykernel_36/4203722678.py:7: PerformanceWarning: DataFrame is highly fragmented.  This is usually the result of calling `frame.insert` many times, which has poor performance.  Consider joining all columns at once using pd.concat(axis=1) instead. To get a de-fragmented frame, use `newframe = frame.copy()`\n",
      "  train_raw[col1] = train_raw[col2]/train_raw['dummy']\n",
      "/tmp/ipykernel_36/4203722678.py:8: PerformanceWarning: DataFrame is highly fragmented.  This is usually the result of calling `frame.insert` many times, which has poor performance.  Consider joining all columns at once using pd.concat(axis=1) instead. To get a de-fragmented frame, use `newframe = frame.copy()`\n",
      "  test_raw[col1] = test_raw[col2]/test_raw['dummy']\n",
      "/tmp/ipykernel_36/4203722678.py:7: PerformanceWarning: DataFrame is highly fragmented.  This is usually the result of calling `frame.insert` many times, which has poor performance.  Consider joining all columns at once using pd.concat(axis=1) instead. To get a de-fragmented frame, use `newframe = frame.copy()`\n",
      "  train_raw[col1] = train_raw[col2]/train_raw['dummy']\n",
      "/tmp/ipykernel_36/4203722678.py:8: PerformanceWarning: DataFrame is highly fragmented.  This is usually the result of calling `frame.insert` many times, which has poor performance.  Consider joining all columns at once using pd.concat(axis=1) instead. To get a de-fragmented frame, use `newframe = frame.copy()`\n",
      "  test_raw[col1] = test_raw[col2]/test_raw['dummy']\n",
      "/tmp/ipykernel_36/4203722678.py:7: PerformanceWarning: DataFrame is highly fragmented.  This is usually the result of calling `frame.insert` many times, which has poor performance.  Consider joining all columns at once using pd.concat(axis=1) instead. To get a de-fragmented frame, use `newframe = frame.copy()`\n",
      "  train_raw[col1] = train_raw[col2]/train_raw['dummy']\n",
      "/tmp/ipykernel_36/4203722678.py:8: PerformanceWarning: DataFrame is highly fragmented.  This is usually the result of calling `frame.insert` many times, which has poor performance.  Consider joining all columns at once using pd.concat(axis=1) instead. To get a de-fragmented frame, use `newframe = frame.copy()`\n",
      "  test_raw[col1] = test_raw[col2]/test_raw['dummy']\n",
      "/tmp/ipykernel_36/4203722678.py:7: PerformanceWarning: DataFrame is highly fragmented.  This is usually the result of calling `frame.insert` many times, which has poor performance.  Consider joining all columns at once using pd.concat(axis=1) instead. To get a de-fragmented frame, use `newframe = frame.copy()`\n",
      "  train_raw[col1] = train_raw[col2]/train_raw['dummy']\n",
      "/tmp/ipykernel_36/4203722678.py:8: PerformanceWarning: DataFrame is highly fragmented.  This is usually the result of calling `frame.insert` many times, which has poor performance.  Consider joining all columns at once using pd.concat(axis=1) instead. To get a de-fragmented frame, use `newframe = frame.copy()`\n",
      "  test_raw[col1] = test_raw[col2]/test_raw['dummy']\n",
      "/tmp/ipykernel_36/4203722678.py:7: PerformanceWarning: DataFrame is highly fragmented.  This is usually the result of calling `frame.insert` many times, which has poor performance.  Consider joining all columns at once using pd.concat(axis=1) instead. To get a de-fragmented frame, use `newframe = frame.copy()`\n",
      "  train_raw[col1] = train_raw[col2]/train_raw['dummy']\n",
      "/tmp/ipykernel_36/4203722678.py:8: PerformanceWarning: DataFrame is highly fragmented.  This is usually the result of calling `frame.insert` many times, which has poor performance.  Consider joining all columns at once using pd.concat(axis=1) instead. To get a de-fragmented frame, use `newframe = frame.copy()`\n",
      "  test_raw[col1] = test_raw[col2]/test_raw['dummy']\n",
      "/tmp/ipykernel_36/4203722678.py:7: PerformanceWarning: DataFrame is highly fragmented.  This is usually the result of calling `frame.insert` many times, which has poor performance.  Consider joining all columns at once using pd.concat(axis=1) instead. To get a de-fragmented frame, use `newframe = frame.copy()`\n",
      "  train_raw[col1] = train_raw[col2]/train_raw['dummy']\n",
      "/tmp/ipykernel_36/4203722678.py:8: PerformanceWarning: DataFrame is highly fragmented.  This is usually the result of calling `frame.insert` many times, which has poor performance.  Consider joining all columns at once using pd.concat(axis=1) instead. To get a de-fragmented frame, use `newframe = frame.copy()`\n",
      "  test_raw[col1] = test_raw[col2]/test_raw['dummy']\n",
      "/tmp/ipykernel_36/4203722678.py:7: PerformanceWarning: DataFrame is highly fragmented.  This is usually the result of calling `frame.insert` many times, which has poor performance.  Consider joining all columns at once using pd.concat(axis=1) instead. To get a de-fragmented frame, use `newframe = frame.copy()`\n",
      "  train_raw[col1] = train_raw[col2]/train_raw['dummy']\n",
      "/tmp/ipykernel_36/4203722678.py:8: PerformanceWarning: DataFrame is highly fragmented.  This is usually the result of calling `frame.insert` many times, which has poor performance.  Consider joining all columns at once using pd.concat(axis=1) instead. To get a de-fragmented frame, use `newframe = frame.copy()`\n",
      "  test_raw[col1] = test_raw[col2]/test_raw['dummy']\n",
      "/tmp/ipykernel_36/4203722678.py:7: PerformanceWarning: DataFrame is highly fragmented.  This is usually the result of calling `frame.insert` many times, which has poor performance.  Consider joining all columns at once using pd.concat(axis=1) instead. To get a de-fragmented frame, use `newframe = frame.copy()`\n",
      "  train_raw[col1] = train_raw[col2]/train_raw['dummy']\n",
      "/tmp/ipykernel_36/4203722678.py:8: PerformanceWarning: DataFrame is highly fragmented.  This is usually the result of calling `frame.insert` many times, which has poor performance.  Consider joining all columns at once using pd.concat(axis=1) instead. To get a de-fragmented frame, use `newframe = frame.copy()`\n",
      "  test_raw[col1] = test_raw[col2]/test_raw['dummy']\n",
      "/tmp/ipykernel_36/4203722678.py:7: PerformanceWarning: DataFrame is highly fragmented.  This is usually the result of calling `frame.insert` many times, which has poor performance.  Consider joining all columns at once using pd.concat(axis=1) instead. To get a de-fragmented frame, use `newframe = frame.copy()`\n",
      "  train_raw[col1] = train_raw[col2]/train_raw['dummy']\n",
      "/tmp/ipykernel_36/4203722678.py:8: PerformanceWarning: DataFrame is highly fragmented.  This is usually the result of calling `frame.insert` many times, which has poor performance.  Consider joining all columns at once using pd.concat(axis=1) instead. To get a de-fragmented frame, use `newframe = frame.copy()`\n",
      "  test_raw[col1] = test_raw[col2]/test_raw['dummy']\n"
     ]
    }
   ],
   "source": [
    "train_raw['dummy']=0\n",
    "test_raw['dummy']=0\n",
    "for col in cols2:\n",
    "    train_raw['dummy']+=train_raw[col]\n",
    "    test_raw['dummy']+=test_raw[col]\n",
    "for col1,col2 in zip(cols,cols2):\n",
    "    train_raw[col1] = train_raw[col2]/train_raw['dummy']\n",
    "    test_raw[col1] = test_raw[col2]/test_raw['dummy']\n",
    "train_raw.drop(columns=['dummy'],inplace=True)\n",
    "test_raw.drop(columns=['dummy'],inplace=True)"
   ]
  },
  {
   "cell_type": "code",
   "execution_count": 58,
   "metadata": {
    "execution": {
     "iopub.execute_input": "2025-07-09T12:57:24.222124Z",
     "iopub.status.busy": "2025-07-09T12:57:24.221804Z",
     "iopub.status.idle": "2025-07-09T12:57:27.350243Z",
     "shell.execute_reply": "2025-07-09T12:57:27.349005Z",
     "shell.execute_reply.started": "2025-07-09T12:57:24.222102Z"
    }
   },
   "outputs": [],
   "source": [
    "train_raw = train_raw.copy()\n",
    "test_raw = test_raw.copy()"
   ]
  },
  {
   "cell_type": "code",
   "execution_count": 59,
   "metadata": {
    "execution": {
     "iopub.execute_input": "2025-07-09T12:57:44.345686Z",
     "iopub.status.busy": "2025-07-09T12:57:44.345358Z",
     "iopub.status.idle": "2025-07-09T12:57:44.463665Z",
     "shell.execute_reply": "2025-07-09T12:57:44.462584Z",
     "shell.execute_reply.started": "2025-07-09T12:57:44.345663Z"
    }
   },
   "outputs": [],
   "source": [
    "for col in cols:\n",
    "    train_raw[col] = train_raw[col].fillna(0)\n",
    "    test_raw[col] = test_raw[col].fillna(0)"
   ]
  },
  {
   "cell_type": "code",
   "execution_count": 60,
   "metadata": {
    "execution": {
     "iopub.execute_input": "2025-07-09T12:58:07.816192Z",
     "iopub.status.busy": "2025-07-09T12:58:07.815660Z",
     "iopub.status.idle": "2025-07-09T12:58:07.929829Z",
     "shell.execute_reply": "2025-07-09T12:58:07.929055Z",
     "shell.execute_reply.started": "2025-07-09T12:58:07.816139Z"
    }
   },
   "outputs": [],
   "source": [
    "train_raw['f347'] = train_raw['f347'].fillna(train_raw.groupby('id3')['f347'].transform('mean'))\n",
    "train_raw['f348'] = train_raw['f348'].fillna(train_raw.groupby('id3')['f348'].transform('mean'))\n",
    "train_raw['f347'] = train_raw['f347'].fillna(0)\n",
    "train_raw['f348'] = train_raw['f348'].fillna(0)\n",
    "\n",
    "test_raw['f347'] = test_raw['f347'].fillna(test_raw.groupby('id3')['f347'].transform('mean'))\n",
    "test_raw['f348'] = test_raw['f348'].fillna(test_raw.groupby('id3')['f348'].transform('mean'))\n",
    "test_raw['f347'] = test_raw['f347'].fillna(0)\n",
    "test_raw['f348'] = test_raw['f348'].fillna(0)"
   ]
  },
  {
   "cell_type": "code",
   "execution_count": 61,
   "metadata": {
    "execution": {
     "iopub.execute_input": "2025-07-09T12:58:24.439946Z",
     "iopub.status.busy": "2025-07-09T12:58:24.439581Z",
     "iopub.status.idle": "2025-07-09T12:58:24.932718Z",
     "shell.execute_reply": "2025-07-09T12:58:24.931510Z",
     "shell.execute_reply.started": "2025-07-09T12:58:24.439921Z"
    }
   },
   "outputs": [],
   "source": [
    "onehot_cols = label[label['Type']=='One hot encoded']['masked_column'].to_list()\n",
    "copy = onehot_cols.copy()\n",
    "for col in copy:\n",
    "    if col not in train_raw.columns:\n",
    "        onehot_cols.remove(col)\n",
    "for col in onehot_cols:\n",
    "    train_raw[col] = train_raw[col].fillna(0)\n",
    "    test_raw[col] = test_raw[col].fillna(0)"
   ]
  },
  {
   "cell_type": "code",
   "execution_count": 62,
   "metadata": {
    "execution": {
     "iopub.execute_input": "2025-07-09T12:59:08.701375Z",
     "iopub.status.busy": "2025-07-09T12:59:08.701025Z",
     "iopub.status.idle": "2025-07-09T12:59:09.434503Z",
     "shell.execute_reply": "2025-07-09T12:59:09.433521Z",
     "shell.execute_reply.started": "2025-07-09T12:59:08.701354Z"
    }
   },
   "outputs": [],
   "source": [
    "import pandas.api.types as ptype\n",
    "cat_cols = label[label['Type']=='Categorical']['masked_column'].to_list()\n",
    "for col in cat_cols:\n",
    "    if ptype.is_object_dtype(train_raw[col]):\n",
    "        train_raw[col] = train_raw[col].fillna(\"__missing__\")\n",
    "        test_raw[col] = test_raw[col].fillna(\"__missing__\")\n",
    "    elif ptype.is_numeric_dtype(train_raw[col]):\n",
    "        train_raw[col] = train_raw[col].fillna(-1)\n",
    "        test_raw[col] = test_raw[col].fillna(-1)\n",
    "    else:\n",
    "        print(col)"
   ]
  },
  {
   "cell_type": "code",
   "execution_count": 63,
   "metadata": {
    "execution": {
     "iopub.execute_input": "2025-07-09T12:59:16.318648Z",
     "iopub.status.busy": "2025-07-09T12:59:16.318351Z",
     "iopub.status.idle": "2025-07-09T12:59:17.363198Z",
     "shell.execute_reply": "2025-07-09T12:59:17.362279Z",
     "shell.execute_reply.started": "2025-07-09T12:59:16.318628Z"
    }
   },
   "outputs": [
    {
     "data": {
      "text/plain": [
       "False"
      ]
     },
     "execution_count": 63,
     "metadata": {},
     "output_type": "execute_result"
    }
   ],
   "source": [
    "train_raw.isnull().any().any()"
   ]
  },
  {
   "cell_type": "code",
   "execution_count": 64,
   "metadata": {
    "execution": {
     "iopub.execute_input": "2025-07-09T12:59:26.621871Z",
     "iopub.status.busy": "2025-07-09T12:59:26.621520Z",
     "iopub.status.idle": "2025-07-09T12:59:27.121506Z",
     "shell.execute_reply": "2025-07-09T12:59:27.120769Z",
     "shell.execute_reply.started": "2025-07-09T12:59:26.621847Z"
    }
   },
   "outputs": [
    {
     "data": {
      "text/plain": [
       "False"
      ]
     },
     "execution_count": 64,
     "metadata": {},
     "output_type": "execute_result"
    }
   ],
   "source": [
    "test_raw.isnull().any().any()"
   ]
  },
  {
   "cell_type": "code",
   "execution_count": 66,
   "metadata": {
    "execution": {
     "iopub.execute_input": "2025-07-09T13:04:22.708579Z",
     "iopub.status.busy": "2025-07-09T13:04:22.708214Z",
     "iopub.status.idle": "2025-07-09T13:04:24.642940Z",
     "shell.execute_reply": "2025-07-09T13:04:24.642006Z",
     "shell.execute_reply.started": "2025-07-09T13:04:22.708552Z"
    }
   },
   "outputs": [],
   "source": [
    "train_raw['id4'] = pd.to_datetime(train_raw['id4'])\n",
    "test_raw['id4'] = pd.to_datetime(test_raw['id4'])\n",
    "\n",
    "train_raw['year'] = train_raw['id4'].dt.year\n",
    "train_raw['month'] = train_raw['id4'].dt.month\n",
    "train_raw['day'] = train_raw['id4'].dt.day\n",
    "train_raw['dayofweek'] = train_raw['id4'].dt.dayofweek # 0=Monday and 6=Sunday\n",
    "train_raw['weekofyear'] = train_raw['id4'].dt.isocalendar().week\n",
    "train_raw['quarter'] = train_raw['id4'].dt.quarter\n",
    "train_raw['hour'] = train_raw['id4'].dt.hour\n",
    "train_raw['minute'] = train_raw['id4'].dt.minute\n",
    "train_raw['second'] = train_raw['id4'].dt.second\n",
    "train_raw['is_month_start'] = train_raw['id4'].dt.is_month_start\n",
    "train_raw['is_month_end'] = train_raw['id4'].dt.is_month_end\n",
    "train_raw['is_weekend'] = train_raw['id4'].dt.dayofweek >= 5\n",
    "\n",
    "test_raw['year'] = test_raw['id4'].dt.year\n",
    "test_raw['month'] = test_raw['id4'].dt.month\n",
    "test_raw['day'] = test_raw['id4'].dt.day\n",
    "test_raw['dayofweek'] = test_raw['id4'].dt.dayofweek # 0=Monday and 6=Sunday\n",
    "test_raw['weekofyear'] = test_raw['id4'].dt.isocalendar().week\n",
    "test_raw['quarter'] = test_raw['id4'].dt.quarter\n",
    "test_raw['hour'] = test_raw['id4'].dt.hour\n",
    "test_raw['minute'] = test_raw['id4'].dt.minute\n",
    "test_raw['second'] = test_raw['id4'].dt.second\n",
    "test_raw['is_month_start'] = test_raw['id4'].dt.is_month_start\n",
    "test_raw['is_month_end'] = test_raw['id4'].dt.is_month_end\n",
    "test_raw['is_weekend'] = test_raw['id4'].dt.dayofweek >= 5\n",
    "\n",
    "train_raw.drop(columns=['id4'],inplace=True)\n",
    "test_raw.drop(columns=['id4'],inplace=True)"
   ]
  },
  {
   "cell_type": "code",
   "execution_count": 67,
   "metadata": {
    "execution": {
     "iopub.execute_input": "2025-07-09T13:05:17.549824Z",
     "iopub.status.busy": "2025-07-09T13:05:17.549499Z",
     "iopub.status.idle": "2025-07-09T13:05:17.555837Z",
     "shell.execute_reply": "2025-07-09T13:05:17.555026Z",
     "shell.execute_reply.started": "2025-07-09T13:05:17.549802Z"
    }
   },
   "outputs": [
    {
     "data": {
      "text/plain": [
       "(770164, 321)"
      ]
     },
     "execution_count": 67,
     "metadata": {},
     "output_type": "execute_result"
    }
   ],
   "source": [
    "train_raw.shape"
   ]
  },
  {
   "cell_type": "code",
   "execution_count": 68,
   "metadata": {
    "execution": {
     "iopub.execute_input": "2025-07-09T13:05:22.750347Z",
     "iopub.status.busy": "2025-07-09T13:05:22.749901Z",
     "iopub.status.idle": "2025-07-09T13:05:22.756958Z",
     "shell.execute_reply": "2025-07-09T13:05:22.756027Z",
     "shell.execute_reply.started": "2025-07-09T13:05:22.750316Z"
    }
   },
   "outputs": [
    {
     "data": {
      "text/plain": [
       "(369301, 320)"
      ]
     },
     "execution_count": 68,
     "metadata": {},
     "output_type": "execute_result"
    }
   ],
   "source": [
    "test_raw.shape"
   ]
  },
  {
   "cell_type": "code",
   "execution_count": 69,
   "metadata": {
    "execution": {
     "iopub.execute_input": "2025-07-09T13:07:30.988586Z",
     "iopub.status.busy": "2025-07-09T13:07:30.988191Z",
     "iopub.status.idle": "2025-07-09T13:07:31.251272Z",
     "shell.execute_reply": "2025-07-09T13:07:31.250086Z",
     "shell.execute_reply.started": "2025-07-09T13:07:30.988559Z"
    }
   },
   "outputs": [],
   "source": [
    "mask=list(train_raw['f29']>train_raw['f28'])\n",
    "train_raw.loc[mask,'f29']=0\n",
    "train_raw.loc[mask,'f28']=0\n",
    "\n",
    "mask=list(test_raw['f29']>test_raw['f28'])\n",
    "test_raw.loc[mask,'f29']=0\n",
    "test_raw.loc[mask,'f28']=0"
   ]
  },
  {
   "cell_type": "code",
   "execution_count": 70,
   "metadata": {
    "execution": {
     "iopub.execute_input": "2025-07-09T13:07:31.253137Z",
     "iopub.status.busy": "2025-07-09T13:07:31.252796Z",
     "iopub.status.idle": "2025-07-09T13:07:31.508018Z",
     "shell.execute_reply": "2025-07-09T13:07:31.506892Z",
     "shell.execute_reply.started": "2025-07-09T13:07:31.253109Z"
    }
   },
   "outputs": [],
   "source": [
    "mask=list(train_raw['f31']>train_raw['f30'])\n",
    "train_raw.loc[mask,'f30']=0\n",
    "train_raw.loc[mask,'f31']=0\n",
    "\n",
    "mask=list(test_raw['f31']>test_raw['f30'])\n",
    "test_raw.loc[mask,'f30']=0\n",
    "test_raw.loc[mask,'f31']=0"
   ]
  },
  {
   "cell_type": "code",
   "execution_count": 71,
   "metadata": {
    "execution": {
     "iopub.execute_input": "2025-07-09T13:10:03.874672Z",
     "iopub.status.busy": "2025-07-09T13:10:03.874157Z",
     "iopub.status.idle": "2025-07-09T13:16:32.269163Z",
     "shell.execute_reply": "2025-07-09T13:16:32.267579Z",
     "shell.execute_reply.started": "2025-07-09T13:10:03.874636Z"
    }
   },
   "outputs": [],
   "source": [
    "train_raw.to_csv('train_cleaned.csv',index=False)\n",
    "test_raw.to_csv('test_cleaned.csv',index=False)"
   ]
  },
  {
   "cell_type": "code",
   "execution_count": null,
   "metadata": {},
   "outputs": [],
   "source": []
  }
 ],
 "metadata": {
  "jupytext": {
   "formats": "ipynb,auto:light"
  },
  "kaggle": {
   "accelerator": "none",
   "dataSources": [
    {
     "datasetId": 7830994,
     "sourceId": 12416666,
     "sourceType": "datasetVersion"
    },
    {
     "datasetId": 7831013,
     "sourceId": 12416917,
     "sourceType": "datasetVersion"
    }
   ],
   "dockerImageVersionId": 31089,
   "isGpuEnabled": false,
   "isInternetEnabled": false,
   "language": "python",
   "sourceType": "notebook"
  },
  "kernelspec": {
   "display_name": "Python 3 (ipykernel)",
   "language": "python",
   "name": "python3"
  },
  "language_info": {
   "codemirror_mode": {
    "name": "ipython",
    "version": 3
   },
   "file_extension": ".py",
   "mimetype": "text/x-python",
   "name": "python",
   "nbconvert_exporter": "python",
   "pygments_lexer": "ipython3",
   "version": "3.12.3"
  }
 },
 "nbformat": 4,
 "nbformat_minor": 4
}
